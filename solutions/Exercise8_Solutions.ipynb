{
 "cells": [
  {
   "cell_type": "markdown",
   "id": "6f4623d8",
   "metadata": {},
   "source": [
    "# Exercise 8 - Solutions"
   ]
  },
  {
   "cell_type": "markdown",
   "id": "d34d5b26",
   "metadata": {},
   "source": [
    "###  1: $R^2$ without categorical variables\n",
    "#### a) \n",
    "$$\n",
    "R^2 \\sim \\textrm{Beta}\\left(\\frac{K-1}{2},\\frac{n-K}{2}\\right)\n",
    "$$\n",
    "\n",
    "$K$ is the number of categories and $n$ is the sample size. Thus, in our example we have:\n",
    "\n",
    "$$\n",
    "R^2 \\sim \\textrm{Beta}\\left(\\frac{10-1}{2},\\frac{100-10}{2}\\right)\n",
    "$$\n",
    "\n",
    "$$\n",
    "R^2 \\sim \\textrm{Beta}\\left(4.5,45\\right)\n",
    "$$"
   ]
  },
  {
   "cell_type": "markdown",
   "id": "b88f7aae",
   "metadata": {},
   "source": [
    "#### b)"
   ]
  },
  {
   "cell_type": "code",
   "execution_count": 129,
   "id": "64483f8b",
   "metadata": {},
   "outputs": [
    {
     "data": {
      "text/plain": [
       "array([[ 1.        , -0.10476825,  1.200623  , ..., -1.41062541,\n",
       "         0.21075197,  1.2063209 ],\n",
       "       [ 1.        , -0.21589238,  0.96266991, ..., -0.36334591,\n",
       "        -0.79925663, -0.85709784],\n",
       "       [ 1.        ,  1.57469391, -1.13584913, ...,  0.20837467,\n",
       "         0.15460931,  1.05707782],\n",
       "       ...,\n",
       "       [ 1.        , -1.02236039,  1.25271022, ..., -0.5335641 ,\n",
       "        -1.39146252, -0.60010705],\n",
       "       [ 1.        ,  0.20377649, -0.06238182, ...,  0.56699777,\n",
       "        -0.80739432,  0.055514  ],\n",
       "       [ 1.        , -1.56863791, -0.36914888, ..., -0.4010826 ,\n",
       "         0.69200444, -0.94896641]])"
      ]
     },
     "execution_count": 129,
     "metadata": {},
     "output_type": "execute_result"
    }
   ],
   "source": [
    "import statsmodels.api as sm\n",
    "import statsmodels.formula.api as smf\n",
    "import numpy as np\n",
    "import pandas as pd\n",
    "import matplotlib.pyplot as plt\n",
    "import seaborn as sns \n",
    "from scipy import stats\n",
    "\n",
    "# set the seed\n",
    "rng = np.random.default_rng(seed = 313)\n",
    "\n",
    "# simulate data and set parameter values\n",
    "n = 100\n",
    "K = 10\n",
    "n_reps = 10**4\n",
    "x = sm.add_constant(rng.normal(0, 1, (n, K)))\n",
    "y = rng.normal(0, 1, (n_reps, n))\n",
    "# What's x in this case?\n",
    "x"
   ]
  },
  {
   "cell_type": "markdown",
   "id": "90992519",
   "metadata": {},
   "source": [
    "Adjusting the function from the lecture:"
   ]
  },
  {
   "cell_type": "code",
   "execution_count": 130,
   "id": "89090f0f",
   "metadata": {},
   "outputs": [],
   "source": [
    "def func1d(y,x):\n",
    "    # fit OLS regression; this is equivalent to using formulas and putting x into an array.\n",
    "    fit = sm.OLS(y, x).fit()\n",
    "    return fit.rsquared\n",
    "\n",
    "\n",
    "# apply function for all n_reps\n",
    "rsqs = np.apply_along_axis(func1d = func1d, axis = 1, arr = y, x = x)\n"
   ]
  },
  {
   "cell_type": "markdown",
   "id": "cc31fe97",
   "metadata": {},
   "source": [
    "Plot the results:"
   ]
  },
  {
   "cell_type": "code",
   "execution_count": 131,
   "id": "f87fd801",
   "metadata": {},
   "outputs": [
    {
     "data": {
      "image/png": "[encoded data removed]",
      "text/plain": [
       "<Figure size 432x288 with 1 Axes>"
      ]
     },
     "metadata": {
      "needs_background": "light"
     },
     "output_type": "display_data"
    }
   ],
   "source": [
    "fig, ax = plt.subplots()\n",
    "\n",
    "# plot the historgram of R2 values, with superimposed theoretical distribution\n",
    "# We have K + 1 predictors, hence the theoretical distribution is\n",
    "xs = np.arange(0, 1, 0.001)\n",
    "sns.histplot(ax=ax,x = rsqs, stat = \"density\")\n",
    "ax.plot(xs, stats.beta.pdf(xs, (K)/2, (n - K - 1)/2), color = \"black\")\n",
    "plt.show()"
   ]
  },
  {
   "cell_type": "markdown",
   "id": "6a5ce74d",
   "metadata": {},
   "source": [
    "#### c)"
   ]
  },
  {
   "cell_type": "code",
   "execution_count": 132,
   "id": "eb8977f6",
   "metadata": {},
   "outputs": [
    {
     "data": {
      "image/png": "[encoded data removed]",
      "text/plain": [
       "<Figure size 432x288 with 1 Axes>"
      ]
     },
     "metadata": {
      "needs_background": "light"
     },
     "output_type": "display_data"
    }
   ],
   "source": [
    "# simulate data and set parameter values\n",
    "n = 100\n",
    "K = 20\n",
    "n_reps = 10**4\n",
    "x = sm.add_constant(rng.normal(0, 1, (n, K)))\n",
    "y = 1 + 2*x[:,1]+ rng.normal(0, 1, (n_reps, n))\n",
    "\n",
    "# apply function for all n_reps\n",
    "rsqs = np.apply_along_axis(func1d = func1d, axis = 1, arr = y, x = x)\n",
    "\n",
    "# create figure\n",
    "fig, ax = plt.subplots()\n",
    "\n",
    "# plot the historgram of R2 values, with superimposed theoretical distribution\n",
    "sns.histplot(ax=ax,x = rsqs, stat = \"density\")\n",
    "ax.plot(xs, stats.beta.pdf(xs, (K)/2, (n - K - 1)/2), color = \"black\")\n",
    "plt.show()"
   ]
  },
  {
   "cell_type": "markdown",
   "id": "9bdcb659",
   "metadata": {},
   "source": [
    "The simulated data should only align with the theoretical distribution, if the $H_0$ is true, i.e. when the independent variables do not explain $y$. If the $H_0$ is wrong, the distribution of $R^2$ is far from the theoretical one. This forms the basis for the statistical test. The smaller the probability mass of simulated draws under the theoretical $H_0$, the greater the evidence against the $H_0$. "
   ]
  },
  {
   "cell_type": "markdown",
   "id": "175ababe",
   "metadata": {},
   "source": [
    "### 2: $R^2$ and $F$"
   ]
  },
  {
   "cell_type": "markdown",
   "id": "a856d517",
   "metadata": {},
   "source": [
    "#### a)\n",
    "We have that:\n",
    "$$\n",
    "F(x) = \\frac{n-K}{K-1}\\frac{x}{1-x},\n",
    "$$\n",
    "\n",
    "The inverse function can be derived by exchanging $y$ and $x$ and solving the above equation for $y$:\n",
    "\n",
    "$$\n",
    "x = \\frac{n-K}{K-1}\\frac{y}{1-y}\n",
    "$$\n",
    "\n",
    "$$\n",
    "x \\frac{K-1}{n-K}= \\frac{y}{1-y}$$\n",
    "\n",
    "$$\n",
    " \\frac{n-K}{x(K-1)} = \\frac{1-y}{y}\n",
    "$$\n",
    "\n",
    "\n",
    "$$\n",
    "\\frac{(n-K)+x(K-1)}{x(K-1)} = \\frac{1}{y}\n",
    "$$\n",
    "\n",
    "$$\n",
    "y = \\frac{x(K-1)}{(n-K)+x(K-1)} \\:\\: or \\:\\: \\frac{x}{\\frac{(n-K)}{(K-1)}+x}\n",
    "$$\n",
    "\n",
    "to validate that the $F^{-1}(F(x))=x$ holds, we can simply plug $F(x)$ into our above expression and simplify:\n",
    "\n",
    "$$\n",
    "y = \\frac{\\frac{n-K}{K-1}\\frac{x}{1-x}(K-1)}{(n-K)+\\frac{n-K}{K-1}\\frac{x}{1-x}(K-1)} \n",
    "$$\n",
    "\n",
    "$$\n",
    "y = \\frac{(n-K)\\frac{x}{1-x}}{(n-K)+(n-K)\\frac{x}{1-x}} \n",
    "$$\n",
    "\n",
    "$$\n",
    "y = \\frac{\\frac{x}{1-x}}{1+\\frac{x}{1-x}} \n",
    "$$\n",
    "\n",
    "$$\n",
    "y = \\frac{\\frac{x}{1-x}}{\\frac{1-x}{1-x}+\\frac{x}{1-x}} = x\n",
    "$$"
   ]
  },
  {
   "cell_type": "markdown",
   "id": "a0b855f5",
   "metadata": {},
   "source": [
    "#### b)\n",
    "\n",
    "To answer b), we can simply use the inverse function that we derived above:\n"
   ]
  },
  {
   "cell_type": "code",
   "execution_count": 80,
   "id": "3893e87a",
   "metadata": {},
   "outputs": [],
   "source": [
    "def f_inv(F,n,k):\n",
    "    \n",
    "    a = (n-k)/(k-1)\n",
    "    \n",
    "    return F/(a+F)"
   ]
  },
  {
   "cell_type": "markdown",
   "id": "90540126",
   "metadata": {},
   "source": [
    "The $R^2$ is given by:"
   ]
  },
  {
   "cell_type": "code",
   "execution_count": 81,
   "id": "82685030",
   "metadata": {},
   "outputs": [
    {
     "data": {
      "text/plain": [
       "0.9244372990353698"
      ]
     },
     "execution_count": 81,
     "metadata": {},
     "output_type": "execute_result"
    }
   ],
   "source": [
    "n = 100\n",
    "K = 6\n",
    "F = 230\n",
    "\n",
    "f_inv(F,n,K)"
   ]
  },
  {
   "cell_type": "markdown",
   "id": "6c0cb840",
   "metadata": {},
   "source": [
    "#### c)"
   ]
  },
  {
   "cell_type": "markdown",
   "id": "65a68bd6",
   "metadata": {},
   "source": [
    "For $R^2$ = 0."
   ]
  },
  {
   "cell_type": "markdown",
   "id": "7feef8a2",
   "metadata": {},
   "source": [
    "### 3: Simulating with different errors\n",
    "#### a) Simulation Function"
   ]
  },
  {
   "cell_type": "code",
   "execution_count": 82,
   "id": "83508952",
   "metadata": {},
   "outputs": [],
   "source": [
    "def rsq_sim(n, x, n_reps, error):\n",
    "    \n",
    "    # preallocate array\n",
    "    rs_ = np.zeros([n_reps,1])\n",
    "    \n",
    "    # simulate data and run regression\n",
    "    for i in range(n_reps):\n",
    "        \n",
    "        # simulate data given x\n",
    "        residuals = error(n)\n",
    "        y = residuals\n",
    "        \n",
    "        # run regression\n",
    "        reg = sm.OLS(y, x)\n",
    "        reg_ = reg.fit()\n",
    "        \n",
    "        # save r2\n",
    "        rs_[i] = reg_.rsquared\n",
    "        \n",
    "        # retunr r2\n",
    "    return rs_\n",
    "    "
   ]
  },
  {
   "cell_type": "markdown",
   "id": "48ca118b",
   "metadata": {},
   "source": [
    "#### b) Trying out error terms\n",
    "Generate $x$: "
   ]
  },
  {
   "cell_type": "code",
   "execution_count": 121,
   "id": "3fcd7a7a",
   "metadata": {},
   "outputs": [],
   "source": [
    "n = 20\n",
    "K = 6\n",
    "n_reps = 10000\n",
    "\n",
    "# generate x\n",
    "x = sm.add_constant(rng.normal(0, 1,[n,K]))"
   ]
  },
  {
   "cell_type": "markdown",
   "id": "f66f7e52",
   "metadata": {},
   "source": [
    "Run the simulation for different error functions:"
   ]
  },
  {
   "cell_type": "code",
   "execution_count": 122,
   "id": "9eb95cab",
   "metadata": {},
   "outputs": [
    {
     "name": "stderr",
     "output_type": "stream",
     "text": [
      "C:\\Users\\jonas\\AppData\\Local\\Packages\\PythonSoftwareFoundation.Python.3.9_qbz5n2kfra8p0\\LocalCache\\local-packages\\Python39\\site-packages\\statsmodels\\regression\\linear_model.py:1738: RuntimeWarning: divide by zero encountered in double_scalars\n",
      "  return 1 - self.ssr/self.centered_tss\n"
     ]
    }
   ],
   "source": [
    "# set a seed\n",
    "np.random.default_rng(seed = 313)\n",
    "\n",
    "# call the function for various error distributions\n",
    "normal = rsq_sim(n, x, n_reps, lambda n: rng.normal(0, 1, n))\n",
    "exponential = rsq_sim(n, x, n_reps, lambda n: rng.exponential(1, n))\n",
    "geometric = rsq_sim(n, x, n_reps, lambda n: rng.geometric(0.5, n))\n",
    "standard_t = rsq_sim(n, x, n_reps, lambda n: rng.standard_t(3, n))"
   ]
  },
  {
   "cell_type": "markdown",
   "id": "37df34b3",
   "metadata": {},
   "source": [
    "#### c) Plotting"
   ]
  },
  {
   "cell_type": "code",
   "execution_count": 125,
   "id": "2f431593",
   "metadata": {},
   "outputs": [
    {
     "data": {
      "image/png": "[encoded data removed]",
      "text/plain": [
       "<Figure size 432x288 with 4 Axes>"
      ]
     },
     "metadata": {
      "needs_background": "light"
     },
     "output_type": "display_data"
    }
   ],
   "source": [
    "# create figure\n",
    "fig,ax = plt.subplots(2,2)\n",
    "xs = np.arange(0, 1, 0.001)\n",
    "\n",
    "# plot for normal errors\n",
    "sns.histplot(ax=ax[0,0],x = normal.flatten(), stat = \"density\")\n",
    "ax[0,0].plot(xs, stats.beta.pdf(xs, (K)/2, (n-K-1)/2), color = \"black\")\n",
    "\n",
    "# plot for exponential errors\n",
    "sns.histplot(ax=ax[0,1],x = exponential.flatten(), stat = \"density\")\n",
    "ax[0,1].plot(xs, stats.beta.pdf(xs, (K)/2, (n-K-1)/2), color = \"black\")\n",
    "\n",
    "# plot for geometric errors\n",
    "sns.histplot(ax=ax[1,0],x = geometric.flatten(), stat = \"density\")\n",
    "ax[1,0].plot(xs, stats.beta.pdf(xs, (K)/2, (n-K-1)/2), color = \"black\")\n",
    "\n",
    "# plot for standard-t errors\n",
    "sns.histplot(ax=ax[1,1],x = standard_t.flatten(), stat = \"density\")\n",
    "ax[1,1].plot(xs, stats.beta.pdf(xs, (K)/2, (n-K-1)/2), color = \"black\")\n",
    "\n",
    "plt.show()"
   ]
  },
  {
   "cell_type": "markdown",
   "id": "e77986f8",
   "metadata": {},
   "source": [
    "Non-normal errors have barely any effect on the distribution of $R^2$."
   ]
  }
 ],
 "metadata": {
  "interpreter": {
   "hash": "8214f72d23884c802e2dc6bec8e87b93e644d7518e94910628cfbca0d96cb336"
  },
  "kernelspec": {
   "display_name": "Python 3.9.7 64-bit (windows store)",
   "name": "python3"
  },
  "language_info": {
   "codemirror_mode": {
    "name": "ipython",
    "version": 3
   },
   "file_extension": ".py",
   "mimetype": "text/x-python",
   "name": "python",
   "nbconvert_exporter": "python",
   "pygments_lexer": "ipython3",
   "version": "3.9.7"
  }
 },
 "nbformat": 4,
 "nbformat_minor": 5
}
