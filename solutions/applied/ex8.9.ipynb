{
  "cells": [
    {
      "cell_type": "markdown",
      "metadata": {},
      "source": [
        "# Exercise 8.9 {.unnumbered}\n",
        "> This problem involves the `OJ` data set which is part of the ISLP\n",
        "package.\n"
      ],
      "id": "42c73843"
    },
    {
      "cell_type": "code",
      "metadata": {},
      "source": [
        "#| echo: False\n",
        "import numpy as np\n",
        "import pandas as pd\n",
        "import matplotlib.pyplot as plt\n",
        "import seaborn as sns"
      ],
      "id": "84428184",
      "execution_count": null,
      "outputs": []
    },
    {
      "cell_type": "code",
      "metadata": {},
      "source": [
        "oj = pd.read_csv(\"data/OJ.csv\")\n",
        "oj.head()"
      ],
      "id": "cba9191c",
      "execution_count": null,
      "outputs": []
    },
    {
      "cell_type": "markdown",
      "metadata": {},
      "source": [
        "## (a)\n",
        "> Create a training set containing a random sample of 800 observations, and a test set containing the remaining observations\n"
      ],
      "id": "7cde4e66"
    },
    {
      "cell_type": "code",
      "metadata": {},
      "source": [
        "from sklearn.model_selection import train_test_split\n",
        "\n",
        "X = oj.drop(\"Purchase\", axis=1).replace({\"Store7\":{\"Yes\": 1, \"No\": 0}})\n",
        "y = oj[\"Purchase\"].replace({\"CH\": 1, \"MM\": 0})\n",
        "\n",
        "X_train, X_test, y_train, y_test = train_test_split(\n",
        "    X, y, random_state=0, train_size=0.8\n",
        ")"
      ],
      "id": "8f32b557",
      "execution_count": null,
      "outputs": []
    },
    {
      "cell_type": "markdown",
      "metadata": {},
      "source": [
        "## (b)\n",
        "> Fit a tree to the training data, with Purchase as the response and the other variables as predictors. What is the training error rate?\n"
      ],
      "id": "f778f807"
    },
    {
      "cell_type": "code",
      "metadata": {},
      "source": [
        "from sklearn.tree import DecisionTreeClassifier\n",
        "\n",
        "clf = DecisionTreeClassifier(random_state=0, max_leaf_nodes=5)\n",
        "clf.fit(X_train, y_train)\n",
        "clf.score(X_test, y_test)"
      ],
      "id": "795ba844",
      "execution_count": null,
      "outputs": []
    },
    {
      "cell_type": "markdown",
      "metadata": {},
      "source": [
        "## (c)"
      ],
      "id": "f17d161c"
    },
    {
      "cell_type": "code",
      "metadata": {},
      "source": [
        "from sklearn.tree import plot_tree\n",
        "plot_tree(clf)"
      ],
      "id": "d168f30f",
      "execution_count": null,
      "outputs": []
    },
    {
      "cell_type": "markdown",
      "metadata": {},
      "source": [
        "The tree has $5$ terminal nodes (`clf.get_n_leaves()`). \n"
      ],
      "id": "9f0cc45a"
    },
    {
      "cell_type": "code",
      "metadata": {},
      "source": [
        "clf.get_n_leaves()"
      ],
      "id": "dd738026",
      "execution_count": null,
      "outputs": []
    },
    {
      "cell_type": "markdown",
      "metadata": {},
      "source": [
        "## (e)\n",
        "> Predict the response on the test data, and produce a confusion matrix comparing the test labels to the predicted test labels. What is the test error rate?\n"
      ],
      "id": "31e81645"
    },
    {
      "cell_type": "code",
      "metadata": {},
      "source": [
        "from sklearn.metrics import ConfusionMatrixDisplay\n",
        "ConfusionMatrixDisplay.from_estimator(clf, X_test, y_test)"
      ],
      "id": "52d860a3",
      "execution_count": null,
      "outputs": []
    },
    {
      "cell_type": "code",
      "metadata": {},
      "source": [
        "from sklearn.metrics import RocCurveDisplay\n",
        "RocCurveDisplay.from_estimator(clf, X_test, y_test)"
      ],
      "id": "345531ad",
      "execution_count": null,
      "outputs": []
    },
    {
      "cell_type": "code",
      "metadata": {},
      "source": [
        "from sklearn.metrics import RocCurveDisplay\n",
        "RocCurveDisplay.from_estimator(clf, X_test, y_test)"
      ],
      "id": "a2e8a5c9",
      "execution_count": null,
      "outputs": []
    },
    {
      "cell_type": "code",
      "metadata": {},
      "source": [
        "from sklearn.ensemble import GradientBoostingClassifier\n",
        "from sklearn.ensemble import RandomForestClassifier\n",
        "from sklearn.linear_model import LogisticRegression\n",
        "\n",
        "clf_boost = GradientBoostingClassifier()\n",
        "clf_boost.fit(X_train, y_train)\n",
        "clf_rf = RandomForestClassifier()\n",
        "clf_rf.fit(X_train, y_train)\n",
        "clf_logit = LogisticRegression()\n",
        "clf_logit.fit(X_train, y_train)\n",
        "\n",
        "_, ax = plt.subplots()\n",
        "RocCurveDisplay.from_estimator(clf_boost, X_test, y_test, ax=ax)\n",
        "RocCurveDisplay.from_estimator(clf, X_test, y_test, ax=ax)\n",
        "RocCurveDisplay.from_estimator(clf_rf, X_test, y_test, ax=ax)\n",
        "RocCurveDisplay.from_estimator(clf_logit, X_test, y_test, ax=ax)\n",
        "\n",
        "from sklearn.metrics import log_loss\n",
        "from sklearn.metrics import roc_auc_score\n",
        "from sklearn.metrics import accuracy_score\n",
        "\n",
        "loss = lambda clf: -log_loss(y_test, clf.predict_proba(X_test))\n",
        "aucl = lambda clf: roc_auc_score(y_test, clf.predict_proba(X_test)[:, 1])\n",
        "accl = lambda clf: accuracy_score(y_test, clf.predict(X_test))\n",
        "\n",
        "\n",
        "pd.DataFrame(\n",
        "    {\n",
        "        \"logloss\": [loss(clf_boost), loss(clf_rf), loss(clf_logit), loss(clf)],\n",
        "        \"AUC\": [aucl(clf_boost), aucl(clf_rf), aucl(clf_logit), aucl(clf)],\n",
        "        \"accuracy\": [accl(clf_boost), accl(clf_rf), accl(clf_logit), accl(clf)],\n",
        "    },\n",
        "    index=[\"boost\", \"random forest\", \"logit\", \"tree\"],\n",
        ")"
      ],
      "id": "4d89828a",
      "execution_count": null,
      "outputs": []
    },
    {
      "cell_type": "markdown",
      "metadata": {},
      "source": [
        "## (f)\n",
        "> Use cross-validation on the training set in order to determine the optimal tree size.\n"
      ],
      "id": "c2e17e85"
    },
    {
      "cell_type": "code",
      "metadata": {},
      "source": [
        "from sklearn.model_selection import GridSearchCV\n",
        "\n",
        "clf_cv = GridSearchCV(\n",
        "    DecisionTreeClassifier(random_state=0),\n",
        "    param_grid=[{\"max_leaf_nodes\": range(2, 20)}],\n",
        "    cv=5,\n",
        "    refit=\"neg_log_loss\",\n",
        "    scoring=[\"neg_log_loss\", \"accuracy\"],\n",
        ")\n",
        "\n",
        "clf_cv.fit(X_train, y_train)\n",
        "clf_cv.score(X_test, y_test)"
      ],
      "id": "b5dc2e19",
      "execution_count": null,
      "outputs": []
    },
    {
      "cell_type": "markdown",
      "metadata": {},
      "source": [
        "***Note:*** The score method is inconsistent here. To get accuracy we need\n"
      ],
      "id": "2e37e86e"
    },
    {
      "cell_type": "code",
      "metadata": {},
      "source": [
        "from sklearn.metrics import accuracy_score\n",
        "accuracy_score(clf_cv.predict(X_test), y_test)"
      ],
      "id": "b545b305",
      "execution_count": null,
      "outputs": []
    },
    {
      "cell_type": "markdown",
      "metadata": {},
      "source": [
        "## (g)\n",
        "> Produce a plot with tree size on the $x$-axis and cross-validated log loss on the $y$-axis.\n"
      ],
      "id": "f5cf8222"
    },
    {
      "cell_type": "code",
      "metadata": {},
      "source": [
        "x = [list(x.values())[0] for x in clf_cv.cv_results_[\"params\"]]\n",
        "y = clf_cv.cv_results_[\"mean_test_neg_log_loss\"]\n",
        "plt.plot(x,y)\n",
        "plt.xlabel(\"Maximal number of leaf nodes\")\n",
        "plt.ylabel(\"Cross-validated negative log loss\")"
      ],
      "id": "fe716037",
      "execution_count": null,
      "outputs": []
    },
    {
      "cell_type": "markdown",
      "metadata": {},
      "source": [
        "## (h)"
      ],
      "id": "436dd178"
    },
    {
      "cell_type": "code",
      "metadata": {},
      "source": [
        "x_acc = [list(x.values())[0] for x in clf_cv.cv_results_[\"params\"]]\n",
        "y_acc = clf_cv.cv_results_[\"mean_test_accuracy\"]\n",
        "plt.plot(x_acc,y_acc)\n",
        "plt.xlabel(\"Maximal number of leaf nodes\")\n",
        "plt.ylabel(\"Cross-validated accuracy score\")"
      ],
      "id": "acd71daf",
      "execution_count": null,
      "outputs": []
    },
    {
      "cell_type": "markdown",
      "metadata": {},
      "source": [
        "## (i)"
      ],
      "id": "c17abf3a"
    },
    {
      "cell_type": "code",
      "metadata": {},
      "source": [
        "x_acc = [list(x.values())[0] for x in clf_cv.cv_results_[\"params\"]]\n",
        "y_acc = clf_cv.cv_results_[\"mean_test_accuracy\"]\n",
        "plt.plot(x_acc,y_acc)\n",
        "plt.xlabel(\"Maximal number of leaf nodes\")\n",
        "plt.ylabel(\"Cross-validated accuracy score\")"
      ],
      "id": "14d29c41",
      "execution_count": null,
      "outputs": []
    },
    {
      "cell_type": "markdown",
      "metadata": {},
      "source": [
        "## (j)\n",
        "> Produce a pruned tree corresponding to the optimal tree size obtained using cross-validation. If cross-validation does not lead to selection of a pruned tree, then create a pruned tree with five terminal nodes.\n",
        "\n",
        "[Cost-complexity pruning](https://scikit-learn.org/stable/auto_examples/tree/plot_cost_complexity_pruning.html)\n"
      ],
      "id": "c6b84b42"
    },
    {
      "cell_type": "code",
      "metadata": {},
      "source": [
        "path = clf.cost_complexity_pruning_path(X_train, y_train)\n",
        "ccp_alphas = path.ccp_alphas"
      ],
      "id": "65e6b182",
      "execution_count": null,
      "outputs": []
    },
    {
      "cell_type": "markdown",
      "metadata": {},
      "source": [
        "## (with pipelines)"
      ],
      "id": "b98bc731"
    },
    {
      "cell_type": "code",
      "metadata": {},
      "source": [
        "X = oj.drop(\"Purchase\", axis=1)\n",
        "y = oj[\"Purchase\"]\n",
        "\n",
        "X_train, X_test, y_train, y_test = train_test_split(\n",
        "    X, y, random_state=0, train_size=0.8\n",
        ")\n",
        "from sklearn.pipeline import make_pipeline\n",
        "from sklearn.preprocessing import OneHotEncoder\n",
        "from sklearn.preprocessing import LabelBinarizer\n",
        "from sklearn.preprocessing import TargetEncoder\n",
        "from sklearn.compose import ColumnTransformer\n",
        "\n",
        "clf = make_pipeline(\n",
        "    ColumnTransformer(\n",
        "        [(\"Store7\", OneHotEncoder(), [\"Store7\"])],\n",
        "        remainder=\"passthrough\",\n",
        "    ),\n",
        "    DecisionTreeClassifier(random_state=0),\n",
        ")\n",
        "clf.fit(X_train, y_train)\n",
        "clf.score(X_test, y_test)"
      ],
      "id": "8bee2dcf",
      "execution_count": null,
      "outputs": []
    },
    {
      "cell_type": "markdown",
      "metadata": {},
      "source": [
        "## (c)\n",
        "> Create a plot of the tree, and interpret the results. How many terminal nodes does the tree have?\n"
      ],
      "id": "a27ef081"
    },
    {
      "cell_type": "code",
      "metadata": {},
      "source": [
        "plot_tree(clf.named_steps[\"decisiontreeclassifier\"])"
      ],
      "id": "db1cf262",
      "execution_count": null,
      "outputs": []
    },
    {
      "cell_type": "code",
      "metadata": {},
      "source": [
        "clf.get_n_leaves()"
      ],
      "id": "c82961bf",
      "execution_count": null,
      "outputs": []
    },
    {
      "cell_type": "markdown",
      "metadata": {},
      "source": [
        "## (d)\n",
        "> Predict the response on the test data, and produce a confusion matrix comparing the test labels to the predicted test labels. What is the test error rate?\n"
      ],
      "id": "865456df"
    }
  ],
  "metadata": {
    "kernelspec": {
      "name": "python3",
      "language": "python",
      "display_name": "Python 3 (ipykernel)"
    }
  },
  "nbformat": 4,
  "nbformat_minor": 5
}