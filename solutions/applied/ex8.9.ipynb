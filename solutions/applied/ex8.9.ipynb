{
  "cells": [
    {
      "cell_type": "markdown",
      "metadata": {},
      "source": [
        "# Exercise 8.9 {.unnumbered}\n",
        "> This problem involves the `OJ` data set which is part of the ISLP\n",
        "package.\n"
      ],
      "id": "43f111f2"
    },
    {
      "cell_type": "code",
      "metadata": {},
      "source": [
        "#| echo: False\n",
        "import numpy as np\n",
        "import pandas as pd\n",
        "import matplotlib.pyplot as plt\n",
        "import seaborn as sns"
      ],
      "id": "85d74098",
      "execution_count": null,
      "outputs": []
    },
    {
      "cell_type": "code",
      "metadata": {},
      "source": [
        "oj = pd.read_csv(\"data/OJ.csv\")\n",
        "oj.head()"
      ],
      "id": "d2ddf547",
      "execution_count": null,
      "outputs": []
    },
    {
      "cell_type": "markdown",
      "metadata": {},
      "source": [
        "## (a)\n",
        "> Create a training set containing a random sample of 800 observations, and a test set containing the remaining observations\n"
      ],
      "id": "5e07bdc1"
    },
    {
      "cell_type": "code",
      "metadata": {},
      "source": [
        "from sklearn.model_selection import train_test_split\n",
        "\n",
        "X = oj.drop(\"Purchase\", axis=1).replace({\"Store7\":{\"Yes\": 1, \"No\": 0}})\n",
        "y = oj[\"Purchase\"].replace({\"CH\": 1, \"MM\": 0})\n",
        "\n",
        "X_train, X_test, y_train, y_test = train_test_split(\n",
        "    X, y, random_state=0, train_size=0.8\n",
        ")"
      ],
      "id": "1d0c410b",
      "execution_count": null,
      "outputs": []
    },
    {
      "cell_type": "markdown",
      "metadata": {},
      "source": [
        "## (b)\n",
        "> Fit a tree to the training data, with Purchase as the response and the other variables as predictors. What is the training error rate?\n"
      ],
      "id": "4c966728"
    },
    {
      "cell_type": "code",
      "metadata": {},
      "source": [
        "from sklearn.tree import DecisionTreeClassifier\n",
        "\n",
        "clf = DecisionTreeClassifier(random_state=0, max_leaf_nodes=5)\n",
        "clf.fit(X_train, y_train)\n",
        "clf.score(X_test, y_test)"
      ],
      "id": "f1a9ba37",
      "execution_count": null,
      "outputs": []
    },
    {
      "cell_type": "markdown",
      "metadata": {},
      "source": [
        "## (c)"
      ],
      "id": "9ced438b"
    },
    {
      "cell_type": "code",
      "metadata": {},
      "source": [
        "from sklearn.tree import plot_tree\n",
        "plot_tree(clf)"
      ],
      "id": "de21fec0",
      "execution_count": null,
      "outputs": []
    },
    {
      "cell_type": "markdown",
      "metadata": {},
      "source": [
        "The tree has $5$ terminal nodes (`clf.get_n_leaves()`). \n"
      ],
      "id": "1d9b49f4"
    },
    {
      "cell_type": "code",
      "metadata": {},
      "source": [
        "clf.get_n_leaves()"
      ],
      "id": "31afb718",
      "execution_count": null,
      "outputs": []
    },
    {
      "cell_type": "markdown",
      "metadata": {},
      "source": [
        "## (e)\n",
        "> Predict the response on the test data, and produce a confusion matrix comparing the test labels to the predicted test labels. What is the test error rate?\n"
      ],
      "id": "26721e54"
    },
    {
      "cell_type": "code",
      "metadata": {},
      "source": [
        "from sklearn.metrics import ConfusionMatrixDisplay\n",
        "ConfusionMatrixDisplay.from_estimator(clf, X_test, y_test)"
      ],
      "id": "d2252cdc",
      "execution_count": null,
      "outputs": []
    },
    {
      "cell_type": "code",
      "metadata": {},
      "source": [
        "from sklearn.metrics import RocCurveDisplay\n",
        "RocCurveDisplay.from_estimator(clf, X_test, y_test)"
      ],
      "id": "5cf445c7",
      "execution_count": null,
      "outputs": []
    },
    {
      "cell_type": "markdown",
      "metadata": {},
      "source": [
        "## (f)\n",
        "> Use cross-validation on the training set in order to determine the optimal tree size.\n"
      ],
      "id": "dc02aac9"
    },
    {
      "cell_type": "code",
      "metadata": {},
      "source": [
        "from sklearn.model_selection import GridSearchCV\n",
        "\n",
        "clf_cv = GridSearchCV(\n",
        "    DecisionTreeClassifier(random_state=0),\n",
        "    param_grid=[{\"max_leaf_nodes\": range(2, 20)}],\n",
        "    cv=5,\n",
        "    refit=\"neg_log_loss\",\n",
        "    scoring=[\"neg_log_loss\", \"accuracy\"],\n",
        ")\n",
        "\n",
        "clf_cv.fit(X_train, y_train)\n",
        "clf_cv.score(X_test, y_test)"
      ],
      "id": "6bb68f48",
      "execution_count": null,
      "outputs": []
    },
    {
      "cell_type": "markdown",
      "metadata": {},
      "source": [
        "***Note:*** The score method is inconsistent here. To get accuracy we need\n"
      ],
      "id": "c7c13535"
    },
    {
      "cell_type": "code",
      "metadata": {},
      "source": [
        "from sklearn.metrics import accuracy_score\n",
        "accuracy_score(clf_cv.predict(X_test), y_test)"
      ],
      "id": "741500ff",
      "execution_count": null,
      "outputs": []
    },
    {
      "cell_type": "markdown",
      "metadata": {},
      "source": [
        "## (g)\n",
        "> Produce a plot with tree size on the $x$-axis and cross-validated\n",
        "log loss on the $y$-axis.\n"
      ],
      "id": "c24deb82"
    },
    {
      "cell_type": "code",
      "metadata": {},
      "source": [
        "x = [list(x.values())[0] for x in clf_cv.cv_results_[\"params\"]]\n",
        "y = clf_cv.cv_results_[\"mean_test_score\"]\n",
        "plt.plot(x,y)\n",
        "plt.xlabel(\"Maximal number of leaf nodes\")\n",
        "plt.ylabel(\"Cross-validated negative log loss\")"
      ],
      "id": "cd4c9c3f",
      "execution_count": null,
      "outputs": []
    },
    {
      "cell_type": "markdown",
      "metadata": {},
      "source": [
        "## (with pipelines)"
      ],
      "id": "05f3849b"
    },
    {
      "cell_type": "code",
      "metadata": {},
      "source": [
        "X = oj.drop(\"Purchase\", axis=1)\n",
        "y = oj[\"Purchase\"]\n",
        "\n",
        "X_train, X_test, y_train, y_test = train_test_split(\n",
        "    X, y, random_state=0, train_size=0.8\n",
        ")\n",
        "from sklearn.pipeline import make_pipeline\n",
        "from sklearn.preprocessing import OneHotEncoder\n",
        "from sklearn.preprocessing import LabelBinarizer\n",
        "from sklearn.preprocessing import TargetEncoder\n",
        "from sklearn.compose import ColumnTransformer\n",
        "\n",
        "clf = make_pipeline(\n",
        "    ColumnTransformer(\n",
        "        [(\"Store7\", OneHotEncoder(), [\"Store7\"])],\n",
        "        remainder=\"passthrough\",\n",
        "    ),\n",
        "    DecisionTreeClassifier(random_state=0),\n",
        ")\n",
        "clf.fit(X_train, y_train)\n",
        "clf.score(X_test, y_test)"
      ],
      "id": "3c45f0ec",
      "execution_count": null,
      "outputs": []
    },
    {
      "cell_type": "markdown",
      "metadata": {},
      "source": [
        "## (c)\n",
        "> Create a plot of the tree, and interpret the results. How many terminal nodes does the tree have?\n"
      ],
      "id": "eb0c36a8"
    },
    {
      "cell_type": "code",
      "metadata": {},
      "source": [
        "plot_tree(clf.named_steps[\"decisiontreeclassifier\"])"
      ],
      "id": "df55e421",
      "execution_count": null,
      "outputs": []
    },
    {
      "cell_type": "code",
      "metadata": {},
      "source": [
        "clf.get_n_leaves()"
      ],
      "id": "cad7d628",
      "execution_count": null,
      "outputs": []
    },
    {
      "cell_type": "markdown",
      "metadata": {},
      "source": [
        "## (d)\n",
        "> Predict the response on the test data, and produce a confusion matrix comparing the test labels to the predicted test labels. What is the test error rate?\n"
      ],
      "id": "47d6b2ff"
    }
  ],
  "metadata": {
    "kernelspec": {
      "name": "python3",
      "language": "python",
      "display_name": "Python 3 (ipykernel)"
    }
  },
  "nbformat": 4,
  "nbformat_minor": 5
}