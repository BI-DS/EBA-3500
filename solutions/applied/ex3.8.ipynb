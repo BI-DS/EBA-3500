{
  "cells": [
    {
      "cell_type": "raw",
      "metadata": {},
      "source": [
        "---\n",
        "title: Solution to exercise 2.1\n",
        "author: Jonas Moss\n",
        "date: last-modified\n",
        "execute:\n",
        "  echo: true\n",
        "reference-location: margin\n",
        "citation-location: margin\n",
        "---"
      ],
      "id": "f80a2616"
    },
    {
      "cell_type": "markdown",
      "metadata": {},
      "source": [
        "> We use the `auto` data in this exercise. Provided the data is in the data folder, we obtain.\n"
      ],
      "id": "1d50ece1"
    },
    {
      "cell_type": "code",
      "metadata": {},
      "source": [
        "#| echo: False\n",
        "import numpy as np\n",
        "import pandas as pd\n",
        "import matplotlib.pyplot as plt\n",
        "import seaborn as sns\n",
        "import statsmodels.formula.api as smf"
      ],
      "id": "8ce35322",
      "execution_count": null,
      "outputs": []
    },
    {
      "cell_type": "code",
      "metadata": {},
      "source": [
        "#| echo: False\n",
        "auto = pd.read_csv(\"data/Auto.csv\", na_values=\"?\", index_col=\"name\").dropna()\n",
        "auto.replace({\"origin\": {1: \"American\", 2: \"European\", 3: \"Japanese\"}}, inplace = True)\n",
        "auto.head()"
      ],
      "id": "29e86cca",
      "execution_count": null,
      "outputs": []
    },
    {
      "cell_type": "markdown",
      "metadata": {},
      "source": [
        "## (a) \n",
        "> Use the `smf.ols()` function to perform a simple linear regression\n",
        "with mpg as the response and horsepower as the predictor.\n"
      ],
      "id": "5d695f19"
    },
    {
      "cell_type": "code",
      "metadata": {},
      "source": [
        "#| echo: False\n",
        "fit=smf.ols(\"mpg~horsepower\", data=auto).fit()\n",
        "fit.rsquared   # Prediction strength.\n",
        "fit.params     # Parameters\n",
        "fit.pvalues    # p-values\n",
        "fit.conf_int() # Confidence interval.\n",
        "fit.predict({\"horsepower\": 98}) "
      ],
      "id": "644fa867",
      "execution_count": null,
      "outputs": []
    },
    {
      "cell_type": "markdown",
      "metadata": {},
      "source": [
        "## (b)\n",
        "> Plot the response and the predictor in a new set of axes ax. Use the ax.axline() method or the abline() function defned in the lab to display the least squares regression line. \n"
      ],
      "id": "b93f60eb"
    },
    {
      "cell_type": "code",
      "metadata": {},
      "source": [
        "#auto.plot.scatter(\"horsepower\", \"mpg\")\n",
        "plt.axline(0, slope = 1)\n",
        "plt.show()"
      ],
      "id": "b7863c2c",
      "execution_count": null,
      "outputs": []
    }
  ],
  "metadata": {
    "kernelspec": {
      "name": "python3",
      "language": "python",
      "display_name": "Python 3 (ipykernel)"
    }
  },
  "nbformat": 4,
  "nbformat_minor": 5
}