{
  "cells": [
    {
      "cell_type": "markdown",
      "metadata": {},
      "source": [
        "# Statistical learning, machine learning, and statistics\n",
        "\n",
        "::: callout-note\n",
        "\n",
        "**Update:** 9/11: Solution sketches to some exercises.\n",
        "**Update:** 26/10: Removed everything about `R` since there is a Python version of the book!\n",
        "\n",
        "**Update:** 25/10: More about `R`.\n",
        "\n",
        ":::\n",
        "\n",
        "## Curriculum\n",
        "\n",
        "The book can be found [here](https://www.statlearning.com); be sure to choose the one using Python!\n",
        "\n",
        "* James et al., Chapter 1: Introduction\n",
        "* James et al., Chapter 2: Statistical learning\n",
        "\n",
        "\n",
        "## Exercises\n",
        "Exercises from James et. al. Chapter 2.\n",
        "\n",
        "### Applied\n",
        "- 2.4.8 Link to the book website can be found above.\n",
        "- 2.4.9 This is highly exam relevant. We'll go through this exercise in the exercise session.\n",
        "\n",
        "### Conceptual\n",
        "- 2.4.1.\n",
        "- 2.4.5.\n",
        "- 2.4.2.\n",
        "- 2.4.3. Do it on pen and paper; use the internet if needed\n",
        "- 2.4.4.\n",
        "\n",
        "### Some solutions\n",
        "\n",
        "#### 2.4.1\n",
        "* (a) The large sample size combined with few allows to you estimate a flexible model without overfitting. So you should at least try a flexible model. But inflexible models are easier to interpret, so you should try them to. In general, you should always at least *compare* the results of flexible and inflexible models. \n",
        "* (b) This happens e.g. in genetic studies, where you have thousands of genes to study and a small number of participants. Here you absolutely need to use an inflexible model, way more inflexible than the linear regression model. (Search the book for \"LASSO\" for more information.)\n",
        "* (c) When the true functional relationship is highly non-linear, inflexible models are unlikely to perform well. But you still have to take into account the number of observations and number of predictors. If the number of observations is large vs. the number of predictors, definitely go inflexible.\n",
        "* (d) If the variance of the error term is high *relative to the scale of the data*, then flexible models are likely to overfit, since they will misinterpret the noise in the data. A high error variance in itself does not mean anything though.\n",
        "\n",
        "### 2.4.2\n",
        "* (a) Regression; inference; $n=500$, $p=3$. \n",
        "* (b) Classification; prediction; $n=20$, $p=13$.\n",
        "* (c) Regression; prediction; $n=52$ weeks, $p=3$.\n",
        "\n",
        "### 2.4.9\n",
        "First you important the data \n"
      ],
      "id": "90488091"
    },
    {
      "cell_type": "code",
      "metadata": {},
      "source": [
        "auto = pd.read_csv(\"Auto.csv\", na_values=\"?\")\n",
        "auto = auto.dropna()"
      ],
      "id": "c20a8050",
      "execution_count": null,
      "outputs": []
    },
    {
      "cell_type": "markdown",
      "metadata": {},
      "source": [
        "Here the `na_values=\"?\"` transforms instances of `?` into NAs (not a number). We\n",
        "do this to force the `horsepower` covariate to be numeric, which it has to be. The `dropna()` method\n",
        "removes all rows containing at least one `NA` from the data frame.\n",
        "\n",
        "#### (a)"
      ],
      "id": "aa69f7ac"
    },
    {
      "cell_type": "code",
      "metadata": {},
      "source": [
        "auto.info()"
      ],
      "id": "a6c5f346",
      "execution_count": null,
      "outputs": []
    },
    {
      "cell_type": "markdown",
      "metadata": {},
      "source": [
        "We see that every variable is numeric except the `name` covariate, which is the\n",
        "name of the car model. Most of the variables are self-explanatory except `origin`.\n",
        "\n",
        "### (b)"
      ],
      "id": "f380ba41"
    },
    {
      "cell_type": "code",
      "metadata": {},
      "source": [
        "auto.min()\n",
        "auto.max()"
      ],
      "id": "aa5f121d",
      "execution_count": null,
      "outputs": []
    },
    {
      "cell_type": "markdown",
      "metadata": {},
      "source": [
        "### (c)"
      ],
      "id": "7320808a"
    },
    {
      "cell_type": "code",
      "metadata": {},
      "source": [
        "auto.drop(\"name\", axis=1).mean()\n",
        "auto.drop(\"name\", axis=1).std()"
      ],
      "id": "acd35c1e",
      "execution_count": null,
      "outputs": []
    },
    {
      "cell_type": "markdown",
      "metadata": {},
      "source": [
        "### (d)\n",
        "We need to reset the index of the data frame since we have removed the NAs."
      ],
      "id": "10835421"
    },
    {
      "cell_type": "code",
      "metadata": {},
      "source": [
        "auto_new = auto.reset_index()\n",
        "del auto_new['index']\n",
        "auto_new = auto_new.drop(list(range(10, 86)))"
      ],
      "id": "5c52c726",
      "execution_count": null,
      "outputs": []
    },
    {
      "cell_type": "markdown",
      "metadata": {},
      "source": [
        "Now you can call `.mean()`, and so on, on `auto_new`.\n",
        "\n",
        "### (e)\n",
        "\n",
        "**Use `pairplot` and a correlation matrix!**\n",
        "The most important graph is the `pairplot` from Seaborn. Here you can see univariate scatterplots for every combination of values; moreover, you can see the histograms for each variable."
      ],
      "id": "306177d5"
    },
    {
      "cell_type": "code",
      "metadata": {},
      "source": [
        "import seaborn as sns\n",
        "sns.pairplot(auto)\n",
        "plt.show()"
      ],
      "id": "b4407a24",
      "execution_count": null,
      "outputs": []
    },
    {
      "cell_type": "markdown",
      "metadata": {},
      "source": [
        "Now we look at the correlation matrix. This displays the pairwise correlation\n",
        "for all combinations of variables. Recall that the correlation measures the\n",
        "degree of linear relationship between two variables, with $1$ being perfect positive\n",
        "relationship and $-1$ being perfect negative relationship. You're interested in\n",
        "pairs with a high correlation magnitude."
      ],
      "id": "bfac0d67"
    },
    {
      "cell_type": "code",
      "metadata": {},
      "source": [
        "auto.drop(\"name\", axis=1).corr()"
      ],
      "id": "f433df19",
      "execution_count": null,
      "outputs": []
    },
    {
      "cell_type": "markdown",
      "metadata": {},
      "source": [
        "The whole correlation matrix isn't shown. To fix this, use e.g."
      ],
      "id": "3a343e23"
    },
    {
      "cell_type": "code",
      "metadata": {},
      "source": [
        "import pandas as pd\n",
        "pd.set_option('display.height', 1000)\n",
        "pd.set_option('display.max_rows', 500)\n",
        "pd.set_option('display.max_columns', 500)\n",
        "pd.set_option('display.width', 1000)\n",
        "auto.drop(\"name\", axis=1).corr()"
      ],
      "id": "a45ad5e1",
      "execution_count": null,
      "outputs": []
    },
    {
      "cell_type": "markdown",
      "metadata": {},
      "source": [
        "### (e)\n",
        "The variables `weight`, `cylindeer`, and `displacement` are very strongly related, and\n",
        "it probably suffices to choose one of them to predict `mpg`. All of them are highly correlated with `mpg`, \n",
        "but `weight` has the strongest relationship.\n",
        "The variables `year` and `origin` and `acceleration` are also strongly related to `mpg`, but not as strongly related to `cylinder` and `displacement` as weight is, and are not correlated with each other. "
      ],
      "id": "1194aae9"
    }
  ],
  "metadata": {
    "kernelspec": {
      "name": "python3",
      "language": "python",
      "display_name": "Python 3 (ipykernel)"
    }
  },
  "nbformat": 4,
  "nbformat_minor": 5
}