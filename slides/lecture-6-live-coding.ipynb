{
  "nbformat": 4,
  "nbformat_minor": 0,
  "metadata": {
    "colab": {
      "provenance": [],
      "collapsed_sections": []
    },
    "kernelspec": {
      "name": "python3",
      "display_name": "Python 3"
    },
    "language_info": {
      "name": "python"
    }
  },
  "cells": [
    {
      "cell_type": "markdown",
      "source": [
        "## Penguins"
      ],
      "metadata": {
        "id": "UgmoNQR9ENO-"
      }
    },
    {
      "cell_type": "markdown",
      "source": [
        "The `seaborn` package has a bunch of included data sets, such as the `penguins`data set."
      ],
      "metadata": {
        "id": "JQFbqC1EGGlN"
      }
    },
    {
      "cell_type": "code",
      "source": [
        "import seaborn as sns\n",
        "penguins = sns.load_dataset(\"penguins\")\n",
        "penguins.head()"
      ],
      "metadata": {
        "id": "-OITswn7Fcbl"
      },
      "execution_count": null,
      "outputs": []
    },
    {
      "cell_type": "code",
      "source": [
        "penguins.shape"
      ],
      "metadata": {
        "id": "WZoM4NjKGJZH"
      },
      "execution_count": null,
      "outputs": []
    },
    {
      "cell_type": "code",
      "source": [
        "from collections import Counter\n",
        "Counter(penguins.island)"
      ],
      "metadata": {
        "id": "O36cfH_DGXfF"
      },
      "execution_count": null,
      "outputs": []
    },
    {
      "cell_type": "markdown",
      "source": [
        "We can plot this using `countplot`."
      ],
      "metadata": {
        "id": "-kPbn-gIGdF1"
      }
    },
    {
      "cell_type": "code",
      "source": [
        "sns.countplot(x=\"island\", data=penguins)"
      ],
      "metadata": {
        "id": "IOdcY3xHGaIe"
      },
      "execution_count": null,
      "outputs": []
    },
    {
      "cell_type": "markdown",
      "source": [
        "Using `groupby` we can calculate summary statistics across groups."
      ],
      "metadata": {
        "id": "a_fuMV_hGm63"
      }
    },
    {
      "cell_type": "code",
      "source": [
        "penguins.groupby(\"island\").mean()"
      ],
      "metadata": {
        "id": "bP26Mi4mGkW2"
      },
      "execution_count": null,
      "outputs": []
    },
    {
      "cell_type": "markdown",
      "source": [
        "This also works for other functions, e.g. `std`."
      ],
      "metadata": {
        "id": "YQron1mOGvLe"
      }
    },
    {
      "cell_type": "code",
      "source": [
        "penguins.groupby(\"island\").std()"
      ],
      "metadata": {
        "id": "8xx08galGzb4"
      },
      "execution_count": null,
      "outputs": []
    },
    {
      "cell_type": "markdown",
      "source": [
        "Now let's run a regression! Our categorical covariates are the islands; our response is the bill length."
      ],
      "metadata": {
        "id": "t6jhvTC_G9JW"
      }
    },
    {
      "cell_type": "code",
      "source": [
        "fit = smf.ols(\"\"\"bill_length_mm ~ I(1 * (island == 'Biscoe'))\n",
        "  + I(1 * (island == 'Dream')) \n",
        "  + I(1 * (island == 'Torgersen')) - 1\"\"\", \n",
        "  data = penguins).fit()\n",
        "  \n",
        "fit.summary()"
      ],
      "metadata": {
        "id": "i-5_-PMcHDvg"
      },
      "execution_count": null,
      "outputs": []
    },
    {
      "cell_type": "code",
      "source": [
        "fit = smf.ols(\"bill_length_mm ~ C(island) - 1\", data = penguins).fit()\n",
        "fit.summary()"
      ],
      "metadata": {
        "id": "pqUMIZ7LHTAJ"
      },
      "execution_count": null,
      "outputs": []
    },
    {
      "cell_type": "code",
      "source": [
        "fit.pvalues"
      ],
      "metadata": {
        "id": "17rEmVR1Hhv_"
      },
      "execution_count": null,
      "outputs": []
    },
    {
      "cell_type": "markdown",
      "source": [
        "Here we see that all of the beta coefficients are highly significant. But what does that mean? It means that the mean length of the bills are unlikely to be  for every island! What we typically care about is whether there is a difference between the islands, say Biscoe and Dream."
      ],
      "metadata": {
        "id": "G4Qgk96nHnun"
      }
    },
    {
      "cell_type": "code",
      "source": [
        "fit2 = smf.ols(\"bill_length_mm ~ C(island)\", data = penguins).fit()\n",
        "fit2.summary()"
      ],
      "metadata": {
        "id": "OcB_F_r9HbhY"
      },
      "execution_count": null,
      "outputs": []
    },
    {
      "cell_type": "markdown",
      "source": [
        "In this run of the regression model, there is no `C(island)[Biscoe]` because this coefficient has been absorbed into a *baseline*.\n",
        "\n"
      ],
      "metadata": {
        "id": "XtX0nBNPHsL4"
      }
    },
    {
      "cell_type": "code",
      "source": [
        "fit.params"
      ],
      "metadata": {
        "id": "mu71V1LMHza4"
      },
      "execution_count": null,
      "outputs": []
    },
    {
      "cell_type": "code",
      "source": [
        "fit2.params\n"
      ],
      "metadata": {
        "id": "-Kf5sokTH1Wx"
      },
      "execution_count": null,
      "outputs": []
    },
    {
      "cell_type": "markdown",
      "source": [
        "How do we find `Dream`? Add the baseline!"
      ],
      "metadata": {
        "id": "MFLuHwvYH78A"
      }
    },
    {
      "cell_type": "code",
      "source": [
        "fit2.params[0] + fit2.params[1]\n"
      ],
      "metadata": {
        "id": "dPUz5-vBIBN4"
      },
      "execution_count": null,
      "outputs": []
    },
    {
      "cell_type": "code",
      "source": [
        "fit.params[1]\n"
      ],
      "metadata": {
        "id": "HOdMkyU4IC_Y"
      },
      "execution_count": null,
      "outputs": []
    },
    {
      "cell_type": "markdown",
      "source": [
        "## Titanic"
      ],
      "metadata": {
        "id": "wqxzS2qjEzTT"
      }
    },
    {
      "cell_type": "code",
      "source": [
        "import seaborn as sns\n",
        "titanic = sns.load_dataset(\"titanic\")\n",
        "titanic.head()"
      ],
      "metadata": {
        "id": "N-WmZr1aE4Z9"
      },
      "execution_count": null,
      "outputs": []
    },
    {
      "cell_type": "code",
      "source": [
        "titanic.shape"
      ],
      "metadata": {
        "id": "De4g1BWjISVA"
      },
      "execution_count": null,
      "outputs": []
    },
    {
      "cell_type": "code",
      "source": [
        "titanic.groupby(\"sex\").mean()"
      ],
      "metadata": {
        "id": "TxASf9DJIcGZ"
      },
      "execution_count": null,
      "outputs": []
    },
    {
      "cell_type": "code",
      "source": [
        "smf.ols(\"survived ~ C(sex)\", data = titanic).fit().summary()"
      ],
      "metadata": {
        "id": "DRUGOl3gIj4K"
      },
      "execution_count": null,
      "outputs": []
    },
    {
      "cell_type": "markdown",
      "source": [
        "How about $k$ categories then?"
      ],
      "metadata": {
        "id": "xLVzQ3SXIzaQ"
      }
    },
    {
      "cell_type": "code",
      "source": [
        "from collections import Counter\n",
        "Counter(titanic[\"class\"])"
      ],
      "metadata": {
        "id": "10MZIQihI4G6"
      },
      "execution_count": null,
      "outputs": []
    },
    {
      "cell_type": "code",
      "source": [
        "smf.ols(\"survived ~ Q('class')\", data = titanic).fit().summary()"
      ],
      "metadata": {
        "id": "K7tLsZ58Jb9T"
      },
      "execution_count": null,
      "outputs": []
    },
    {
      "cell_type": "markdown",
      "source": [
        "Since both *p*-values are truly small, class has an effect. "
      ],
      "metadata": {
        "id": "ofZPOWFoKKKm"
      }
    },
    {
      "cell_type": "code",
      "source": [
        "smf.ols(\"survived ~ Q('class')\", data = titanic.sample(n = 20, random_state=1)).fit().summary()"
      ],
      "metadata": {
        "id": "eGAkeYJ8KQ9T"
      },
      "execution_count": null,
      "outputs": []
    },
    {
      "cell_type": "markdown",
      "source": [
        "## The $F$ test."
      ],
      "metadata": {
        "id": "zJbGqBwTDbgz"
      }
    },
    {
      "cell_type": "code",
      "execution_count": null,
      "metadata": {
        "id": "PgaHNQL1_J2B"
      },
      "outputs": [],
      "source": [
        "import pandas as pd\n",
        "import statsmodels.formula.api as smf\n",
        "# Example taken from https://towardsdatascience.com/anova-test-with-python-cfbf4013328b.\n",
        "students = pd.read_csv(\"https://userpage.fu-berlin.de/soga/200/2010_data_sets/students.csv\")\n",
        "students.head()"
      ]
    },
    {
      "cell_type": "code",
      "source": [
        "students.major.dtype"
      ],
      "metadata": {
        "id": "gYQ7jrGQCvwL"
      },
      "execution_count": null,
      "outputs": []
    },
    {
      "cell_type": "markdown",
      "source": [
        "This is already encoded as categorical data!"
      ],
      "metadata": {
        "id": "0QrnkgwPC3pQ"
      }
    },
    {
      "cell_type": "code",
      "source": [
        "smf.ols(\"salary ~ major - 1\", data = students).fit().summary()"
      ],
      "metadata": {
        "id": "LalGUYBhBijZ"
      },
      "execution_count": null,
      "outputs": []
    },
    {
      "cell_type": "markdown",
      "source": [
        "This data contains more categorical variables, e.g. `minor`."
      ],
      "metadata": {
        "id": "f4FuoxYACrnF"
      }
    },
    {
      "cell_type": "code",
      "source": [
        "smf.ols(\"salary ~ major + minor - 1\", data = students).fit().summary()"
      ],
      "metadata": {
        "id": "TA2fbqtgB7iw"
      },
      "execution_count": null,
      "outputs": []
    },
    {
      "cell_type": "markdown",
      "source": [
        "Can we find the $F$ statistic for the minor too? Yes, by using `anova_lm`! (With argumen `type = 3`.)"
      ],
      "metadata": {
        "id": "USeUXmh2Chhy"
      }
    },
    {
      "cell_type": "code",
      "source": [
        "from statsmodels.stats.anova import anova_lm\n",
        "anova_lm(smf.ols(\"salary ~ major + minor - 1\", data = students).fit(), type = 3)"
      ],
      "metadata": {
        "id": "afypwvElCNIW"
      },
      "execution_count": null,
      "outputs": []
    },
    {
      "cell_type": "markdown",
      "source": [
        "We can continue on with this, testing, e.g., the influence of religion."
      ],
      "metadata": {
        "id": "3d4mZA5OC-oo"
      }
    },
    {
      "cell_type": "code",
      "source": [
        "smf.ols(\"salary ~ major + minor + religion - 1\", data = students).fit().summary()"
      ],
      "metadata": {
        "id": "cZY8oqdVDFuB"
      },
      "execution_count": null,
      "outputs": []
    },
    {
      "cell_type": "code",
      "source": [
        "anova_lm(smf.ols(\"salary ~ major + minor + religion - 1\", data = students).fit(), type = 3)"
      ],
      "metadata": {
        "id": "Sbu2sKOaDM7T"
      },
      "execution_count": null,
      "outputs": []
    },
    {
      "cell_type": "markdown",
      "source": [
        "It also works for numerical covariates."
      ],
      "metadata": {
        "id": "OFafOCfdDSA4"
      }
    },
    {
      "cell_type": "code",
      "source": [
        "anova_lm(smf.ols(\"salary ~ major + minor + religion + age - 1\", data = students,).fit(), type = 3)"
      ],
      "metadata": {
        "id": "HJcfHTG8DUcq"
      },
      "execution_count": null,
      "outputs": []
    }
  ]
}