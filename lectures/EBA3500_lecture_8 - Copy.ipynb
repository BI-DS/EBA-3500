{
  "nbformat": 4,
  "nbformat_minor": 0,
  "metadata": {
    "colab": {
      "name": "EBA3500-lecture-8",
      "provenance": [],
      "collapsed_sections": []
    },
    "kernelspec": {
      "name": "python3",
      "display_name": "Python 3"
    },
    "language_info": {
      "name": "python"
    }
  },
  "cells": [
    {
      "cell_type": "markdown",
      "metadata": {
        "id": "cXdeN6tD7Z7S"
      },
      "source": [
        "# EBA3500 Lecture 8. Categorical variables: Interaction and testing."
      ]
    },
    {
      "cell_type": "markdown",
      "metadata": {
        "id": "O2HOse_gXgvM"
      },
      "source": [
        "We'll use the `titanic` data set once again. "
      ]
    },
    {
      "cell_type": "code",
      "metadata": {
        "colab": {
          "base_uri": "https://localhost:8080/"
        },
        "id": "tvmWAYTEXQ4x",
        "outputId": "16873284-fe5e-4763-b0bf-c8dcf1f3932e"
      },
      "source": [
        "!pip install pyreadr\n",
        "import pyreadr, os, pathlib\n",
        "\n",
        "def pyreadr_load(url, local_file = \"temp_pyreadr.rda\"):\n",
        "  \"\"\"Download the R dataset at the specified url into local_file, load the \n",
        "  local file, delete the local file. Return the dataset.\"\"\"\n",
        "  \n",
        "  file_name = pyreadr.download_file(url, local_file)\n",
        "  dataframe = pyreadr.read_r(file_name)\n",
        "  os.remove(str(pathlib.Path().resolve()) + \"/\" + file_name)\n",
        "  name = next(iter(dataframe.items()))[0]\n",
        "  return dataframe[name]"
      ],
      "execution_count": 142,
      "outputs": [
        {
          "output_type": "stream",
          "name": "stdout",
          "text": [
            "Requirement already satisfied: pyreadr in /usr/local/lib/python3.7/dist-packages (0.4.2)\n",
            "Requirement already satisfied: pandas>0.24.0 in /usr/local/lib/python3.7/dist-packages (from pyreadr) (1.1.5)\n",
            "Requirement already satisfied: pytz>=2017.2 in /usr/local/lib/python3.7/dist-packages (from pandas>0.24.0->pyreadr) (2018.9)\n",
            "Requirement already satisfied: numpy>=1.15.4 in /usr/local/lib/python3.7/dist-packages (from pandas>0.24.0->pyreadr) (1.19.5)\n",
            "Requirement already satisfied: python-dateutil>=2.7.3 in /usr/local/lib/python3.7/dist-packages (from pandas>0.24.0->pyreadr) (2.8.2)\n",
            "Requirement already satisfied: six>=1.5 in /usr/local/lib/python3.7/dist-packages (from python-dateutil>=2.7.3->pandas>0.24.0->pyreadr) (1.15.0)\n"
          ]
        }
      ]
    },
    {
      "cell_type": "code",
      "metadata": {
        "colab": {
          "base_uri": "https://localhost:8080/",
          "height": 203
        },
        "id": "fmxEl8P6XR_3",
        "outputId": "3d875229-140e-4170-f470-dacf1e028419"
      },
      "source": [
        "url = 'https://github.com/kassambara/datarium/blob/master/data/titanic.raw.rda?raw=true'\n",
        "titanic = pyreadr_load(url)\n",
        "titanic.head()"
      ],
      "execution_count": 143,
      "outputs": [
        {
          "output_type": "execute_result",
          "data": {
            "text/html": [
              "<div>\n",
              "<style scoped>\n",
              "    .dataframe tbody tr th:only-of-type {\n",
              "        vertical-align: middle;\n",
              "    }\n",
              "\n",
              "    .dataframe tbody tr th {\n",
              "        vertical-align: top;\n",
              "    }\n",
              "\n",
              "    .dataframe thead th {\n",
              "        text-align: right;\n",
              "    }\n",
              "</style>\n",
              "<table border=\"1\" class=\"dataframe\">\n",
              "  <thead>\n",
              "    <tr style=\"text-align: right;\">\n",
              "      <th></th>\n",
              "      <th>Class</th>\n",
              "      <th>Sex</th>\n",
              "      <th>Age</th>\n",
              "      <th>Survived</th>\n",
              "    </tr>\n",
              "  </thead>\n",
              "  <tbody>\n",
              "    <tr>\n",
              "      <th>0</th>\n",
              "      <td>3rd</td>\n",
              "      <td>Male</td>\n",
              "      <td>Child</td>\n",
              "      <td>No</td>\n",
              "    </tr>\n",
              "    <tr>\n",
              "      <th>1</th>\n",
              "      <td>3rd</td>\n",
              "      <td>Male</td>\n",
              "      <td>Child</td>\n",
              "      <td>No</td>\n",
              "    </tr>\n",
              "    <tr>\n",
              "      <th>2</th>\n",
              "      <td>3rd</td>\n",
              "      <td>Male</td>\n",
              "      <td>Child</td>\n",
              "      <td>No</td>\n",
              "    </tr>\n",
              "    <tr>\n",
              "      <th>3</th>\n",
              "      <td>3rd</td>\n",
              "      <td>Male</td>\n",
              "      <td>Child</td>\n",
              "      <td>No</td>\n",
              "    </tr>\n",
              "    <tr>\n",
              "      <th>4</th>\n",
              "      <td>3rd</td>\n",
              "      <td>Male</td>\n",
              "      <td>Child</td>\n",
              "      <td>No</td>\n",
              "    </tr>\n",
              "  </tbody>\n",
              "</table>\n",
              "</div>"
            ],
            "text/plain": [
              "  Class   Sex    Age Survived\n",
              "0   3rd  Male  Child       No\n",
              "1   3rd  Male  Child       No\n",
              "2   3rd  Male  Child       No\n",
              "3   3rd  Male  Child       No\n",
              "4   3rd  Male  Child       No"
            ]
          },
          "metadata": {},
          "execution_count": 143
        }
      ]
    },
    {
      "cell_type": "markdown",
      "metadata": {
        "id": "L7FeeOmP-iHp"
      },
      "source": [
        "## The omnibus test"
      ]
    },
    {
      "cell_type": "markdown",
      "metadata": {
        "id": "w_FXd3JZ-2hx"
      },
      "source": [
        "Omnibus sounds scary, but is latin for \"all\". It also an archaic way of saying \"bus\"."
      ]
    },
    {
      "cell_type": "markdown",
      "metadata": {
        "id": "ol5EPZPm-0rZ"
      },
      "source": [
        "Recall the Titanic data. How can we test if there is a real difference in survival between the sexes? Easy, we run a *t*-test. Equivalently, we run a linear regression and look at the *p*-value of one of the category not in the baseline."
      ]
    },
    {
      "cell_type": "code",
      "metadata": {
        "id": "WwoX21eGCRum"
      },
      "source": [
        "titanic[\"Survived_01\"] = 1 * (titanic.Survived == \"Yes\")"
      ],
      "execution_count": 144,
      "outputs": []
    },
    {
      "cell_type": "code",
      "metadata": {
        "colab": {
          "base_uri": "https://localhost:8080/",
          "height": 418
        },
        "id": "UnazIIOyBrfO",
        "outputId": "478c3724-1b0b-43fc-de9b-beb256717bde"
      },
      "source": [
        "x = titanic[titanic[\"Sex\"] == \"Female\"]\n",
        "x"
      ],
      "execution_count": 145,
      "outputs": [
        {
          "output_type": "execute_result",
          "data": {
            "text/html": [
              "<div>\n",
              "<style scoped>\n",
              "    .dataframe tbody tr th:only-of-type {\n",
              "        vertical-align: middle;\n",
              "    }\n",
              "\n",
              "    .dataframe tbody tr th {\n",
              "        vertical-align: top;\n",
              "    }\n",
              "\n",
              "    .dataframe thead th {\n",
              "        text-align: right;\n",
              "    }\n",
              "</style>\n",
              "<table border=\"1\" class=\"dataframe\">\n",
              "  <thead>\n",
              "    <tr style=\"text-align: right;\">\n",
              "      <th></th>\n",
              "      <th>Class</th>\n",
              "      <th>Sex</th>\n",
              "      <th>Age</th>\n",
              "      <th>Survived</th>\n",
              "      <th>Survived_01</th>\n",
              "    </tr>\n",
              "  </thead>\n",
              "  <tbody>\n",
              "    <tr>\n",
              "      <th>35</th>\n",
              "      <td>3rd</td>\n",
              "      <td>Female</td>\n",
              "      <td>Child</td>\n",
              "      <td>No</td>\n",
              "      <td>0</td>\n",
              "    </tr>\n",
              "    <tr>\n",
              "      <th>36</th>\n",
              "      <td>3rd</td>\n",
              "      <td>Female</td>\n",
              "      <td>Child</td>\n",
              "      <td>No</td>\n",
              "      <td>0</td>\n",
              "    </tr>\n",
              "    <tr>\n",
              "      <th>37</th>\n",
              "      <td>3rd</td>\n",
              "      <td>Female</td>\n",
              "      <td>Child</td>\n",
              "      <td>No</td>\n",
              "      <td>0</td>\n",
              "    </tr>\n",
              "    <tr>\n",
              "      <th>38</th>\n",
              "      <td>3rd</td>\n",
              "      <td>Female</td>\n",
              "      <td>Child</td>\n",
              "      <td>No</td>\n",
              "      <td>0</td>\n",
              "    </tr>\n",
              "    <tr>\n",
              "      <th>39</th>\n",
              "      <td>3rd</td>\n",
              "      <td>Female</td>\n",
              "      <td>Child</td>\n",
              "      <td>No</td>\n",
              "      <td>0</td>\n",
              "    </tr>\n",
              "    <tr>\n",
              "      <th>...</th>\n",
              "      <td>...</td>\n",
              "      <td>...</td>\n",
              "      <td>...</td>\n",
              "      <td>...</td>\n",
              "      <td>...</td>\n",
              "    </tr>\n",
              "    <tr>\n",
              "      <th>2196</th>\n",
              "      <td>Crew</td>\n",
              "      <td>Female</td>\n",
              "      <td>Adult</td>\n",
              "      <td>Yes</td>\n",
              "      <td>1</td>\n",
              "    </tr>\n",
              "    <tr>\n",
              "      <th>2197</th>\n",
              "      <td>Crew</td>\n",
              "      <td>Female</td>\n",
              "      <td>Adult</td>\n",
              "      <td>Yes</td>\n",
              "      <td>1</td>\n",
              "    </tr>\n",
              "    <tr>\n",
              "      <th>2198</th>\n",
              "      <td>Crew</td>\n",
              "      <td>Female</td>\n",
              "      <td>Adult</td>\n",
              "      <td>Yes</td>\n",
              "      <td>1</td>\n",
              "    </tr>\n",
              "    <tr>\n",
              "      <th>2199</th>\n",
              "      <td>Crew</td>\n",
              "      <td>Female</td>\n",
              "      <td>Adult</td>\n",
              "      <td>Yes</td>\n",
              "      <td>1</td>\n",
              "    </tr>\n",
              "    <tr>\n",
              "      <th>2200</th>\n",
              "      <td>Crew</td>\n",
              "      <td>Female</td>\n",
              "      <td>Adult</td>\n",
              "      <td>Yes</td>\n",
              "      <td>1</td>\n",
              "    </tr>\n",
              "  </tbody>\n",
              "</table>\n",
              "<p>470 rows × 5 columns</p>\n",
              "</div>"
            ],
            "text/plain": [
              "     Class     Sex    Age Survived  Survived_01\n",
              "35     3rd  Female  Child       No            0\n",
              "36     3rd  Female  Child       No            0\n",
              "37     3rd  Female  Child       No            0\n",
              "38     3rd  Female  Child       No            0\n",
              "39     3rd  Female  Child       No            0\n",
              "...    ...     ...    ...      ...          ...\n",
              "2196  Crew  Female  Adult      Yes            1\n",
              "2197  Crew  Female  Adult      Yes            1\n",
              "2198  Crew  Female  Adult      Yes            1\n",
              "2199  Crew  Female  Adult      Yes            1\n",
              "2200  Crew  Female  Adult      Yes            1\n",
              "\n",
              "[470 rows x 5 columns]"
            ]
          },
          "metadata": {},
          "execution_count": 145
        }
      ]
    },
    {
      "cell_type": "code",
      "metadata": {
        "colab": {
          "base_uri": "https://localhost:8080/",
          "height": 418
        },
        "id": "4oziWqa8CYDs",
        "outputId": "6fc68078-b1fb-43d9-8d5a-1d895e98ba24"
      },
      "source": [
        "y = titanic[titanic[\"Sex\"] == \"Male\"]\n",
        "y"
      ],
      "execution_count": 146,
      "outputs": [
        {
          "output_type": "execute_result",
          "data": {
            "text/html": [
              "<div>\n",
              "<style scoped>\n",
              "    .dataframe tbody tr th:only-of-type {\n",
              "        vertical-align: middle;\n",
              "    }\n",
              "\n",
              "    .dataframe tbody tr th {\n",
              "        vertical-align: top;\n",
              "    }\n",
              "\n",
              "    .dataframe thead th {\n",
              "        text-align: right;\n",
              "    }\n",
              "</style>\n",
              "<table border=\"1\" class=\"dataframe\">\n",
              "  <thead>\n",
              "    <tr style=\"text-align: right;\">\n",
              "      <th></th>\n",
              "      <th>Class</th>\n",
              "      <th>Sex</th>\n",
              "      <th>Age</th>\n",
              "      <th>Survived</th>\n",
              "      <th>Survived_01</th>\n",
              "    </tr>\n",
              "  </thead>\n",
              "  <tbody>\n",
              "    <tr>\n",
              "      <th>0</th>\n",
              "      <td>3rd</td>\n",
              "      <td>Male</td>\n",
              "      <td>Child</td>\n",
              "      <td>No</td>\n",
              "      <td>0</td>\n",
              "    </tr>\n",
              "    <tr>\n",
              "      <th>1</th>\n",
              "      <td>3rd</td>\n",
              "      <td>Male</td>\n",
              "      <td>Child</td>\n",
              "      <td>No</td>\n",
              "      <td>0</td>\n",
              "    </tr>\n",
              "    <tr>\n",
              "      <th>2</th>\n",
              "      <td>3rd</td>\n",
              "      <td>Male</td>\n",
              "      <td>Child</td>\n",
              "      <td>No</td>\n",
              "      <td>0</td>\n",
              "    </tr>\n",
              "    <tr>\n",
              "      <th>3</th>\n",
              "      <td>3rd</td>\n",
              "      <td>Male</td>\n",
              "      <td>Child</td>\n",
              "      <td>No</td>\n",
              "      <td>0</td>\n",
              "    </tr>\n",
              "    <tr>\n",
              "      <th>4</th>\n",
              "      <td>3rd</td>\n",
              "      <td>Male</td>\n",
              "      <td>Child</td>\n",
              "      <td>No</td>\n",
              "      <td>0</td>\n",
              "    </tr>\n",
              "    <tr>\n",
              "      <th>...</th>\n",
              "      <td>...</td>\n",
              "      <td>...</td>\n",
              "      <td>...</td>\n",
              "      <td>...</td>\n",
              "      <td>...</td>\n",
              "    </tr>\n",
              "    <tr>\n",
              "      <th>1880</th>\n",
              "      <td>Crew</td>\n",
              "      <td>Male</td>\n",
              "      <td>Adult</td>\n",
              "      <td>Yes</td>\n",
              "      <td>1</td>\n",
              "    </tr>\n",
              "    <tr>\n",
              "      <th>1881</th>\n",
              "      <td>Crew</td>\n",
              "      <td>Male</td>\n",
              "      <td>Adult</td>\n",
              "      <td>Yes</td>\n",
              "      <td>1</td>\n",
              "    </tr>\n",
              "    <tr>\n",
              "      <th>1882</th>\n",
              "      <td>Crew</td>\n",
              "      <td>Male</td>\n",
              "      <td>Adult</td>\n",
              "      <td>Yes</td>\n",
              "      <td>1</td>\n",
              "    </tr>\n",
              "    <tr>\n",
              "      <th>1883</th>\n",
              "      <td>Crew</td>\n",
              "      <td>Male</td>\n",
              "      <td>Adult</td>\n",
              "      <td>Yes</td>\n",
              "      <td>1</td>\n",
              "    </tr>\n",
              "    <tr>\n",
              "      <th>1884</th>\n",
              "      <td>Crew</td>\n",
              "      <td>Male</td>\n",
              "      <td>Adult</td>\n",
              "      <td>Yes</td>\n",
              "      <td>1</td>\n",
              "    </tr>\n",
              "  </tbody>\n",
              "</table>\n",
              "<p>1731 rows × 5 columns</p>\n",
              "</div>"
            ],
            "text/plain": [
              "     Class   Sex    Age Survived  Survived_01\n",
              "0      3rd  Male  Child       No            0\n",
              "1      3rd  Male  Child       No            0\n",
              "2      3rd  Male  Child       No            0\n",
              "3      3rd  Male  Child       No            0\n",
              "4      3rd  Male  Child       No            0\n",
              "...    ...   ...    ...      ...          ...\n",
              "1880  Crew  Male  Adult      Yes            1\n",
              "1881  Crew  Male  Adult      Yes            1\n",
              "1882  Crew  Male  Adult      Yes            1\n",
              "1883  Crew  Male  Adult      Yes            1\n",
              "1884  Crew  Male  Adult      Yes            1\n",
              "\n",
              "[1731 rows x 5 columns]"
            ]
          },
          "metadata": {},
          "execution_count": 146
        }
      ]
    },
    {
      "cell_type": "code",
      "metadata": {
        "colab": {
          "base_uri": "https://localhost:8080/"
        },
        "id": "3NSyJyfSBQui",
        "outputId": "6ed5e0aa-7c38-45d2-fad5-741766caec9e"
      },
      "source": [
        "import statsmodels.api as sm\n",
        "sm.stats.ttest_ind(x.Survived_01, y.Survived_01)"
      ],
      "execution_count": 147,
      "outputs": [
        {
          "output_type": "execute_result",
          "data": {
            "text/plain": [
              "(24.000594650874334, 2.98891210006274e-113, 2199.0)"
            ]
          },
          "metadata": {},
          "execution_count": 147
        }
      ]
    },
    {
      "cell_type": "markdown",
      "metadata": {
        "id": "BOk9GHe-CqO0"
      },
      "source": [
        "The first value is the *t*-value, the second is the *p*-value. Definitely a difference between the sexes here, which we already knew from looking at the plots."
      ]
    },
    {
      "cell_type": "code",
      "metadata": {
        "colab": {
          "base_uri": "https://localhost:8080/"
        },
        "id": "ahw0k3H0Rmpr",
        "outputId": "8db89cae-4571-4486-dea4-5ff39ae34c87"
      },
      "source": [
        "import numpy as np\n",
        "np.mean(x[\"Survived_01\"]) # female survivale\n",
        "np.mean(y[\"Survived_01\"]) # male survival"
      ],
      "execution_count": 149,
      "outputs": [
        {
          "output_type": "execute_result",
          "data": {
            "text/plain": [
              "0.2120161756210283"
            ]
          },
          "metadata": {},
          "execution_count": 149
        }
      ]
    },
    {
      "cell_type": "markdown",
      "metadata": {
        "id": "CPpGQPjCC8o1"
      },
      "source": [
        "In this case though, it's easier just to run a regression."
      ]
    },
    {
      "cell_type": "code",
      "metadata": {
        "colab": {
          "base_uri": "https://localhost:8080/",
          "height": 439
        },
        "id": "Ot8AFV8HCzCP",
        "outputId": "3555f47b-969c-47a2-9339-88a8efd7ec41"
      },
      "source": [
        "import statsmodels.formula.api as smf\n",
        "fit = smf.ols(\"Survived_01 ~ Sex\", data = titanic).fit()\n",
        "fit.summary()"
      ],
      "execution_count": 153,
      "outputs": [
        {
          "output_type": "execute_result",
          "data": {
            "text/html": [
              "<table class=\"simpletable\">\n",
              "<caption>OLS Regression Results</caption>\n",
              "<tr>\n",
              "  <th>Dep. Variable:</th>       <td>Survived_01</td>   <th>  R-squared:         </th> <td>   0.208</td> \n",
              "</tr>\n",
              "<tr>\n",
              "  <th>Model:</th>                   <td>OLS</td>       <th>  Adj. R-squared:    </th> <td>   0.207</td> \n",
              "</tr>\n",
              "<tr>\n",
              "  <th>Method:</th>             <td>Least Squares</td>  <th>  F-statistic:       </th> <td>   576.0</td> \n",
              "</tr>\n",
              "<tr>\n",
              "  <th>Date:</th>             <td>Thu, 14 Oct 2021</td> <th>  Prob (F-statistic):</th> <td>2.99e-113</td>\n",
              "</tr>\n",
              "<tr>\n",
              "  <th>Time:</th>                 <td>10:12:10</td>     <th>  Log-Likelihood:    </th> <td> -1194.1</td> \n",
              "</tr>\n",
              "<tr>\n",
              "  <th>No. Observations:</th>      <td>  2201</td>      <th>  AIC:               </th> <td>   2392.</td> \n",
              "</tr>\n",
              "<tr>\n",
              "  <th>Df Residuals:</th>          <td>  2199</td>      <th>  BIC:               </th> <td>   2404.</td> \n",
              "</tr>\n",
              "<tr>\n",
              "  <th>Df Model:</th>              <td>     1</td>      <th>                     </th>     <td> </td>    \n",
              "</tr>\n",
              "<tr>\n",
              "  <th>Covariance Type:</th>      <td>nonrobust</td>    <th>                     </th>     <td> </td>    \n",
              "</tr>\n",
              "</table>\n",
              "<table class=\"simpletable\">\n",
              "<tr>\n",
              "       <td></td>          <th>coef</th>     <th>std err</th>      <th>t</th>      <th>P>|t|</th>  <th>[0.025</th>    <th>0.975]</th>  \n",
              "</tr>\n",
              "<tr>\n",
              "  <th>Intercept</th>   <td>    0.7319</td> <td>    0.019</td> <td>   38.100</td> <td> 0.000</td> <td>    0.694</td> <td>    0.770</td>\n",
              "</tr>\n",
              "<tr>\n",
              "  <th>Sex[T.Male]</th> <td>   -0.5199</td> <td>    0.022</td> <td>  -24.001</td> <td> 0.000</td> <td>   -0.562</td> <td>   -0.477</td>\n",
              "</tr>\n",
              "</table>\n",
              "<table class=\"simpletable\">\n",
              "<tr>\n",
              "  <th>Omnibus:</th>       <td>184.584</td> <th>  Durbin-Watson:     </th> <td>   0.010</td>\n",
              "</tr>\n",
              "<tr>\n",
              "  <th>Prob(Omnibus):</th> <td> 0.000</td>  <th>  Jarque-Bera (JB):  </th> <td> 228.425</td>\n",
              "</tr>\n",
              "<tr>\n",
              "  <th>Skew:</th>          <td> 0.780</td>  <th>  Prob(JB):          </th> <td>2.50e-50</td>\n",
              "</tr>\n",
              "<tr>\n",
              "  <th>Kurtosis:</th>      <td> 2.756</td>  <th>  Cond. No.          </th> <td>    4.12</td>\n",
              "</tr>\n",
              "</table><br/><br/>Warnings:<br/>[1] Standard Errors assume that the covariance matrix of the errors is correctly specified."
            ],
            "text/plain": [
              "<class 'statsmodels.iolib.summary.Summary'>\n",
              "\"\"\"\n",
              "                            OLS Regression Results                            \n",
              "==============================================================================\n",
              "Dep. Variable:            Survived_01   R-squared:                       0.208\n",
              "Model:                            OLS   Adj. R-squared:                  0.207\n",
              "Method:                 Least Squares   F-statistic:                     576.0\n",
              "Date:                Thu, 14 Oct 2021   Prob (F-statistic):          2.99e-113\n",
              "Time:                        10:12:10   Log-Likelihood:                -1194.1\n",
              "No. Observations:                2201   AIC:                             2392.\n",
              "Df Residuals:                    2199   BIC:                             2404.\n",
              "Df Model:                           1                                         \n",
              "Covariance Type:            nonrobust                                         \n",
              "===============================================================================\n",
              "                  coef    std err          t      P>|t|      [0.025      0.975]\n",
              "-------------------------------------------------------------------------------\n",
              "Intercept       0.7319      0.019     38.100      0.000       0.694       0.770\n",
              "Sex[T.Male]    -0.5199      0.022    -24.001      0.000      -0.562      -0.477\n",
              "==============================================================================\n",
              "Omnibus:                      184.584   Durbin-Watson:                   0.010\n",
              "Prob(Omnibus):                  0.000   Jarque-Bera (JB):              228.425\n",
              "Skew:                           0.780   Prob(JB):                     2.50e-50\n",
              "Kurtosis:                       2.756   Cond. No.                         4.12\n",
              "==============================================================================\n",
              "\n",
              "Warnings:\n",
              "[1] Standard Errors assume that the covariance matrix of the errors is correctly specified.\n",
              "\"\"\""
            ]
          },
          "metadata": {},
          "execution_count": 153
        }
      ]
    },
    {
      "cell_type": "code",
      "metadata": {
        "colab": {
          "base_uri": "https://localhost:8080/"
        },
        "id": "TfhPTwY3DDde",
        "outputId": "471bab1f-e7d6-493d-a405-1ffe0ade677c"
      },
      "source": [
        "fit.pvalues"
      ],
      "execution_count": 71,
      "outputs": [
        {
          "output_type": "execute_result",
          "data": {
            "text/plain": [
              "Intercept      2.433710e-244\n",
              "Sex[T.Male]    2.988912e-113\n",
              "dtype: float64"
            ]
          },
          "metadata": {},
          "execution_count": 71
        }
      ]
    },
    {
      "cell_type": "markdown",
      "metadata": {
        "id": "OmbJx_VxDGmc"
      },
      "source": [
        "The *p*-value of `Sex[T.Male]` matches the *p*-value of the *t*-test above."
      ]
    },
    {
      "cell_type": "markdown",
      "metadata": {
        "id": "bnKYq5PW_slg"
      },
      "source": [
        "But what can we do when we have more than $2$ categories? For $k$ categories, there is more than one *p*-value to look at!"
      ]
    },
    {
      "cell_type": "code",
      "metadata": {
        "id": "540Ss6GB_sCA",
        "colab": {
          "base_uri": "https://localhost:8080/",
          "height": 480
        },
        "outputId": "483528e6-5d70-4af9-ceb8-374a557e5f0d"
      },
      "source": [
        "fit = smf.ols(\"Survived_01 ~ Class\", data = titanic).fit()\n",
        "fit.summary()"
      ],
      "execution_count": 154,
      "outputs": [
        {
          "output_type": "execute_result",
          "data": {
            "text/html": [
              "<table class=\"simpletable\">\n",
              "<caption>OLS Regression Results</caption>\n",
              "<tr>\n",
              "  <th>Dep. Variable:</th>       <td>Survived_01</td>   <th>  R-squared:         </th> <td>   0.087</td>\n",
              "</tr>\n",
              "<tr>\n",
              "  <th>Model:</th>                   <td>OLS</td>       <th>  Adj. R-squared:    </th> <td>   0.085</td>\n",
              "</tr>\n",
              "<tr>\n",
              "  <th>Method:</th>             <td>Least Squares</td>  <th>  F-statistic:       </th> <td>   69.35</td>\n",
              "</tr>\n",
              "<tr>\n",
              "  <th>Date:</th>             <td>Thu, 14 Oct 2021</td> <th>  Prob (F-statistic):</th> <td>7.56e-43</td>\n",
              "</tr>\n",
              "<tr>\n",
              "  <th>Time:</th>                 <td>10:14:12</td>     <th>  Log-Likelihood:    </th> <td> -1350.6</td>\n",
              "</tr>\n",
              "<tr>\n",
              "  <th>No. Observations:</th>      <td>  2201</td>      <th>  AIC:               </th> <td>   2709.</td>\n",
              "</tr>\n",
              "<tr>\n",
              "  <th>Df Residuals:</th>          <td>  2197</td>      <th>  BIC:               </th> <td>   2732.</td>\n",
              "</tr>\n",
              "<tr>\n",
              "  <th>Df Model:</th>              <td>     3</td>      <th>                     </th>     <td> </td>   \n",
              "</tr>\n",
              "<tr>\n",
              "  <th>Covariance Type:</th>      <td>nonrobust</td>    <th>                     </th>     <td> </td>   \n",
              "</tr>\n",
              "</table>\n",
              "<table class=\"simpletable\">\n",
              "<tr>\n",
              "        <td></td>           <th>coef</th>     <th>std err</th>      <th>t</th>      <th>P>|t|</th>  <th>[0.025</th>    <th>0.975]</th>  \n",
              "</tr>\n",
              "<tr>\n",
              "  <th>Intercept</th>     <td>    0.6246</td> <td>    0.025</td> <td>   25.171</td> <td> 0.000</td> <td>    0.576</td> <td>    0.673</td>\n",
              "</tr>\n",
              "<tr>\n",
              "  <th>Class[T.2nd]</th>  <td>   -0.2106</td> <td>    0.036</td> <td>   -5.800</td> <td> 0.000</td> <td>   -0.282</td> <td>   -0.139</td>\n",
              "</tr>\n",
              "<tr>\n",
              "  <th>Class[T.3rd]</th>  <td>   -0.3725</td> <td>    0.030</td> <td>  -12.422</td> <td> 0.000</td> <td>   -0.431</td> <td>   -0.314</td>\n",
              "</tr>\n",
              "<tr>\n",
              "  <th>Class[T.Crew]</th> <td>   -0.3851</td> <td>    0.029</td> <td>  -13.271</td> <td> 0.000</td> <td>   -0.442</td> <td>   -0.328</td>\n",
              "</tr>\n",
              "</table>\n",
              "<table class=\"simpletable\">\n",
              "<tr>\n",
              "  <th>Omnibus:</th>       <td>758.455</td> <th>  Durbin-Watson:     </th> <td>   0.003</td>\n",
              "</tr>\n",
              "<tr>\n",
              "  <th>Prob(Omnibus):</th> <td> 0.000</td>  <th>  Jarque-Bera (JB):  </th> <td> 292.650</td>\n",
              "</tr>\n",
              "<tr>\n",
              "  <th>Skew:</th>          <td> 0.727</td>  <th>  Prob(JB):          </th> <td>2.83e-64</td>\n",
              "</tr>\n",
              "<tr>\n",
              "  <th>Kurtosis:</th>      <td> 1.962</td>  <th>  Cond. No.          </th> <td>    6.32</td>\n",
              "</tr>\n",
              "</table><br/><br/>Warnings:<br/>[1] Standard Errors assume that the covariance matrix of the errors is correctly specified."
            ],
            "text/plain": [
              "<class 'statsmodels.iolib.summary.Summary'>\n",
              "\"\"\"\n",
              "                            OLS Regression Results                            \n",
              "==============================================================================\n",
              "Dep. Variable:            Survived_01   R-squared:                       0.087\n",
              "Model:                            OLS   Adj. R-squared:                  0.085\n",
              "Method:                 Least Squares   F-statistic:                     69.35\n",
              "Date:                Thu, 14 Oct 2021   Prob (F-statistic):           7.56e-43\n",
              "Time:                        10:14:12   Log-Likelihood:                -1350.6\n",
              "No. Observations:                2201   AIC:                             2709.\n",
              "Df Residuals:                    2197   BIC:                             2732.\n",
              "Df Model:                           3                                         \n",
              "Covariance Type:            nonrobust                                         \n",
              "=================================================================================\n",
              "                    coef    std err          t      P>|t|      [0.025      0.975]\n",
              "---------------------------------------------------------------------------------\n",
              "Intercept         0.6246      0.025     25.171      0.000       0.576       0.673\n",
              "Class[T.2nd]     -0.2106      0.036     -5.800      0.000      -0.282      -0.139\n",
              "Class[T.3rd]     -0.3725      0.030    -12.422      0.000      -0.431      -0.314\n",
              "Class[T.Crew]    -0.3851      0.029    -13.271      0.000      -0.442      -0.328\n",
              "==============================================================================\n",
              "Omnibus:                      758.455   Durbin-Watson:                   0.003\n",
              "Prob(Omnibus):                  0.000   Jarque-Bera (JB):              292.650\n",
              "Skew:                           0.727   Prob(JB):                     2.83e-64\n",
              "Kurtosis:                       1.962   Cond. No.                         6.32\n",
              "==============================================================================\n",
              "\n",
              "Warnings:\n",
              "[1] Standard Errors assume that the covariance matrix of the errors is correctly specified.\n",
              "\"\"\""
            ]
          },
          "metadata": {},
          "execution_count": 154
        }
      ]
    },
    {
      "cell_type": "markdown",
      "metadata": {
        "id": "pVLPjD_2DSgV"
      },
      "source": [
        "We can, using this regression output, answer probabilistic questions such as \"is the coefficient $\\beta_{\\textrm{2nd}} = 0$?\". But we can't answer the omnibus question \"Is at least one of the $\\beta$s (except the intercept $\\beta_0$), not equal to 0?\"\n",
        "This question is about the usesfulness of all the entire categorical variable, not just its isolated $\\beta$ coefficients.\n"
      ]
    },
    {
      "cell_type": "markdown",
      "metadata": {
        "id": "Z7n_pCfvAOiQ"
      },
      "source": [
        "### Look at sum of squares\n",
        "Recall the definition of the $R^2$ for multiple regression models,\n",
        "$$\n",
        "R^2 = 1-\\frac{\\sum_{i=1}^{n}\\left(y_{i}-\\beta_{0}-\\sum_{k=1}^{K}\\beta_{k}x_{k}\\right)^{2}}{\\sum_{i=1}^{n}(y_{i}-\\overline{y})^{2}}.\n",
        "$$\n",
        "\n",
        "The $R^2$ quantifies the relative reduction in the sum of squares attained by using the covariates $x_1, x_2, ..., x_k$.\n",
        "\n",
        "Suppose we have one categorial covariate $X$ taking on values in $a_1, a_2, ..., a_K$, and we deal with the model $y = \\beta_{0}+\\sum_{k=2}^{K}\\beta_{k}1[X=a_{k}]$. (Here the regression coefficeint for $a_1$ has been absorbed into the baseline.)\n",
        "\n",
        "Then the $R^2$ equals\n",
        "$$\n",
        "1-\\frac{\\sum_{i=1}^{n}\\left(y_{i}-\\beta_{0}-\\sum_{k=1}^{K}\\beta_{k}1[X=a_{k}]\\right)^{2}}{\\sum_{i=1}^{n}(y_{i}-\\overline{y})^{2}}.\n",
        "$$\n",
        "This $R^2$ quantifies the reduction in sum of squares obtained by including *all* the $\\beta$s associated with the categorical variable $X$ in the regression model.\n",
        "\n",
        "Thus, instead of testing whether there is a parameter that is not equal to $0$, we will test if the $R^2$ is equal to $0$.\n",
        "Consider the following testing problem\n",
        "$$\n",
        "H_{0}:R^{2}=0,\\quad H_{a}:R^{2}>0\n",
        "$$\n",
        "This is equivalent to\n",
        "$$\n",
        "H_{0}:\\beta_{2}=\\beta_{3}=...=\\beta_{K}=0, \\quad H_{a}:\\beta_{i}\\neq 0\\textrm{ for some }i\n",
        "$$\n",
        "To see why, notice that $R^2 = 0$ if and only if all the $\\beta_i$s, $i\\geq2$,are equal to $0$. "
      ]
    },
    {
      "cell_type": "markdown",
      "metadata": {
        "id": "mm7XHMBQaS-B"
      },
      "source": [
        "### Testing $R^2 = 0$\n",
        "For the tests we are going to discuss to be formally correct, we will have to assume that the regression\n",
        "model \n",
        "$$y = \\beta_{0}+\\sum_{k=2}^{K}\\beta_{k}1[X=a_{k}] + \\epsilon$$\n",
        "is true, where the residuals $\\epsilon$ are independent and normal with zero mean and the same variance. The assumptions about are not critical though, and the tests works well when the residuals aren't normally distributed.\n",
        "\n",
        "Under these conditions, we find that, when $\\beta_i = 0$ for all $i > 1$, \n",
        "$$\n",
        "R^2 \\sim \\textrm{Beta}\\left(\\frac{K-1}{2},\\frac{n-K}{2}\\right),\n",
        "$$\n",
        "where $\\textrm{Beta}(a,b)$ denotes the Beta distribution with parameters $a,b$. Moreover, \"$\\sim$\" means \"distributed as\". "
      ]
    },
    {
      "cell_type": "markdown",
      "metadata": {
        "id": "2aZfFqf8byVn"
      },
      "source": [
        "### What does this mean?\n"
      ]
    },
    {
      "cell_type": "markdown",
      "metadata": {
        "id": "GF_j1FHrGFck"
      },
      "source": [
        "In terms of simulation, it means that the simulated $R^2$ will have a histogram that approximates the density of a $\\textrm{Beta}\\left(\\frac{K-1}{2},\\frac{n-K}{2}\\right)$-distributed variable arbitrarily well when the number of simulations go to infinity. \n",
        "\n",
        "The simulated values have to be from the null-hypothesis, i.e., they must be normally distributed with some mean $\\mu$ and standard deviation $\\sigma$."
      ]
    },
    {
      "cell_type": "code",
      "metadata": {
        "colab": {
          "base_uri": "https://localhost:8080/"
        },
        "id": "YcLu3IxwGges",
        "outputId": "b54d966c-eaa9-4634-d669-2f8a75ca5098"
      },
      "source": [
        "import numpy as np\n",
        "import seaborn as sns \n",
        "import matplotlib.pyplot as plt\n",
        "from scipy import stats\n",
        "\n",
        "rng = np.random.default_rng(seed = 313)\n",
        "n_reps = 10 ** 4\n",
        "\n",
        "n = 20\n",
        "K = K\n",
        "y = rng.normal(0, 1, (n_reps, n))\n",
        "y"
      ],
      "execution_count": 155,
      "outputs": [
        {
          "output_type": "execute_result",
          "data": {
            "text/plain": [
              "array([[-0.10476825,  1.200623  , -0.38544127, ..., -0.36334591,\n",
              "        -0.79925663, -0.85709784],\n",
              "       [ 1.57469391, -1.13584913,  2.15868501, ..., -1.00557318,\n",
              "        -0.66484784, -0.31447754],\n",
              "       [ 0.90012285,  1.01632256, -0.20860774, ...,  2.05125315,\n",
              "        -0.61617816,  1.88551235],\n",
              "       ...,\n",
              "       [-0.49747136, -0.56413613,  0.08626853, ...,  0.92477878,\n",
              "        -1.02178499, -0.52129338],\n",
              "       [ 0.43491177,  0.43304638, -1.3601706 , ..., -0.60534607,\n",
              "         0.60160771, -0.39902685],\n",
              "       [-0.44078295, -0.07041964,  1.55085301, ...,  1.03522783,\n",
              "         0.67758851,  0.86163172]])"
            ]
          },
          "metadata": {},
          "execution_count": 155
        }
      ]
    },
    {
      "cell_type": "markdown",
      "metadata": {
        "id": "xF0rCf6sH9tM"
      },
      "source": [
        "Let's simulate some $R^2$s from a subset of the Titanic data."
      ]
    },
    {
      "cell_type": "code",
      "metadata": {
        "colab": {
          "base_uri": "https://localhost:8080/"
        },
        "id": "IftancyBHykV",
        "outputId": "276213fc-cf7e-4ffe-b70a-ca6507b1c8fb"
      },
      "source": [
        "import statsmodels.formula.api as smf\n",
        "titanic_2 = titanic.sample(n)\n",
        "\n",
        "def func1d(y):\n",
        "  titanic_2.y = y\n",
        "  fit = smf.ols(\"y ~ Class\", data = titanic_2).fit()\n",
        "  return fit.rsquared\n",
        "\n",
        "rsqs = np.apply_along_axis(\n",
        "    func1d = func1d,\n",
        "    axis = 1,\n",
        "    arr = y\n",
        ")\n",
        "\n",
        "rsqs"
      ],
      "execution_count": 156,
      "outputs": [
        {
          "output_type": "stream",
          "name": "stderr",
          "text": [
            "/usr/local/lib/python3.7/dist-packages/ipykernel_launcher.py:5: UserWarning: Pandas doesn't allow columns to be created via a new attribute name - see https://pandas.pydata.org/pandas-docs/stable/indexing.html#attribute-access\n",
            "  \"\"\"\n"
          ]
        },
        {
          "output_type": "execute_result",
          "data": {
            "text/plain": [
              "array([0.06004274, 0.11528575, 0.01384137, ..., 0.10826497, 0.04976875,\n",
              "       0.03199749])"
            ]
          },
          "metadata": {},
          "execution_count": 156
        }
      ]
    },
    {
      "cell_type": "code",
      "metadata": {
        "colab": {
          "base_uri": "https://localhost:8080/"
        },
        "id": "LzaIKOhtW42a",
        "outputId": "b4e0ba3c-6f25-4b0e-8164-54259511e573"
      },
      "source": [
        "K = len(set(titanic_2.Class))\n",
        "K"
      ],
      "execution_count": 159,
      "outputs": [
        {
          "output_type": "execute_result",
          "data": {
            "text/plain": [
              "3"
            ]
          },
          "metadata": {},
          "execution_count": 159
        }
      ]
    },
    {
      "cell_type": "code",
      "metadata": {
        "colab": {
          "base_uri": "https://localhost:8080/",
          "height": 282
        },
        "id": "bp9vWwMFJH3c",
        "outputId": "99dcf90c-f583-4689-b9ce-275c627760eb"
      },
      "source": [
        "ax = sns.histplot(x = rsqs, stat = \"density\")\n",
        "xs = np.arange(0, 1, 0.001)\n",
        "ax.plot(xs, stats.beta.pdf(xs, (K-1)/2, (n-K)/2), color = \"black\")"
      ],
      "execution_count": 160,
      "outputs": [
        {
          "output_type": "execute_result",
          "data": {
            "text/plain": [
              "[<matplotlib.lines.Line2D at 0x7f1c2f5536d0>]"
            ]
          },
          "metadata": {},
          "execution_count": 160
        },
        {
          "output_type": "display_data",
          "data": {
            "image/png": "[encoded data removed]",
            "text/plain": [
              "<Figure size 432x288 with 1 Axes>"
            ]
          },
          "metadata": {
            "needs_background": "light"
          }
        }
      ]
    },
    {
      "cell_type": "markdown",
      "metadata": {
        "id": "gK81n_wbKSnl"
      },
      "source": [
        "If the null-hypothesis is true, the simulated $R^2$s will look just like this!"
      ]
    },
    {
      "cell_type": "markdown",
      "metadata": {
        "id": "iGFaGZm6KhNV"
      },
      "source": [
        "### Applying it"
      ]
    },
    {
      "cell_type": "markdown",
      "metadata": {
        "id": "NX045MsqKmJk"
      },
      "source": [
        "The *p*-value of a positive test statistic $T$ is $P(T\\geq t)$, where $t$ is the observed value. In our case, we found that "
      ]
    },
    {
      "cell_type": "code",
      "metadata": {
        "colab": {
          "base_uri": "https://localhost:8080/"
        },
        "id": "qE_oHuRlKf1P",
        "outputId": "a29a7bd0-bda7-4c53-b52f-9c0ca1eea478"
      },
      "source": [
        "fit.rsquared"
      ],
      "execution_count": 106,
      "outputs": [
        {
          "output_type": "execute_result",
          "data": {
            "text/plain": [
              "0.08650663499174571"
            ]
          },
          "metadata": {},
          "execution_count": 106
        }
      ]
    },
    {
      "cell_type": "markdown",
      "metadata": {
        "id": "DrMnq2oSXaQz"
      },
      "source": [
        "How unlikely is this this $R^2$ if the null-hypothesis is true?"
      ]
    },
    {
      "cell_type": "markdown",
      "metadata": {
        "id": "9mRwYREELYRL"
      },
      "source": [
        "Using [`scipy.stats.beta`](https://docs.scipy.org/doc/scipy/reference/generated/scipy.stats.beta.html), we can finds the probability that $R^2\\geq0.0865$."
      ]
    },
    {
      "cell_type": "code",
      "metadata": {
        "colab": {
          "base_uri": "https://localhost:8080/"
        },
        "id": "8FKTQqB5Lh30",
        "outputId": "99708ea4-74a8-439d-8a46-abe5c110dab2"
      },
      "source": [
        "n = titanic.shape[0]\n",
        "K = 4\n",
        "# sf is the \"survival function\" P(T > t).\n",
        "stats.beta.sf(fit.rsquared, (K - 1)/2, (n - K)/2)"
      ],
      "execution_count": 141,
      "outputs": [
        {
          "output_type": "execute_result",
          "data": {
            "text/plain": [
              "1.1102230246251565e-16"
            ]
          },
          "metadata": {},
          "execution_count": 141
        }
      ]
    },
    {
      "cell_type": "markdown",
      "metadata": {
        "id": "R6jl8JOfLhTv"
      },
      "source": [
        "This *p*-value turns out to be extremely inaccurate. The value I got using `R` is `7.226502e-43`, many orders of magnitude smaller.\n",
        "\n",
        "**Conclusion:** Reject the null-hypothesis that $\\beta_i = 0$ for all $i > 1$, in other words, the categorical variable `Class` matters!"
      ]
    },
    {
      "cell_type": "markdown",
      "metadata": {
        "id": "zI_wM73lFEOo"
      },
      "source": [
        "### The $F$-test\n",
        "An $F$-test is a generic term for a testing problem where the distribution of the test statistic is [$F$-distributed](https://en.wikipedia.org/wiki/F-distribution). We care about the $F$-distributed statistic above because it equals $0$ if and only if $R^2$ is equal to 0. The distribution of $R^2$ is not commonly used, for reason I do not fathom. Instead, everyone uses the $F$-test. You can find its output in e.g. `statsmodels`.\n",
        "\n",
        "We can write down the test statistic for the $F$ distribution in several ways. This one is especially convenient for us:\n",
        "$$\n",
        "\\frac{n-K}{K-1}\\frac{R^{2}}{1-R^{2}} \\sim F(K-1, n - K)\n",
        "$$\n",
        "\n",
        "The $F$ tests takes two parameters, $d_1$ and $d_2$, called the degrees of freedom. In this case, $d_1 = K-1$ and $d_2 = n - K$. The parameter $d_1$ is sometimes called the numerator degree of freedom, $d_2$ the denominator degree of freedom.\n",
        "\n",
        "**Note:**\n",
        "I didn't misspell the names of $d_1$ and $d_2$. They are given these names since the $F$ statistic can be written in a different way, where $n-K$ is the denominator and $K-1$ the numerator. See e.g. the wikipedia page about the $F$-distribution. \n",
        "\n"
      ]
    },
    {
      "cell_type": "markdown",
      "metadata": {
        "id": "n7gYI5bZO7ht"
      },
      "source": [
        "Using the $F$-test, we can test exactly the same null-hypothesis as we did with the Beta distribution. Python manages to calculate the *p*-value accurately in this case, namely:"
      ]
    },
    {
      "cell_type": "code",
      "metadata": {
        "colab": {
          "base_uri": "https://localhost:8080/"
        },
        "id": "vMj6SUPULI1E",
        "outputId": "7b6d2b1d-daf7-4a55-a705-c31bcc8b2217"
      },
      "source": [
        "fit.f_pvalue"
      ],
      "execution_count": 136,
      "outputs": [
        {
          "output_type": "execute_result",
          "data": {
            "text/plain": [
              "7.55923138291284e-43"
            ]
          },
          "metadata": {},
          "execution_count": 136
        }
      ]
    },
    {
      "cell_type": "markdown",
      "metadata": {
        "id": "7PhTJC2pPIzJ"
      },
      "source": [
        "We will continue to discuss the $F$-test - and its connection to $R^2$ - in the nest lecture. Now we'll discuss interaction!"
      ]
    },
    {
      "cell_type": "markdown",
      "metadata": {
        "id": "ca7LW1g6-owB"
      },
      "source": [
        "## Interaction"
      ]
    },
    {
      "cell_type": "markdown",
      "metadata": {
        "id": "8BcjX3XAAFXm"
      },
      "source": [
        "Interactions are regression terms that involve products of two or more different predictors, e.g., $y = \\alpha + \\beta_1 x_1 + \\beta_{12} x_1x_2$. The terminology is most freqently used for categorical variables. Let's explore what it means."
      ]
    },
    {
      "cell_type": "markdown",
      "metadata": {
        "id": "S2xP-onnX4IY"
      },
      "source": [
        "### The Cartesian product"
      ]
    },
    {
      "cell_type": "markdown",
      "metadata": {
        "id": "y375A7zzX9GC"
      },
      "source": [
        "We'll have to deal with another fundamental set-theoretic construction, called the *Cartesian product*. \n",
        "\n",
        "**Note:** If something is *Cartesian*, it is named after the French reneissance philosopher René Descartes."
      ]
    },
    {
      "cell_type": "markdown",
      "metadata": {
        "id": "VfLc5ZnUruT8"
      },
      "source": [
        "We will use the symbol \"$\\in$\", which reads reads \"in\". Writing \"$a\\in A$\" means the same as \"$a \\textrm{ in } A$\". This symbol may look unfamiliar but is a staple of mathematical notation."
      ]
    },
    {
      "cell_type": "markdown",
      "metadata": {
        "id": "8UlMqfb3Vz84"
      },
      "source": [
        "#### Definition\n",
        "> Let $A$ and $B$ be two sets. The *Cartesian product*, denoted by $A\\times B$, is the unique set containing the tuples $(a,b)$ for $a\\in A$ and $b \\in B$. "
      ]
    },
    {
      "cell_type": "markdown",
      "metadata": {
        "id": "CJ-Fti_WZzDp"
      },
      "source": [
        "We also call $A \\times B$ the *product set*, or the product of $A$ and $B$. "
      ]
    },
    {
      "cell_type": "markdown",
      "metadata": {
        "id": "-rAsShfWqnlW"
      },
      "source": [
        "#### Example"
      ]
    },
    {
      "cell_type": "markdown",
      "metadata": {
        "id": "jWJQobjoqspe"
      },
      "source": [
        "Recall the sex and class categories from the Titanic data set."
      ]
    },
    {
      "cell_type": "code",
      "metadata": {
        "colab": {
          "base_uri": "https://localhost:8080/"
        },
        "id": "3Q3gwR1DXxIG",
        "outputId": "b7bb5aea-4291-4bce-df88-d8e2ec75b5f1"
      },
      "source": [
        "set(titanic.Sex)"
      ],
      "execution_count": 4,
      "outputs": [
        {
          "output_type": "execute_result",
          "data": {
            "text/plain": [
              "{'Female', 'Male'}"
            ]
          },
          "metadata": {},
          "execution_count": 4
        }
      ]
    },
    {
      "cell_type": "code",
      "metadata": {
        "colab": {
          "base_uri": "https://localhost:8080/"
        },
        "id": "5SPr--JoXo8H",
        "outputId": "a41a9c2f-ce4f-479f-b0fd-137fda919309"
      },
      "source": [
        "set(titanic.Class)"
      ],
      "execution_count": 5,
      "outputs": [
        {
          "output_type": "execute_result",
          "data": {
            "text/plain": [
              "{'1st', '2nd', '3rd', 'Crew'}"
            ]
          },
          "metadata": {},
          "execution_count": 5
        }
      ]
    },
    {
      "cell_type": "markdown",
      "metadata": {
        "id": "3oFptdiOqyDv"
      },
      "source": [
        "We will construct the product set of these two sets. To to this, we will use the `product` function from `itertools`. This function often comes in handy in programming in general."
      ]
    },
    {
      "cell_type": "code",
      "metadata": {
        "colab": {
          "base_uri": "https://localhost:8080/"
        },
        "id": "_7cjOUOnX2Gm",
        "outputId": "2dc0f1eb-b77e-4ff7-db22-adeccec63d8a"
      },
      "source": [
        "from itertools import product\n",
        "set(product(set(titanic.Sex), set(titanic.Class)))"
      ],
      "execution_count": 6,
      "outputs": [
        {
          "output_type": "execute_result",
          "data": {
            "text/plain": [
              "{('Female', '1st'),\n",
              " ('Female', '2nd'),\n",
              " ('Female', '3rd'),\n",
              " ('Female', 'Crew'),\n",
              " ('Male', '1st'),\n",
              " ('Male', '2nd'),\n",
              " ('Male', '3rd'),\n",
              " ('Male', 'Crew')}"
            ]
          },
          "metadata": {},
          "execution_count": 6
        }
      ]
    },
    {
      "cell_type": "markdown",
      "metadata": {
        "id": "o8Wgr7jNrI54"
      },
      "source": [
        "We can also take the product of more than two sets, say $A\\times B \\times C$. Such products are defined in the obvious way, i.e., $(a,b,c)\\in A\\times B\\times C$ if and only if $a\\in A$, $b \\in B$, and $c \\in C$."
      ]
    },
    {
      "cell_type": "code",
      "metadata": {
        "colab": {
          "base_uri": "https://localhost:8080/"
        },
        "id": "q0QFSd4DsGU3",
        "outputId": "bc9bcbaf-bba2-49fd-e4d7-7600233f51c3"
      },
      "source": [
        "set(titanic.Age)"
      ],
      "execution_count": 46,
      "outputs": [
        {
          "output_type": "execute_result",
          "data": {
            "text/plain": [
              "{'Adult', 'Child'}"
            ]
          },
          "metadata": {},
          "execution_count": 46
        }
      ]
    },
    {
      "cell_type": "code",
      "metadata": {
        "colab": {
          "base_uri": "https://localhost:8080/"
        },
        "id": "60Hh9evTsJLF",
        "outputId": "948987c4-5217-454d-d56a-ce9405e27297"
      },
      "source": [
        "set(product(set(titanic.Sex), set(titanic.Class), set(titanic.Age)))"
      ],
      "execution_count": 47,
      "outputs": [
        {
          "output_type": "execute_result",
          "data": {
            "text/plain": [
              "{('Female', '1st', 'Adult'),\n",
              " ('Female', '1st', 'Child'),\n",
              " ('Female', '2nd', 'Adult'),\n",
              " ('Female', '2nd', 'Child'),\n",
              " ('Female', '3rd', 'Adult'),\n",
              " ('Female', '3rd', 'Child'),\n",
              " ('Female', 'Crew', 'Adult'),\n",
              " ('Female', 'Crew', 'Child'),\n",
              " ('Male', '1st', 'Adult'),\n",
              " ('Male', '1st', 'Child'),\n",
              " ('Male', '2nd', 'Adult'),\n",
              " ('Male', '2nd', 'Child'),\n",
              " ('Male', '3rd', 'Adult'),\n",
              " ('Male', '3rd', 'Child'),\n",
              " ('Male', 'Crew', 'Adult'),\n",
              " ('Male', 'Crew', 'Child')}"
            ]
          },
          "metadata": {},
          "execution_count": 47
        }
      ]
    },
    {
      "cell_type": "markdown",
      "metadata": {
        "id": "J5aLbwlYVuYy"
      },
      "source": [
        "### Titanic and interaction\n"
      ]
    },
    {
      "cell_type": "markdown",
      "metadata": {
        "id": "aPoCl1CVXDie"
      },
      "source": [
        "Recall from the last lecture that both sex and class affects the probability of survival. "
      ]
    },
    {
      "cell_type": "code",
      "metadata": {
        "colab": {
          "base_uri": "https://localhost:8080/",
          "height": 298
        },
        "id": "iXY9niCgG4CS",
        "outputId": "347a896d-aa5a-4160-beb7-b21af09a7f13"
      },
      "source": [
        "import seaborn as sns\n",
        "sns.countplot(x=\"Class\", hue=\"Survived\", data=titanic)"
      ],
      "execution_count": 7,
      "outputs": [
        {
          "output_type": "execute_result",
          "data": {
            "text/plain": [
              "<matplotlib.axes._subplots.AxesSubplot at 0x7f1c4da990d0>"
            ]
          },
          "metadata": {},
          "execution_count": 7
        },
        {
          "output_type": "display_data",
          "data": {
            "image/png": "[encoded data removed]",
            "text/plain": [
              "<Figure size 432x288 with 1 Axes>"
            ]
          },
          "metadata": {
            "needs_background": "light"
          }
        }
      ]
    },
    {
      "cell_type": "markdown",
      "metadata": {
        "id": "pyJ-nDZA_vEy"
      },
      "source": [
        "The basic model involves only *linear effects*\n",
        "$$\n",
        "y = \\beta_0 + \\beta_{\\textrm{male}}1[\\textrm{sex} = \\textrm{male}] + \\beta_{\\textrm{2nd}}1[\\textrm{class} = \\textrm{2nd}]+ \\beta_{\\textrm{3rd}}1[\\textrm{class} = \\textrm{3rd}] + \\beta_{\\textrm{Crew}}1[\\textrm{class} = \\textrm{crew}].\n",
        "$$\n"
      ]
    },
    {
      "cell_type": "markdown",
      "metadata": {
        "id": "7p7Gepm6FjNF"
      },
      "source": [
        "\n",
        "Let's fit it and see what we get."
      ]
    },
    {
      "cell_type": "code",
      "metadata": {
        "colab": {
          "base_uri": "https://localhost:8080/",
          "height": 556
        },
        "id": "kQhVNkVyFl5c",
        "outputId": "21585f55-b9c9-476a-e542-7addeb8a6afe"
      },
      "source": [
        "import statsmodels.formula.api as smf\n",
        "fit = smf.ols(\"Survived_01 ~ Sex + Class\", data = titanic).fit()\n",
        "fit.summary()"
      ],
      "execution_count": 8,
      "outputs": [
        {
          "output_type": "stream",
          "name": "stderr",
          "text": [
            "/usr/local/lib/python3.7/dist-packages/statsmodels/tools/_testing.py:19: FutureWarning: pandas.util.testing is deprecated. Use the functions in the public API at pandas.testing instead.\n",
            "  import pandas.util.testing as tm\n"
          ]
        },
        {
          "output_type": "execute_result",
          "data": {
            "text/html": [
              "<table class=\"simpletable\">\n",
              "<caption>OLS Regression Results</caption>\n",
              "<tr>\n",
              "  <th>Dep. Variable:</th>    <td>I(1 * (Survived == 'Yes'))</td> <th>  R-squared:         </th> <td>   0.246</td> \n",
              "</tr>\n",
              "<tr>\n",
              "  <th>Model:</th>                        <td>OLS</td>            <th>  Adj. R-squared:    </th> <td>   0.245</td> \n",
              "</tr>\n",
              "<tr>\n",
              "  <th>Method:</th>                  <td>Least Squares</td>       <th>  F-statistic:       </th> <td>   179.4</td> \n",
              "</tr>\n",
              "<tr>\n",
              "  <th>Date:</th>                  <td>Thu, 14 Oct 2021</td>      <th>  Prob (F-statistic):</th> <td>4.09e-133</td>\n",
              "</tr>\n",
              "<tr>\n",
              "  <th>Time:</th>                      <td>05:22:12</td>          <th>  Log-Likelihood:    </th> <td> -1139.0</td> \n",
              "</tr>\n",
              "<tr>\n",
              "  <th>No. Observations:</th>           <td>  2201</td>           <th>  AIC:               </th> <td>   2288.</td> \n",
              "</tr>\n",
              "<tr>\n",
              "  <th>Df Residuals:</th>               <td>  2196</td>           <th>  BIC:               </th> <td>   2317.</td> \n",
              "</tr>\n",
              "<tr>\n",
              "  <th>Df Model:</th>                   <td>     4</td>           <th>                     </th>     <td> </td>    \n",
              "</tr>\n",
              "<tr>\n",
              "  <th>Covariance Type:</th>           <td>nonrobust</td>         <th>                     </th>     <td> </td>    \n",
              "</tr>\n",
              "</table>\n",
              "<table class=\"simpletable\">\n",
              "<tr>\n",
              "        <td></td>           <th>coef</th>     <th>std err</th>      <th>t</th>      <th>P>|t|</th>  <th>[0.025</th>    <th>0.975]</th>  \n",
              "</tr>\n",
              "<tr>\n",
              "  <th>Intercept</th>     <td>    0.9001</td> <td>    0.026</td> <td>   34.739</td> <td> 0.000</td> <td>    0.849</td> <td>    0.951</td>\n",
              "</tr>\n",
              "<tr>\n",
              "  <th>Sex[T.Male]</th>   <td>   -0.4974</td> <td>    0.023</td> <td>  -21.575</td> <td> 0.000</td> <td>   -0.543</td> <td>   -0.452</td>\n",
              "</tr>\n",
              "<tr>\n",
              "  <th>Class[T.2nd]</th>  <td>   -0.1737</td> <td>    0.033</td> <td>   -5.258</td> <td> 0.000</td> <td>   -0.238</td> <td>   -0.109</td>\n",
              "</tr>\n",
              "<tr>\n",
              "  <th>Class[T.3rd]</th>  <td>   -0.2887</td> <td>    0.028</td> <td>  -10.489</td> <td> 0.000</td> <td>   -0.343</td> <td>   -0.235</td>\n",
              "</tr>\n",
              "<tr>\n",
              "  <th>Class[T.Crew]</th> <td>   -0.1761</td> <td>    0.028</td> <td>   -6.270</td> <td> 0.000</td> <td>   -0.231</td> <td>   -0.121</td>\n",
              "</tr>\n",
              "</table>\n",
              "<table class=\"simpletable\">\n",
              "<tr>\n",
              "  <th>Omnibus:</th>       <td>222.654</td> <th>  Durbin-Watson:     </th> <td>   0.011</td>\n",
              "</tr>\n",
              "<tr>\n",
              "  <th>Prob(Omnibus):</th> <td> 0.000</td>  <th>  Jarque-Bera (JB):  </th> <td> 293.437</td>\n",
              "</tr>\n",
              "<tr>\n",
              "  <th>Skew:</th>          <td> 0.891</td>  <th>  Prob(JB):          </th> <td>1.91e-64</td>\n",
              "</tr>\n",
              "<tr>\n",
              "  <th>Kurtosis:</th>      <td> 2.836</td>  <th>  Cond. No.          </th> <td>    7.83</td>\n",
              "</tr>\n",
              "</table><br/><br/>Warnings:<br/>[1] Standard Errors assume that the covariance matrix of the errors is correctly specified."
            ],
            "text/plain": [
              "<class 'statsmodels.iolib.summary.Summary'>\n",
              "\"\"\"\n",
              "                                OLS Regression Results                                \n",
              "======================================================================================\n",
              "Dep. Variable:     I(1 * (Survived == 'Yes'))   R-squared:                       0.246\n",
              "Model:                                    OLS   Adj. R-squared:                  0.245\n",
              "Method:                         Least Squares   F-statistic:                     179.4\n",
              "Date:                        Thu, 14 Oct 2021   Prob (F-statistic):          4.09e-133\n",
              "Time:                                05:22:12   Log-Likelihood:                -1139.0\n",
              "No. Observations:                        2201   AIC:                             2288.\n",
              "Df Residuals:                            2196   BIC:                             2317.\n",
              "Df Model:                                   4                                         \n",
              "Covariance Type:                    nonrobust                                         \n",
              "=================================================================================\n",
              "                    coef    std err          t      P>|t|      [0.025      0.975]\n",
              "---------------------------------------------------------------------------------\n",
              "Intercept         0.9001      0.026     34.739      0.000       0.849       0.951\n",
              "Sex[T.Male]      -0.4974      0.023    -21.575      0.000      -0.543      -0.452\n",
              "Class[T.2nd]     -0.1737      0.033     -5.258      0.000      -0.238      -0.109\n",
              "Class[T.3rd]     -0.2887      0.028    -10.489      0.000      -0.343      -0.235\n",
              "Class[T.Crew]    -0.1761      0.028     -6.270      0.000      -0.231      -0.121\n",
              "==============================================================================\n",
              "Omnibus:                      222.654   Durbin-Watson:                   0.011\n",
              "Prob(Omnibus):                  0.000   Jarque-Bera (JB):              293.437\n",
              "Skew:                           0.891   Prob(JB):                     1.91e-64\n",
              "Kurtosis:                       2.836   Cond. No.                         7.83\n",
              "==============================================================================\n",
              "\n",
              "Warnings:\n",
              "[1] Standard Errors assume that the covariance matrix of the errors is correctly specified.\n",
              "\"\"\""
            ]
          },
          "metadata": {},
          "execution_count": 8
        }
      ]
    },
    {
      "cell_type": "markdown",
      "metadata": {
        "id": "VdhewXb2Fm1M"
      },
      "source": [
        "Now we check how well the estimates match the data. First we'll take a look at the predicted values of the model."
      ]
    },
    {
      "cell_type": "markdown",
      "metadata": {
        "id": "ySCJ_0LBsbWe"
      },
      "source": [
        ""
      ]
    },
    {
      "cell_type": "code",
      "metadata": {
        "colab": {
          "base_uri": "https://localhost:8080/"
        },
        "id": "eZkwvv10G20q",
        "outputId": "77ee280a-8c5f-4708-bc65-ca3fa4ae1f0e"
      },
      "source": [
        "import pandas as pd\n",
        "records = sorted(list(product(set(titanic.Sex), set(titanic.Class))))\n",
        "records"
      ],
      "execution_count": 48,
      "outputs": [
        {
          "output_type": "execute_result",
          "data": {
            "text/plain": [
              "[('Female', '1st'),\n",
              " ('Female', '2nd'),\n",
              " ('Female', '3rd'),\n",
              " ('Female', 'Crew'),\n",
              " ('Male', '1st'),\n",
              " ('Male', '2nd'),\n",
              " ('Male', '3rd'),\n",
              " ('Male', 'Crew')]"
            ]
          },
          "metadata": {},
          "execution_count": 48
        }
      ]
    },
    {
      "cell_type": "code",
      "metadata": {
        "colab": {
          "base_uri": "https://localhost:8080/"
        },
        "id": "RE7_cyyaslDy",
        "outputId": "15f9e3be-0e21-44db-a834-a4046cb5a012"
      },
      "source": [
        "frame = pd.DataFrame.from_records(records, columns = [\"Sex\", \"Class\"])\n",
        "fit.predict(frame)"
      ],
      "execution_count": 49,
      "outputs": [
        {
          "output_type": "execute_result",
          "data": {
            "text/plain": [
              "0    0.972414\n",
              "1    0.877358\n",
              "2    0.459184\n",
              "3    0.869565\n",
              "4    0.344444\n",
              "5    0.139665\n",
              "6    0.172549\n",
              "7    0.222738\n",
              "dtype: float64"
            ]
          },
          "metadata": {},
          "execution_count": 49
        }
      ]
    },
    {
      "cell_type": "markdown",
      "metadata": {
        "id": "cusegcPmMVxb"
      },
      "source": [
        "This is just a list of floats with no names. Let's merge it with the `frame` to make stuff clearer"
      ]
    },
    {
      "cell_type": "code",
      "metadata": {
        "colab": {
          "base_uri": "https://localhost:8080/",
          "height": 296
        },
        "id": "ybCB5mtLMVYa",
        "outputId": "2dee00c1-88c4-4611-cd7c-d54ffd7df4fc"
      },
      "source": [
        "frame[\"Predicted\"] = fit.predict(frame)\n",
        "frame"
      ],
      "execution_count": 10,
      "outputs": [
        {
          "output_type": "execute_result",
          "data": {
            "text/html": [
              "<div>\n",
              "<style scoped>\n",
              "    .dataframe tbody tr th:only-of-type {\n",
              "        vertical-align: middle;\n",
              "    }\n",
              "\n",
              "    .dataframe tbody tr th {\n",
              "        vertical-align: top;\n",
              "    }\n",
              "\n",
              "    .dataframe thead th {\n",
              "        text-align: right;\n",
              "    }\n",
              "</style>\n",
              "<table border=\"1\" class=\"dataframe\">\n",
              "  <thead>\n",
              "    <tr style=\"text-align: right;\">\n",
              "      <th></th>\n",
              "      <th>Sex</th>\n",
              "      <th>Class</th>\n",
              "      <th>Predicted</th>\n",
              "    </tr>\n",
              "  </thead>\n",
              "  <tbody>\n",
              "    <tr>\n",
              "      <th>0</th>\n",
              "      <td>Female</td>\n",
              "      <td>1st</td>\n",
              "      <td>0.900080</td>\n",
              "    </tr>\n",
              "    <tr>\n",
              "      <th>1</th>\n",
              "      <td>Female</td>\n",
              "      <td>2nd</td>\n",
              "      <td>0.726416</td>\n",
              "    </tr>\n",
              "    <tr>\n",
              "      <th>2</th>\n",
              "      <td>Female</td>\n",
              "      <td>3rd</td>\n",
              "      <td>0.611412</td>\n",
              "    </tr>\n",
              "    <tr>\n",
              "      <th>3</th>\n",
              "      <td>Female</td>\n",
              "      <td>Crew</td>\n",
              "      <td>0.723988</td>\n",
              "    </tr>\n",
              "    <tr>\n",
              "      <th>4</th>\n",
              "      <td>Male</td>\n",
              "      <td>1st</td>\n",
              "      <td>0.402714</td>\n",
              "    </tr>\n",
              "    <tr>\n",
              "      <th>5</th>\n",
              "      <td>Male</td>\n",
              "      <td>2nd</td>\n",
              "      <td>0.229050</td>\n",
              "    </tr>\n",
              "    <tr>\n",
              "      <th>6</th>\n",
              "      <td>Male</td>\n",
              "      <td>3rd</td>\n",
              "      <td>0.114046</td>\n",
              "    </tr>\n",
              "    <tr>\n",
              "      <th>7</th>\n",
              "      <td>Male</td>\n",
              "      <td>Crew</td>\n",
              "      <td>0.226622</td>\n",
              "    </tr>\n",
              "  </tbody>\n",
              "</table>\n",
              "</div>"
            ],
            "text/plain": [
              "      Sex Class  Predicted\n",
              "0  Female   1st   0.900080\n",
              "1  Female   2nd   0.726416\n",
              "2  Female   3rd   0.611412\n",
              "3  Female  Crew   0.723988\n",
              "4    Male   1st   0.402714\n",
              "5    Male   2nd   0.229050\n",
              "6    Male   3rd   0.114046\n",
              "7    Male  Crew   0.226622"
            ]
          },
          "metadata": {},
          "execution_count": 10
        }
      ]
    },
    {
      "cell_type": "markdown",
      "metadata": {
        "id": "_9QacVQKNxpz"
      },
      "source": [
        "Let's compare these predictions to the means using the `groupby` method."
      ]
    },
    {
      "cell_type": "code",
      "metadata": {
        "id": "0D_Uq3G8NJxl"
      },
      "source": [
        "titanic[\"Survived_01\"] = 1 * (titanic.Survived == \"Yes\")"
      ],
      "execution_count": 51,
      "outputs": []
    },
    {
      "cell_type": "code",
      "metadata": {
        "colab": {
          "base_uri": "https://localhost:8080/"
        },
        "id": "KPMbNbS-s5PW",
        "outputId": "64099d95-624e-47b0-baa3-bb4fd7aa98e3"
      },
      "source": [
        "means = titanic.groupby([\"Sex\", \"Class\"]).mean()[\"Survived_01\"]\n",
        "means"
      ],
      "execution_count": 56,
      "outputs": [
        {
          "output_type": "execute_result",
          "data": {
            "text/plain": [
              "Sex     Class\n",
              "Female  1st      0.972414\n",
              "        2nd      0.877358\n",
              "        3rd      0.459184\n",
              "        Crew     0.869565\n",
              "Male    1st      0.344444\n",
              "        2nd      0.139665\n",
              "        3rd      0.172549\n",
              "        Crew     0.222738\n",
              "Name: Survived_01, dtype: float64"
            ]
          },
          "metadata": {},
          "execution_count": 56
        }
      ]
    },
    {
      "cell_type": "markdown",
      "metadata": {
        "id": "H__vQAY5tEUu"
      },
      "source": [
        "This table is simple enough. The mean on the column to the right is the mean of the subgroup for the corresponding sex and class on the right."
      ]
    },
    {
      "cell_type": "markdown",
      "metadata": {
        "id": "P1dN8AbjtO9o"
      },
      "source": [
        "Let's compare these means to the predicted values of our model."
      ]
    },
    {
      "cell_type": "code",
      "metadata": {
        "colab": {
          "base_uri": "https://localhost:8080/",
          "height": 296
        },
        "id": "E5B1rrVYOdAa",
        "outputId": "92aadceb-9217-4031-bb79-6b9eb6e70ac2"
      },
      "source": [
        "import numpy as np\n",
        "frame[\"Mean\"] = means.array\n",
        "frame"
      ],
      "execution_count": 52,
      "outputs": [
        {
          "output_type": "execute_result",
          "data": {
            "text/html": [
              "<div>\n",
              "<style scoped>\n",
              "    .dataframe tbody tr th:only-of-type {\n",
              "        vertical-align: middle;\n",
              "    }\n",
              "\n",
              "    .dataframe tbody tr th {\n",
              "        vertical-align: top;\n",
              "    }\n",
              "\n",
              "    .dataframe thead th {\n",
              "        text-align: right;\n",
              "    }\n",
              "</style>\n",
              "<table border=\"1\" class=\"dataframe\">\n",
              "  <thead>\n",
              "    <tr style=\"text-align: right;\">\n",
              "      <th></th>\n",
              "      <th>Sex</th>\n",
              "      <th>Class</th>\n",
              "      <th>Mean</th>\n",
              "    </tr>\n",
              "  </thead>\n",
              "  <tbody>\n",
              "    <tr>\n",
              "      <th>0</th>\n",
              "      <td>Female</td>\n",
              "      <td>1st</td>\n",
              "      <td>0.972414</td>\n",
              "    </tr>\n",
              "    <tr>\n",
              "      <th>1</th>\n",
              "      <td>Female</td>\n",
              "      <td>2nd</td>\n",
              "      <td>0.877358</td>\n",
              "    </tr>\n",
              "    <tr>\n",
              "      <th>2</th>\n",
              "      <td>Female</td>\n",
              "      <td>3rd</td>\n",
              "      <td>0.459184</td>\n",
              "    </tr>\n",
              "    <tr>\n",
              "      <th>3</th>\n",
              "      <td>Female</td>\n",
              "      <td>Crew</td>\n",
              "      <td>0.869565</td>\n",
              "    </tr>\n",
              "    <tr>\n",
              "      <th>4</th>\n",
              "      <td>Male</td>\n",
              "      <td>1st</td>\n",
              "      <td>0.344444</td>\n",
              "    </tr>\n",
              "    <tr>\n",
              "      <th>5</th>\n",
              "      <td>Male</td>\n",
              "      <td>2nd</td>\n",
              "      <td>0.139665</td>\n",
              "    </tr>\n",
              "    <tr>\n",
              "      <th>6</th>\n",
              "      <td>Male</td>\n",
              "      <td>3rd</td>\n",
              "      <td>0.172549</td>\n",
              "    </tr>\n",
              "    <tr>\n",
              "      <th>7</th>\n",
              "      <td>Male</td>\n",
              "      <td>Crew</td>\n",
              "      <td>0.222738</td>\n",
              "    </tr>\n",
              "  </tbody>\n",
              "</table>\n",
              "</div>"
            ],
            "text/plain": [
              "      Sex Class      Mean\n",
              "0  Female   1st  0.972414\n",
              "1  Female   2nd  0.877358\n",
              "2  Female   3rd  0.459184\n",
              "3  Female  Crew  0.869565\n",
              "4    Male   1st  0.344444\n",
              "5    Male   2nd  0.139665\n",
              "6    Male   3rd  0.172549\n",
              "7    Male  Crew  0.222738"
            ]
          },
          "metadata": {},
          "execution_count": 52
        }
      ]
    },
    {
      "cell_type": "markdown",
      "metadata": {
        "id": "DHZJHj1eWScb"
      },
      "source": [
        "Why aren't the values equal? First, notice that there are $8$ means, but only $5$ parameters in the regression output. Second, the model doens't take *interactions* into account, only linear effects. Interactions occur when the effect of one variable depends on the value of another variable.\n"
      ]
    },
    {
      "cell_type": "markdown",
      "metadata": {
        "id": "xmcgZRGJOIoh"
      },
      "source": [
        "### A \"two-way\" model"
      ]
    },
    {
      "cell_type": "markdown",
      "metadata": {
        "id": "7HYXraACV6yn"
      },
      "source": [
        "Let $A$ and $B$ be sets with $I$ and $J$ elements each. Consider the following model\n",
        "$$y=\\sum_{i=1}^{I}\\sum_{j=1}^{J}\\beta_{ij}1[X_{1}=a_{j}]1[X_{2}=b_{k}].$$\n",
        "That is the same model as \n",
        "$$y=\\sum_{i=1}^{I}\\sum_{j=1}^{J}\\beta_{ij}1[X = (a_{j}, b_{k})],$$\n",
        "where $(a_i,b_j) \\in A\\times B$. Thus it may be viewed as an ordinary categorical variable model."
      ]
    },
    {
      "cell_type": "markdown",
      "metadata": {
        "id": "cWCcsTF8OMDx"
      },
      "source": [
        "### Titanic example"
      ]
    },
    {
      "cell_type": "markdown",
      "metadata": {
        "id": "_YE34cisOCeR"
      },
      "source": [
        "Let $A = \\{\\textrm{female}, \\textrm{male}\\}$ and $B = \\{\\textrm{2nd},\\textrm{3rd}, \\textrm{3rd}, \\textrm{Crew}\\}$. That is, $A$ are the sex categories and $B$ are the class categories. Remember their product set, which equals\n"
      ]
    },
    {
      "cell_type": "code",
      "metadata": {
        "colab": {
          "base_uri": "https://localhost:8080/"
        },
        "id": "fP6MoyaAO0I5",
        "outputId": "ad194d10-917d-4722-dd60-531fc8717680"
      },
      "source": [
        "set(product(set(titanic.Sex), set(titanic.Class)))"
      ],
      "execution_count": 13,
      "outputs": [
        {
          "output_type": "execute_result",
          "data": {
            "text/plain": [
              "{('Female', '1st'),\n",
              " ('Female', '2nd'),\n",
              " ('Female', '3rd'),\n",
              " ('Female', 'Crew'),\n",
              " ('Male', '1st'),\n",
              " ('Male', '2nd'),\n",
              " ('Male', '3rd'),\n",
              " ('Male', 'Crew')}"
            ]
          },
          "metadata": {},
          "execution_count": 13
        }
      ]
    },
    {
      "cell_type": "markdown",
      "metadata": {
        "id": "_zVOJbHjO8Dh"
      },
      "source": [
        "Writing down the model explicitly doesn't help, as it's cumbersome to look at. But using $$y=\\sum_{i=1}^{I}\\sum_{j=1}^{J}\\beta_{ij}1[X = (a_{j}, b_{k})],$$\n",
        "where $(a_i,b_j) \\in A\\times B$, we can write a table of the corresponding coefficients."
      ]
    },
    {
      "cell_type": "markdown",
      "metadata": {
        "id": "PLkzT7DDYKsH"
      },
      "source": [
        "|         |        | Class |     |     |      |\n",
        "| ---     |------- | ----- | --- |-----| ---  |\n",
        "|         |        | 1st   | 2nd | 3rd | Crew |\n",
        "| **Sex** |        |       |     |     |      |\n",
        "|         | Female | $\\beta_{11}$ | $\\beta_{12}$ | $\\beta_{13}$ | $\\beta_{14}$     |\n",
        "|         | Male   | $\\beta_{21}$ | $\\beta_{22}$ | $\\beta_{23}$ | $\\beta_{24}$     |"
      ]
    },
    {
      "cell_type": "markdown",
      "metadata": {
        "id": "46hec8bEPhex"
      },
      "source": [
        "When you want to predict the probability of survival for a male passenger traveling 3rd class, you find the second row (male) and third column (3rd class), and use the $\\beta_{23}$ coefficient. "
      ]
    },
    {
      "cell_type": "markdown",
      "metadata": {
        "id": "CeS-VUeKQQg2"
      },
      "source": [
        "Now let's fit the model! To do this, we will define a new column in the data frame `titanic` containing the product set of `Sex` and `Class`."
      ]
    },
    {
      "cell_type": "code",
      "metadata": {
        "colab": {
          "base_uri": "https://localhost:8080/"
        },
        "id": "4CH6emvvQzjR",
        "outputId": "7f3b7ef1-167f-4b5e-c4b5-d3af5ca9c966"
      },
      "source": [
        "titanic[\"SexClass\"] = list(zip(titanic[\"Sex\"], titanic[\"Class\"]))\n",
        "titanic.SexClass"
      ],
      "execution_count": 22,
      "outputs": [
        {
          "output_type": "execute_result",
          "data": {
            "text/plain": [
              "0          (Male, 3rd)\n",
              "1          (Male, 3rd)\n",
              "2          (Male, 3rd)\n",
              "3          (Male, 3rd)\n",
              "4          (Male, 3rd)\n",
              "             ...      \n",
              "2196    (Female, Crew)\n",
              "2197    (Female, Crew)\n",
              "2198    (Female, Crew)\n",
              "2199    (Female, Crew)\n",
              "2200    (Female, Crew)\n",
              "Name: SexClass, Length: 2201, dtype: object"
            ]
          },
          "metadata": {},
          "execution_count": 22
        }
      ]
    },
    {
      "cell_type": "markdown",
      "metadata": {
        "id": "mbEnrBHct_0m"
      },
      "source": [
        "Now we're ready to run the model."
      ]
    },
    {
      "cell_type": "code",
      "metadata": {
        "colab": {
          "base_uri": "https://localhost:8080/",
          "height": 563
        },
        "id": "OK0GIWQoRLSB",
        "outputId": "60e207f2-b21e-4fb6-9a1c-245487be8da2"
      },
      "source": [
        "fit = smf.ols(\"Survived_01 ~ SexClass - 1\", data = titanic).fit()\n",
        "fit.summary()"
      ],
      "execution_count": 24,
      "outputs": [
        {
          "output_type": "execute_result",
          "data": {
            "text/html": [
              "<table class=\"simpletable\">\n",
              "<caption>OLS Regression Results</caption>\n",
              "<tr>\n",
              "  <th>Dep. Variable:</th>       <td>Survived_01</td>   <th>  R-squared:         </th> <td>   0.271</td> \n",
              "</tr>\n",
              "<tr>\n",
              "  <th>Model:</th>                   <td>OLS</td>       <th>  Adj. R-squared:    </th> <td>   0.269</td> \n",
              "</tr>\n",
              "<tr>\n",
              "  <th>Method:</th>             <td>Least Squares</td>  <th>  F-statistic:       </th> <td>   116.6</td> \n",
              "</tr>\n",
              "<tr>\n",
              "  <th>Date:</th>             <td>Thu, 14 Oct 2021</td> <th>  Prob (F-statistic):</th> <td>1.01e-145</td>\n",
              "</tr>\n",
              "<tr>\n",
              "  <th>Time:</th>                 <td>05:27:26</td>     <th>  Log-Likelihood:    </th> <td> -1102.0</td> \n",
              "</tr>\n",
              "<tr>\n",
              "  <th>No. Observations:</th>      <td>  2201</td>      <th>  AIC:               </th> <td>   2220.</td> \n",
              "</tr>\n",
              "<tr>\n",
              "  <th>Df Residuals:</th>          <td>  2193</td>      <th>  BIC:               </th> <td>   2266.</td> \n",
              "</tr>\n",
              "<tr>\n",
              "  <th>Df Model:</th>              <td>     7</td>      <th>                     </th>     <td> </td>    \n",
              "</tr>\n",
              "<tr>\n",
              "  <th>Covariance Type:</th>      <td>nonrobust</td>    <th>                     </th>     <td> </td>    \n",
              "</tr>\n",
              "</table>\n",
              "<table class=\"simpletable\">\n",
              "<tr>\n",
              "                <td></td>                  <th>coef</th>     <th>std err</th>      <th>t</th>      <th>P>|t|</th>  <th>[0.025</th>    <th>0.975]</th>  \n",
              "</tr>\n",
              "<tr>\n",
              "  <th>SexClass[('Female', '1st')]</th>  <td>    0.9724</td> <td>    0.033</td> <td>   29.278</td> <td> 0.000</td> <td>    0.907</td> <td>    1.038</td>\n",
              "</tr>\n",
              "<tr>\n",
              "  <th>SexClass[('Female', '2nd')]</th>  <td>    0.8774</td> <td>    0.039</td> <td>   22.586</td> <td> 0.000</td> <td>    0.801</td> <td>    0.954</td>\n",
              "</tr>\n",
              "<tr>\n",
              "  <th>SexClass[('Female', '3rd')]</th>  <td>    0.4592</td> <td>    0.029</td> <td>   16.074</td> <td> 0.000</td> <td>    0.403</td> <td>    0.515</td>\n",
              "</tr>\n",
              "<tr>\n",
              "  <th>SexClass[('Female', 'Crew')]</th> <td>    0.8696</td> <td>    0.083</td> <td>   10.427</td> <td> 0.000</td> <td>    0.706</td> <td>    1.033</td>\n",
              "</tr>\n",
              "<tr>\n",
              "  <th>SexClass[('Male', '1st')]</th>    <td>    0.3444</td> <td>    0.030</td> <td>   11.555</td> <td> 0.000</td> <td>    0.286</td> <td>    0.403</td>\n",
              "</tr>\n",
              "<tr>\n",
              "  <th>SexClass[('Male', '2nd')]</th>    <td>    0.1397</td> <td>    0.030</td> <td>    4.672</td> <td> 0.000</td> <td>    0.081</td> <td>    0.198</td>\n",
              "</tr>\n",
              "<tr>\n",
              "  <th>SexClass[('Male', '3rd')]</th>    <td>    0.1725</td> <td>    0.018</td> <td>    9.743</td> <td> 0.000</td> <td>    0.138</td> <td>    0.207</td>\n",
              "</tr>\n",
              "<tr>\n",
              "  <th>SexClass[('Male', 'Crew')]</th>   <td>    0.2227</td> <td>    0.014</td> <td>   16.351</td> <td> 0.000</td> <td>    0.196</td> <td>    0.249</td>\n",
              "</tr>\n",
              "</table>\n",
              "<table class=\"simpletable\">\n",
              "<tr>\n",
              "  <th>Omnibus:</th>       <td>286.377</td> <th>  Durbin-Watson:     </th> <td>   0.015</td>\n",
              "</tr>\n",
              "<tr>\n",
              "  <th>Prob(Omnibus):</th> <td> 0.000</td>  <th>  Jarque-Bera (JB):  </th> <td> 411.796</td>\n",
              "</tr>\n",
              "<tr>\n",
              "  <th>Skew:</th>          <td> 1.059</td>  <th>  Prob(JB):          </th> <td>3.80e-90</td>\n",
              "</tr>\n",
              "<tr>\n",
              "  <th>Kurtosis:</th>      <td> 2.963</td>  <th>  Cond. No.          </th> <td>    6.12</td>\n",
              "</tr>\n",
              "</table><br/><br/>Warnings:<br/>[1] Standard Errors assume that the covariance matrix of the errors is correctly specified."
            ],
            "text/plain": [
              "<class 'statsmodels.iolib.summary.Summary'>\n",
              "\"\"\"\n",
              "                            OLS Regression Results                            \n",
              "==============================================================================\n",
              "Dep. Variable:            Survived_01   R-squared:                       0.271\n",
              "Model:                            OLS   Adj. R-squared:                  0.269\n",
              "Method:                 Least Squares   F-statistic:                     116.6\n",
              "Date:                Thu, 14 Oct 2021   Prob (F-statistic):          1.01e-145\n",
              "Time:                        05:27:26   Log-Likelihood:                -1102.0\n",
              "No. Observations:                2201   AIC:                             2220.\n",
              "Df Residuals:                    2193   BIC:                             2266.\n",
              "Df Model:                           7                                         \n",
              "Covariance Type:            nonrobust                                         \n",
              "================================================================================================\n",
              "                                   coef    std err          t      P>|t|      [0.025      0.975]\n",
              "------------------------------------------------------------------------------------------------\n",
              "SexClass[('Female', '1st')]      0.9724      0.033     29.278      0.000       0.907       1.038\n",
              "SexClass[('Female', '2nd')]      0.8774      0.039     22.586      0.000       0.801       0.954\n",
              "SexClass[('Female', '3rd')]      0.4592      0.029     16.074      0.000       0.403       0.515\n",
              "SexClass[('Female', 'Crew')]     0.8696      0.083     10.427      0.000       0.706       1.033\n",
              "SexClass[('Male', '1st')]        0.3444      0.030     11.555      0.000       0.286       0.403\n",
              "SexClass[('Male', '2nd')]        0.1397      0.030      4.672      0.000       0.081       0.198\n",
              "SexClass[('Male', '3rd')]        0.1725      0.018      9.743      0.000       0.138       0.207\n",
              "SexClass[('Male', 'Crew')]       0.2227      0.014     16.351      0.000       0.196       0.249\n",
              "==============================================================================\n",
              "Omnibus:                      286.377   Durbin-Watson:                   0.015\n",
              "Prob(Omnibus):                  0.000   Jarque-Bera (JB):              411.796\n",
              "Skew:                           1.059   Prob(JB):                     3.80e-90\n",
              "Kurtosis:                       2.963   Cond. No.                         6.12\n",
              "==============================================================================\n",
              "\n",
              "Warnings:\n",
              "[1] Standard Errors assume that the covariance matrix of the errors is correctly specified.\n",
              "\"\"\""
            ]
          },
          "metadata": {},
          "execution_count": 24
        }
      ]
    },
    {
      "cell_type": "markdown",
      "metadata": {
        "id": "-koKBpdySSJp"
      },
      "source": [
        "Let's see how these new coefficients match the means we just calculated."
      ]
    },
    {
      "cell_type": "code",
      "metadata": {
        "colab": {
          "base_uri": "https://localhost:8080/",
          "height": 296
        },
        "id": "iq5mbDNrRYeG",
        "outputId": "b13202fe-5cb8-4b70-9409-f0ee54187374"
      },
      "source": [
        "frame[\"NewPredicted\"] = fit.params.array\n",
        "frame"
      ],
      "execution_count": 32,
      "outputs": [
        {
          "output_type": "execute_result",
          "data": {
            "text/html": [
              "<div>\n",
              "<style scoped>\n",
              "    .dataframe tbody tr th:only-of-type {\n",
              "        vertical-align: middle;\n",
              "    }\n",
              "\n",
              "    .dataframe tbody tr th {\n",
              "        vertical-align: top;\n",
              "    }\n",
              "\n",
              "    .dataframe thead th {\n",
              "        text-align: right;\n",
              "    }\n",
              "</style>\n",
              "<table border=\"1\" class=\"dataframe\">\n",
              "  <thead>\n",
              "    <tr style=\"text-align: right;\">\n",
              "      <th></th>\n",
              "      <th>Sex</th>\n",
              "      <th>Class</th>\n",
              "      <th>Predicted</th>\n",
              "      <th>Mean</th>\n",
              "      <th>NewPredicted</th>\n",
              "    </tr>\n",
              "  </thead>\n",
              "  <tbody>\n",
              "    <tr>\n",
              "      <th>0</th>\n",
              "      <td>Female</td>\n",
              "      <td>1st</td>\n",
              "      <td>0.900080</td>\n",
              "      <td>0.972414</td>\n",
              "      <td>0.972414</td>\n",
              "    </tr>\n",
              "    <tr>\n",
              "      <th>1</th>\n",
              "      <td>Female</td>\n",
              "      <td>2nd</td>\n",
              "      <td>0.726416</td>\n",
              "      <td>0.877358</td>\n",
              "      <td>0.877358</td>\n",
              "    </tr>\n",
              "    <tr>\n",
              "      <th>2</th>\n",
              "      <td>Female</td>\n",
              "      <td>3rd</td>\n",
              "      <td>0.611412</td>\n",
              "      <td>0.459184</td>\n",
              "      <td>0.459184</td>\n",
              "    </tr>\n",
              "    <tr>\n",
              "      <th>3</th>\n",
              "      <td>Female</td>\n",
              "      <td>Crew</td>\n",
              "      <td>0.723988</td>\n",
              "      <td>0.869565</td>\n",
              "      <td>0.869565</td>\n",
              "    </tr>\n",
              "    <tr>\n",
              "      <th>4</th>\n",
              "      <td>Male</td>\n",
              "      <td>1st</td>\n",
              "      <td>0.402714</td>\n",
              "      <td>0.344444</td>\n",
              "      <td>0.344444</td>\n",
              "    </tr>\n",
              "    <tr>\n",
              "      <th>5</th>\n",
              "      <td>Male</td>\n",
              "      <td>2nd</td>\n",
              "      <td>0.229050</td>\n",
              "      <td>0.139665</td>\n",
              "      <td>0.139665</td>\n",
              "    </tr>\n",
              "    <tr>\n",
              "      <th>6</th>\n",
              "      <td>Male</td>\n",
              "      <td>3rd</td>\n",
              "      <td>0.114046</td>\n",
              "      <td>0.172549</td>\n",
              "      <td>0.172549</td>\n",
              "    </tr>\n",
              "    <tr>\n",
              "      <th>7</th>\n",
              "      <td>Male</td>\n",
              "      <td>Crew</td>\n",
              "      <td>0.226622</td>\n",
              "      <td>0.222738</td>\n",
              "      <td>0.222738</td>\n",
              "    </tr>\n",
              "  </tbody>\n",
              "</table>\n",
              "</div>"
            ],
            "text/plain": [
              "      Sex Class  Predicted      Mean  NewPredicted\n",
              "0  Female   1st   0.900080  0.972414      0.972414\n",
              "1  Female   2nd   0.726416  0.877358      0.877358\n",
              "2  Female   3rd   0.611412  0.459184      0.459184\n",
              "3  Female  Crew   0.723988  0.869565      0.869565\n",
              "4    Male   1st   0.402714  0.344444      0.344444\n",
              "5    Male   2nd   0.229050  0.139665      0.139665\n",
              "6    Male   3rd   0.114046  0.172549      0.172549\n",
              "7    Male  Crew   0.226622  0.222738      0.222738"
            ]
          },
          "metadata": {},
          "execution_count": 32
        }
      ]
    },
    {
      "cell_type": "markdown",
      "metadata": {
        "id": "d7DQwracTWiA"
      },
      "source": [
        "That's perfect!"
      ]
    },
    {
      "cell_type": "markdown",
      "metadata": {
        "id": "wIXcgWF6TYTa"
      },
      "source": [
        "As it happens, `statsmodels` allows us to run interaction models such as these easily. We just need to use the `*` command:"
      ]
    },
    {
      "cell_type": "code",
      "metadata": {
        "colab": {
          "base_uri": "https://localhost:8080/",
          "height": 563
        },
        "id": "PamcHyYaQJHh",
        "outputId": "3931e33f-8087-40b0-9631-2948952d978b"
      },
      "source": [
        "import statsmodels.formula.api as smf\n",
        "fit = smf.ols(\"Survived_01 ~ Sex * Class\", data = titanic).fit()\n",
        "fit.summary()"
      ],
      "execution_count": 33,
      "outputs": [
        {
          "output_type": "execute_result",
          "data": {
            "text/html": [
              "<table class=\"simpletable\">\n",
              "<caption>OLS Regression Results</caption>\n",
              "<tr>\n",
              "  <th>Dep. Variable:</th>       <td>Survived_01</td>   <th>  R-squared:         </th> <td>   0.271</td> \n",
              "</tr>\n",
              "<tr>\n",
              "  <th>Model:</th>                   <td>OLS</td>       <th>  Adj. R-squared:    </th> <td>   0.269</td> \n",
              "</tr>\n",
              "<tr>\n",
              "  <th>Method:</th>             <td>Least Squares</td>  <th>  F-statistic:       </th> <td>   116.6</td> \n",
              "</tr>\n",
              "<tr>\n",
              "  <th>Date:</th>             <td>Thu, 14 Oct 2021</td> <th>  Prob (F-statistic):</th> <td>1.01e-145</td>\n",
              "</tr>\n",
              "<tr>\n",
              "  <th>Time:</th>                 <td>05:37:30</td>     <th>  Log-Likelihood:    </th> <td> -1102.0</td> \n",
              "</tr>\n",
              "<tr>\n",
              "  <th>No. Observations:</th>      <td>  2201</td>      <th>  AIC:               </th> <td>   2220.</td> \n",
              "</tr>\n",
              "<tr>\n",
              "  <th>Df Residuals:</th>          <td>  2193</td>      <th>  BIC:               </th> <td>   2266.</td> \n",
              "</tr>\n",
              "<tr>\n",
              "  <th>Df Model:</th>              <td>     7</td>      <th>                     </th>     <td> </td>    \n",
              "</tr>\n",
              "<tr>\n",
              "  <th>Covariance Type:</th>      <td>nonrobust</td>    <th>                     </th>     <td> </td>    \n",
              "</tr>\n",
              "</table>\n",
              "<table class=\"simpletable\">\n",
              "<tr>\n",
              "              <td></td>                 <th>coef</th>     <th>std err</th>      <th>t</th>      <th>P>|t|</th>  <th>[0.025</th>    <th>0.975]</th>  \n",
              "</tr>\n",
              "<tr>\n",
              "  <th>Intercept</th>                 <td>    0.9724</td> <td>    0.033</td> <td>   29.278</td> <td> 0.000</td> <td>    0.907</td> <td>    1.038</td>\n",
              "</tr>\n",
              "<tr>\n",
              "  <th>Sex[T.Male]</th>               <td>   -0.6280</td> <td>    0.045</td> <td>  -14.071</td> <td> 0.000</td> <td>   -0.715</td> <td>   -0.540</td>\n",
              "</tr>\n",
              "<tr>\n",
              "  <th>Class[T.2nd]</th>              <td>   -0.0951</td> <td>    0.051</td> <td>   -1.860</td> <td> 0.063</td> <td>   -0.195</td> <td>    0.005</td>\n",
              "</tr>\n",
              "<tr>\n",
              "  <th>Class[T.3rd]</th>              <td>   -0.5132</td> <td>    0.044</td> <td>  -11.715</td> <td> 0.000</td> <td>   -0.599</td> <td>   -0.427</td>\n",
              "</tr>\n",
              "<tr>\n",
              "  <th>Class[T.Crew]</th>             <td>   -0.1028</td> <td>    0.090</td> <td>   -1.146</td> <td> 0.252</td> <td>   -0.279</td> <td>    0.073</td>\n",
              "</tr>\n",
              "<tr>\n",
              "  <th>Sex[T.Male]:Class[T.2nd]</th>  <td>   -0.1097</td> <td>    0.066</td> <td>   -1.655</td> <td> 0.098</td> <td>   -0.240</td> <td>    0.020</td>\n",
              "</tr>\n",
              "<tr>\n",
              "  <th>Sex[T.Male]:Class[T.3rd]</th>  <td>    0.3413</td> <td>    0.056</td> <td>    6.109</td> <td> 0.000</td> <td>    0.232</td> <td>    0.451</td>\n",
              "</tr>\n",
              "<tr>\n",
              "  <th>Sex[T.Male]:Class[T.Crew]</th> <td>   -0.0189</td> <td>    0.096</td> <td>   -0.197</td> <td> 0.844</td> <td>   -0.206</td> <td>    0.169</td>\n",
              "</tr>\n",
              "</table>\n",
              "<table class=\"simpletable\">\n",
              "<tr>\n",
              "  <th>Omnibus:</th>       <td>286.377</td> <th>  Durbin-Watson:     </th> <td>   0.015</td>\n",
              "</tr>\n",
              "<tr>\n",
              "  <th>Prob(Omnibus):</th> <td> 0.000</td>  <th>  Jarque-Bera (JB):  </th> <td> 411.796</td>\n",
              "</tr>\n",
              "<tr>\n",
              "  <th>Skew:</th>          <td> 1.059</td>  <th>  Prob(JB):          </th> <td>3.80e-90</td>\n",
              "</tr>\n",
              "<tr>\n",
              "  <th>Kurtosis:</th>      <td> 2.963</td>  <th>  Cond. No.          </th> <td>    24.4</td>\n",
              "</tr>\n",
              "</table><br/><br/>Warnings:<br/>[1] Standard Errors assume that the covariance matrix of the errors is correctly specified."
            ],
            "text/plain": [
              "<class 'statsmodels.iolib.summary.Summary'>\n",
              "\"\"\"\n",
              "                            OLS Regression Results                            \n",
              "==============================================================================\n",
              "Dep. Variable:            Survived_01   R-squared:                       0.271\n",
              "Model:                            OLS   Adj. R-squared:                  0.269\n",
              "Method:                 Least Squares   F-statistic:                     116.6\n",
              "Date:                Thu, 14 Oct 2021   Prob (F-statistic):          1.01e-145\n",
              "Time:                        05:37:30   Log-Likelihood:                -1102.0\n",
              "No. Observations:                2201   AIC:                             2220.\n",
              "Df Residuals:                    2193   BIC:                             2266.\n",
              "Df Model:                           7                                         \n",
              "Covariance Type:            nonrobust                                         \n",
              "=============================================================================================\n",
              "                                coef    std err          t      P>|t|      [0.025      0.975]\n",
              "---------------------------------------------------------------------------------------------\n",
              "Intercept                     0.9724      0.033     29.278      0.000       0.907       1.038\n",
              "Sex[T.Male]                  -0.6280      0.045    -14.071      0.000      -0.715      -0.540\n",
              "Class[T.2nd]                 -0.0951      0.051     -1.860      0.063      -0.195       0.005\n",
              "Class[T.3rd]                 -0.5132      0.044    -11.715      0.000      -0.599      -0.427\n",
              "Class[T.Crew]                -0.1028      0.090     -1.146      0.252      -0.279       0.073\n",
              "Sex[T.Male]:Class[T.2nd]     -0.1097      0.066     -1.655      0.098      -0.240       0.020\n",
              "Sex[T.Male]:Class[T.3rd]      0.3413      0.056      6.109      0.000       0.232       0.451\n",
              "Sex[T.Male]:Class[T.Crew]    -0.0189      0.096     -0.197      0.844      -0.206       0.169\n",
              "==============================================================================\n",
              "Omnibus:                      286.377   Durbin-Watson:                   0.015\n",
              "Prob(Omnibus):                  0.000   Jarque-Bera (JB):              411.796\n",
              "Skew:                           1.059   Prob(JB):                     3.80e-90\n",
              "Kurtosis:                       2.963   Cond. No.                         24.4\n",
              "==============================================================================\n",
              "\n",
              "Warnings:\n",
              "[1] Standard Errors assume that the covariance matrix of the errors is correctly specified.\n",
              "\"\"\""
            ]
          },
          "metadata": {},
          "execution_count": 33
        }
      ]
    },
    {
      "cell_type": "markdown",
      "metadata": {
        "id": "51lk0qXwTkk4"
      },
      "source": [
        "Yet again, we have to think about baselines. Since there is no `Sex[T.Female]` in the table, the baseline sex is female. Since there is no `Class[T.1st]` in the table, the baseline class if 1st class.\n",
        "\n",
        "To calculate the predicted value of, say, a male with class `3rd`, you would have to sum the coefficients of `Sex[T.Male]`, `Class[T.3rd]` *and* `Sex[T.Male]:Class[T.3rd]`. "
      ]
    },
    {
      "cell_type": "code",
      "metadata": {
        "colab": {
          "base_uri": "https://localhost:8080/"
        },
        "id": "UKzk6XeqUV5y",
        "outputId": "71b60a31-c39f-475e-b786-1a006308afaf"
      },
      "source": [
        "fit.params"
      ],
      "execution_count": 34,
      "outputs": [
        {
          "output_type": "execute_result",
          "data": {
            "text/plain": [
              "Intercept                    0.972414\n",
              "Sex[T.Male]                 -0.627969\n",
              "Class[T.2nd]                -0.095055\n",
              "Class[T.3rd]                -0.513230\n",
              "Class[T.Crew]               -0.102849\n",
              "Sex[T.Male]:Class[T.2nd]    -0.109724\n",
              "Sex[T.Male]:Class[T.3rd]     0.341335\n",
              "Sex[T.Male]:Class[T.Crew]   -0.018858\n",
              "dtype: float64"
            ]
          },
          "metadata": {},
          "execution_count": 34
        }
      ]
    },
    {
      "cell_type": "code",
      "metadata": {
        "colab": {
          "base_uri": "https://localhost:8080/"
        },
        "id": "ngVcde9wUXsg",
        "outputId": "a35ade8e-bdbd-4e88-faa7-65feec0b3a81"
      },
      "source": [
        "coef = fit.params\n",
        "coef[\"Intercept\"] + coef[\"Sex[T.Male]\"] + coef[\"Class[T.3rd]\"]+ coef[\"Sex[T.Male]:Class[T.3rd]\"]"
      ],
      "execution_count": 37,
      "outputs": [
        {
          "output_type": "execute_result",
          "data": {
            "text/plain": [
              "0.17254901960784796"
            ]
          },
          "metadata": {},
          "execution_count": 37
        }
      ]
    },
    {
      "cell_type": "code",
      "metadata": {
        "colab": {
          "base_uri": "https://localhost:8080/",
          "height": 80
        },
        "id": "q0qQWqU7UuNI",
        "outputId": "3412a126-48d5-4b9e-8146-fd73c6ee8c24"
      },
      "source": [
        "frame[6:7]"
      ],
      "execution_count": 45,
      "outputs": [
        {
          "output_type": "execute_result",
          "data": {
            "text/html": [
              "<div>\n",
              "<style scoped>\n",
              "    .dataframe tbody tr th:only-of-type {\n",
              "        vertical-align: middle;\n",
              "    }\n",
              "\n",
              "    .dataframe tbody tr th {\n",
              "        vertical-align: top;\n",
              "    }\n",
              "\n",
              "    .dataframe thead th {\n",
              "        text-align: right;\n",
              "    }\n",
              "</style>\n",
              "<table border=\"1\" class=\"dataframe\">\n",
              "  <thead>\n",
              "    <tr style=\"text-align: right;\">\n",
              "      <th></th>\n",
              "      <th>Sex</th>\n",
              "      <th>Class</th>\n",
              "      <th>Predicted</th>\n",
              "      <th>Mean</th>\n",
              "      <th>NewPredicted</th>\n",
              "    </tr>\n",
              "  </thead>\n",
              "  <tbody>\n",
              "    <tr>\n",
              "      <th>6</th>\n",
              "      <td>Male</td>\n",
              "      <td>3rd</td>\n",
              "      <td>0.114046</td>\n",
              "      <td>0.172549</td>\n",
              "      <td>0.172549</td>\n",
              "    </tr>\n",
              "  </tbody>\n",
              "</table>\n",
              "</div>"
            ],
            "text/plain": [
              "    Sex Class  Predicted      Mean  NewPredicted\n",
              "6  Male   3rd   0.114046  0.172549      0.172549"
            ]
          },
          "metadata": {},
          "execution_count": 45
        }
      ]
    },
    {
      "cell_type": "markdown",
      "metadata": {
        "id": "v99Ge8Xcuji-"
      },
      "source": [
        "It's clearly harder to interpret the coefficients of a the `statsmodels` object with formula `\"Survived_01 ~ Sex * Class\"` than that with formula `\"Survived_01 ~ SexClass - 1\"`. However, we may use the formulation `\"Survived_01 ~ Sex * Class\"` to more easily ask meaningful questions.\n",
        "\n",
        "\n"
      ]
    },
    {
      "cell_type": "markdown",
      "metadata": {
        "id": "W9KurpU-_UDM"
      },
      "source": [
        "Most importantly, do we need the interaction terms or not? In other words, do we need the whole model `\"Survived_01 ~ Sex * Class\"`, or would it suffice with `\"Survived_01 ~ Sex + Class\"`? That's the topic for next lesson."
      ]
    },
    {
      "cell_type": "markdown",
      "metadata": {
        "id": "vUyTTojV_nTw"
      },
      "source": [
        "## Summary\n",
        "1. We can test if at least one of the coefficients $\\beta \\neq 0$ using the $F$-test.\n",
        "2. Using the $F$-test is equivalent to testing if the $R^2$ is greater than $0$.\n",
        "3. Interactions is the statistical term for a model involving products of two or more variables $x_1,x_2$, e.g. $y = \\beta x_1 + \\beta_{12} x_1 x_2$."
      ]
    }
  ]
}