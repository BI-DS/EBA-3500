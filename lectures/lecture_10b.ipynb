{
 "cells": [
  {
   "cell_type": "markdown",
   "metadata": {
    "id": "cXdeN6tD7Z7S"
   },
   "source": [
    "# EBA3500 Lecture 9. Interaction"
   ]
  },
  {
   "cell_type": "markdown",
   "metadata": {
    "id": "O2HOse_gXgvM"
   },
   "source": [
    "We'll use the `titanic` data set once again. "
   ]
  },
  {
   "cell_type": "code",
   "execution_count": 13,
   "metadata": {
    "colab": {
     "base_uri": "https://localhost:8080/"
    },
    "id": "tvmWAYTEXQ4x",
    "outputId": "16873284-fe5e-4763-b0bf-c8dcf1f3932e"
   },
   "outputs": [],
   "source": [
    "import pyreadr, os, pathlib\n",
    "\n",
    "def pyreadr_load(url, local_file = \"temp_pyreadr.rda\"):\n",
    "  \"\"\"Download the R dataset at the specified url into local_file, load the \n",
    "  local file, delete the local file. Return the dataset.\"\"\"\n",
    "  \n",
    "  file_name = pyreadr.download_file(url, local_file)\n",
    "  dataframe = pyreadr.read_r(file_name)\n",
    "  os.remove(str(pathlib.Path().resolve()) + \"/\" + file_name)\n",
    "  name = next(iter(dataframe.items()))[0]\n",
    "  return dataframe[name]"
   ]
  },
  {
   "cell_type": "code",
   "execution_count": 14,
   "metadata": {
    "colab": {
     "base_uri": "https://localhost:8080/",
     "height": 203
    },
    "id": "fmxEl8P6XR_3",
    "outputId": "3d875229-140e-4170-f470-dacf1e028419"
   },
   "outputs": [
    {
     "data": {
      "text/html": [
       "<div>\n",
       "<style scoped>\n",
       "    .dataframe tbody tr th:only-of-type {\n",
       "        vertical-align: middle;\n",
       "    }\n",
       "\n",
       "    .dataframe tbody tr th {\n",
       "        vertical-align: top;\n",
       "    }\n",
       "\n",
       "    .dataframe thead th {\n",
       "        text-align: right;\n",
       "    }\n",
       "</style>\n",
       "<table border=\"1\" class=\"dataframe\">\n",
       "  <thead>\n",
       "    <tr style=\"text-align: right;\">\n",
       "      <th></th>\n",
       "      <th>Class</th>\n",
       "      <th>Sex</th>\n",
       "      <th>Age</th>\n",
       "      <th>Survived</th>\n",
       "    </tr>\n",
       "  </thead>\n",
       "  <tbody>\n",
       "    <tr>\n",
       "      <th>0</th>\n",
       "      <td>3rd</td>\n",
       "      <td>Male</td>\n",
       "      <td>Child</td>\n",
       "      <td>No</td>\n",
       "    </tr>\n",
       "    <tr>\n",
       "      <th>1</th>\n",
       "      <td>3rd</td>\n",
       "      <td>Male</td>\n",
       "      <td>Child</td>\n",
       "      <td>No</td>\n",
       "    </tr>\n",
       "    <tr>\n",
       "      <th>2</th>\n",
       "      <td>3rd</td>\n",
       "      <td>Male</td>\n",
       "      <td>Child</td>\n",
       "      <td>No</td>\n",
       "    </tr>\n",
       "    <tr>\n",
       "      <th>3</th>\n",
       "      <td>3rd</td>\n",
       "      <td>Male</td>\n",
       "      <td>Child</td>\n",
       "      <td>No</td>\n",
       "    </tr>\n",
       "    <tr>\n",
       "      <th>4</th>\n",
       "      <td>3rd</td>\n",
       "      <td>Male</td>\n",
       "      <td>Child</td>\n",
       "      <td>No</td>\n",
       "    </tr>\n",
       "  </tbody>\n",
       "</table>\n",
       "</div>"
      ],
      "text/plain": [
       "  Class   Sex    Age Survived\n",
       "0   3rd  Male  Child       No\n",
       "1   3rd  Male  Child       No\n",
       "2   3rd  Male  Child       No\n",
       "3   3rd  Male  Child       No\n",
       "4   3rd  Male  Child       No"
      ]
     },
     "execution_count": 14,
     "metadata": {},
     "output_type": "execute_result"
    }
   ],
   "source": [
    "url = 'https://github.com/kassambara/datarium/blob/master/data/titanic.raw.rda?raw=true'\n",
    "titanic = pyreadr_load(url)\n",
    "titanic.head()"
   ]
  },
  {
   "cell_type": "markdown",
   "metadata": {},
   "source": [
    "## Interactions"
   ]
  },
  {
   "cell_type": "markdown",
   "metadata": {
    "id": "8BcjX3XAAFXm"
   },
   "source": [
    "Interactions are regression terms that involve products of two or more covariates, e.g., \n",
    "$$y = \\alpha + \\beta_1 x_1 + \\beta_{12} x_1x_2.$$ \n",
    "The terminology is most freqently used for categorical variables. Let's explore what it means."
   ]
  },
  {
   "cell_type": "markdown",
   "metadata": {
    "id": "S2xP-onnX4IY"
   },
   "source": [
    "## The Cartesian product"
   ]
  },
  {
   "cell_type": "markdown",
   "metadata": {
    "id": "y375A7zzX9GC"
   },
   "source": [
    "We'll have to deal with another fundamental set-theoretic construction, called the *Cartesian product*. \n",
    "\n",
    "**Note:** If something is *Cartesian*, it is named after the French reneissance philosopher René Descartes."
   ]
  },
  {
   "cell_type": "markdown",
   "metadata": {
    "id": "VfLc5ZnUruT8"
   },
   "source": [
    "We will use the symbol \"$\\in$\", which reads reads \"in\". Writing \"$a\\in A$\" means the same as \"$a \\textrm{ in } A$\". This symbol may look unfamiliar but is a staple of mathematical notation."
   ]
  },
  {
   "cell_type": "markdown",
   "metadata": {
    "id": "8UlMqfb3Vz84"
   },
   "source": [
    "#### Definition\n",
    "> Let $A$ and $B$ be two sets. The *Cartesian product*, denoted by $A\\times B$, is the unique set containing the tuples $(a,b)$ for $a\\in A$ and $b \\in B$. "
   ]
  },
  {
   "cell_type": "markdown",
   "metadata": {
    "id": "CJ-Fti_WZzDp"
   },
   "source": [
    "We also call $A \\times B$ the *product set*, or the product of $A$ and $B$. "
   ]
  },
  {
   "cell_type": "markdown",
   "metadata": {
    "id": "-rAsShfWqnlW"
   },
   "source": [
    "#### Example"
   ]
  },
  {
   "cell_type": "markdown",
   "metadata": {
    "id": "jWJQobjoqspe"
   },
   "source": [
    "Recall the sex and class categories from the Titanic data set."
   ]
  },
  {
   "cell_type": "code",
   "execution_count": 15,
   "metadata": {
    "colab": {
     "base_uri": "https://localhost:8080/"
    },
    "id": "3Q3gwR1DXxIG",
    "outputId": "b7bb5aea-4291-4bce-df88-d8e2ec75b5f1"
   },
   "outputs": [
    {
     "data": {
      "text/plain": [
       "{'Female', 'Male'}"
      ]
     },
     "execution_count": 15,
     "metadata": {},
     "output_type": "execute_result"
    }
   ],
   "source": [
    "set(titanic.Sex)"
   ]
  },
  {
   "cell_type": "code",
   "execution_count": 16,
   "metadata": {
    "colab": {
     "base_uri": "https://localhost:8080/"
    },
    "id": "5SPr--JoXo8H",
    "outputId": "a41a9c2f-ce4f-479f-b0fd-137fda919309"
   },
   "outputs": [
    {
     "data": {
      "text/plain": [
       "{'1st', '2nd', '3rd', 'Crew'}"
      ]
     },
     "execution_count": 16,
     "metadata": {},
     "output_type": "execute_result"
    }
   ],
   "source": [
    "set(titanic.Class)"
   ]
  },
  {
   "cell_type": "markdown",
   "metadata": {
    "id": "3oFptdiOqyDv"
   },
   "source": [
    "We will construct the product set of these two sets. To to this, we will use the `product` function from `itertools`. This function often comes in handy in programming in general."
   ]
  },
  {
   "cell_type": "code",
   "execution_count": 17,
   "metadata": {
    "colab": {
     "base_uri": "https://localhost:8080/"
    },
    "id": "_7cjOUOnX2Gm",
    "outputId": "2dc0f1eb-b77e-4ff7-db22-adeccec63d8a"
   },
   "outputs": [
    {
     "data": {
      "text/plain": [
       "{('Female', '1st'),\n",
       " ('Female', '2nd'),\n",
       " ('Female', '3rd'),\n",
       " ('Female', 'Crew'),\n",
       " ('Male', '1st'),\n",
       " ('Male', '2nd'),\n",
       " ('Male', '3rd'),\n",
       " ('Male', 'Crew')}"
      ]
     },
     "execution_count": 17,
     "metadata": {},
     "output_type": "execute_result"
    }
   ],
   "source": [
    "from itertools import product\n",
    "set(product(set(titanic.Sex), set(titanic.Class)))"
   ]
  },
  {
   "cell_type": "markdown",
   "metadata": {
    "id": "o8Wgr7jNrI54"
   },
   "source": [
    "We can also take the product of more than two sets, say $A\\times B \\times C$. Such products are defined in the obvious way, i.e., $(a,b,c)\\in A\\times B\\times C$ if and only if $a\\in A$, $b \\in B$, and $c \\in C$."
   ]
  },
  {
   "cell_type": "code",
   "execution_count": 18,
   "metadata": {
    "colab": {
     "base_uri": "https://localhost:8080/"
    },
    "id": "q0QFSd4DsGU3",
    "outputId": "bc9bcbaf-bba2-49fd-e4d7-7600233f51c3"
   },
   "outputs": [
    {
     "data": {
      "text/plain": [
       "{'Adult', 'Child'}"
      ]
     },
     "execution_count": 18,
     "metadata": {},
     "output_type": "execute_result"
    }
   ],
   "source": [
    "set(titanic.Age)"
   ]
  },
  {
   "cell_type": "code",
   "execution_count": 19,
   "metadata": {
    "colab": {
     "base_uri": "https://localhost:8080/"
    },
    "id": "60Hh9evTsJLF",
    "outputId": "948987c4-5217-454d-d56a-ce9405e27297"
   },
   "outputs": [
    {
     "data": {
      "text/plain": [
       "{('Female', '1st', 'Adult'),\n",
       " ('Female', '1st', 'Child'),\n",
       " ('Female', '2nd', 'Adult'),\n",
       " ('Female', '2nd', 'Child'),\n",
       " ('Female', '3rd', 'Adult'),\n",
       " ('Female', '3rd', 'Child'),\n",
       " ('Female', 'Crew', 'Adult'),\n",
       " ('Female', 'Crew', 'Child'),\n",
       " ('Male', '1st', 'Adult'),\n",
       " ('Male', '1st', 'Child'),\n",
       " ('Male', '2nd', 'Adult'),\n",
       " ('Male', '2nd', 'Child'),\n",
       " ('Male', '3rd', 'Adult'),\n",
       " ('Male', '3rd', 'Child'),\n",
       " ('Male', 'Crew', 'Adult'),\n",
       " ('Male', 'Crew', 'Child')}"
      ]
     },
     "execution_count": 19,
     "metadata": {},
     "output_type": "execute_result"
    }
   ],
   "source": [
    "set(product(set(titanic.Sex), set(titanic.Class), set(titanic.Age)))"
   ]
  },
  {
   "cell_type": "markdown",
   "metadata": {
    "id": "J5aLbwlYVuYy"
   },
   "source": [
    "### Titanic and interaction\n"
   ]
  },
  {
   "cell_type": "markdown",
   "metadata": {
    "id": "aPoCl1CVXDie"
   },
   "source": [
    "Recall from the last lecture that both sex and class affects the probability of survival. "
   ]
  },
  {
   "cell_type": "code",
   "execution_count": 20,
   "metadata": {
    "colab": {
     "base_uri": "https://localhost:8080/",
     "height": 298
    },
    "id": "iXY9niCgG4CS",
    "outputId": "347a896d-aa5a-4160-beb7-b21af09a7f13"
   },
   "outputs": [
    {
     "data": {
      "text/plain": [
       "<AxesSubplot:xlabel='Class', ylabel='count'>"
      ]
     },
     "execution_count": 20,
     "metadata": {},
     "output_type": "execute_result"
    },
    {
     "data": {
      "image/png": "[encoded data removed]",
      "text/plain": [
       "<Figure size 432x288 with 1 Axes>"
      ]
     },
     "metadata": {
      "needs_background": "light"
     },
     "output_type": "display_data"
    }
   ],
   "source": [
    "import seaborn as sns\n",
    "sns.countplot(x=\"Class\", hue=\"Survived\", data=titanic)"
   ]
  },
  {
   "cell_type": "markdown",
   "metadata": {
    "id": "pyJ-nDZA_vEy"
   },
   "source": [
    "The basic model involves only *linear effects*\n",
    "$$\n",
    "y = \\beta_0 + \\beta_{\\textrm{male}}1[\\textrm{sex} = \\textrm{male}] + \\beta_{\\textrm{2nd}}1[\\textrm{class} = \\textrm{2nd}]+ \\beta_{\\textrm{3rd}}1[\\textrm{class} = \\textrm{3rd}] + \\beta_{\\textrm{Crew}}1[\\textrm{class} = \\textrm{crew}].\n",
    "$$\n"
   ]
  },
  {
   "cell_type": "markdown",
   "metadata": {
    "id": "7p7Gepm6FjNF"
   },
   "source": [
    "\n",
    "Let's fit it and see what we get."
   ]
  },
  {
   "cell_type": "code",
   "execution_count": 26,
   "metadata": {
    "colab": {
     "base_uri": "https://localhost:8080/",
     "height": 556
    },
    "id": "kQhVNkVyFl5c",
    "outputId": "21585f55-b9c9-476a-e542-7addeb8a6afe"
   },
   "outputs": [
    {
     "data": {
      "text/html": [
       "<table class=\"simpletable\">\n",
       "<caption>OLS Regression Results</caption>\n",
       "<tr>\n",
       "  <th>Dep. Variable:</th>       <td>Survived_01</td>   <th>  R-squared:         </th> <td>   0.246</td> \n",
       "</tr>\n",
       "<tr>\n",
       "  <th>Model:</th>                   <td>OLS</td>       <th>  Adj. R-squared:    </th> <td>   0.245</td> \n",
       "</tr>\n",
       "<tr>\n",
       "  <th>Method:</th>             <td>Least Squares</td>  <th>  F-statistic:       </th> <td>   179.4</td> \n",
       "</tr>\n",
       "<tr>\n",
       "  <th>Date:</th>             <td>Wed, 20 Oct 2021</td> <th>  Prob (F-statistic):</th> <td>4.09e-133</td>\n",
       "</tr>\n",
       "<tr>\n",
       "  <th>Time:</th>                 <td>17:40:25</td>     <th>  Log-Likelihood:    </th> <td> -1139.0</td> \n",
       "</tr>\n",
       "<tr>\n",
       "  <th>No. Observations:</th>      <td>  2201</td>      <th>  AIC:               </th> <td>   2288.</td> \n",
       "</tr>\n",
       "<tr>\n",
       "  <th>Df Residuals:</th>          <td>  2196</td>      <th>  BIC:               </th> <td>   2317.</td> \n",
       "</tr>\n",
       "<tr>\n",
       "  <th>Df Model:</th>              <td>     4</td>      <th>                     </th>     <td> </td>    \n",
       "</tr>\n",
       "<tr>\n",
       "  <th>Covariance Type:</th>      <td>nonrobust</td>    <th>                     </th>     <td> </td>    \n",
       "</tr>\n",
       "</table>\n",
       "<table class=\"simpletable\">\n",
       "<tr>\n",
       "        <td></td>           <th>coef</th>     <th>std err</th>      <th>t</th>      <th>P>|t|</th>  <th>[0.025</th>    <th>0.975]</th>  \n",
       "</tr>\n",
       "<tr>\n",
       "  <th>Intercept</th>     <td>    0.9001</td> <td>    0.026</td> <td>   34.739</td> <td> 0.000</td> <td>    0.849</td> <td>    0.951</td>\n",
       "</tr>\n",
       "<tr>\n",
       "  <th>Sex[T.Male]</th>   <td>   -0.4974</td> <td>    0.023</td> <td>  -21.575</td> <td> 0.000</td> <td>   -0.543</td> <td>   -0.452</td>\n",
       "</tr>\n",
       "<tr>\n",
       "  <th>Class[T.2nd]</th>  <td>   -0.1737</td> <td>    0.033</td> <td>   -5.258</td> <td> 0.000</td> <td>   -0.238</td> <td>   -0.109</td>\n",
       "</tr>\n",
       "<tr>\n",
       "  <th>Class[T.3rd]</th>  <td>   -0.2887</td> <td>    0.028</td> <td>  -10.489</td> <td> 0.000</td> <td>   -0.343</td> <td>   -0.235</td>\n",
       "</tr>\n",
       "<tr>\n",
       "  <th>Class[T.Crew]</th> <td>   -0.1761</td> <td>    0.028</td> <td>   -6.270</td> <td> 0.000</td> <td>   -0.231</td> <td>   -0.121</td>\n",
       "</tr>\n",
       "</table>\n",
       "<table class=\"simpletable\">\n",
       "<tr>\n",
       "  <th>Omnibus:</th>       <td>222.654</td> <th>  Durbin-Watson:     </th> <td>   0.011</td>\n",
       "</tr>\n",
       "<tr>\n",
       "  <th>Prob(Omnibus):</th> <td> 0.000</td>  <th>  Jarque-Bera (JB):  </th> <td> 293.437</td>\n",
       "</tr>\n",
       "<tr>\n",
       "  <th>Skew:</th>          <td> 0.891</td>  <th>  Prob(JB):          </th> <td>1.91e-64</td>\n",
       "</tr>\n",
       "<tr>\n",
       "  <th>Kurtosis:</th>      <td> 2.836</td>  <th>  Cond. No.          </th> <td>    7.83</td>\n",
       "</tr>\n",
       "</table><br/><br/>Notes:<br/>[1] Standard Errors assume that the covariance matrix of the errors is correctly specified."
      ],
      "text/plain": [
       "<class 'statsmodels.iolib.summary.Summary'>\n",
       "\"\"\"\n",
       "                            OLS Regression Results                            \n",
       "==============================================================================\n",
       "Dep. Variable:            Survived_01   R-squared:                       0.246\n",
       "Model:                            OLS   Adj. R-squared:                  0.245\n",
       "Method:                 Least Squares   F-statistic:                     179.4\n",
       "Date:                Wed, 20 Oct 2021   Prob (F-statistic):          4.09e-133\n",
       "Time:                        17:40:25   Log-Likelihood:                -1139.0\n",
       "No. Observations:                2201   AIC:                             2288.\n",
       "Df Residuals:                    2196   BIC:                             2317.\n",
       "Df Model:                           4                                         \n",
       "Covariance Type:            nonrobust                                         \n",
       "=================================================================================\n",
       "                    coef    std err          t      P>|t|      [0.025      0.975]\n",
       "---------------------------------------------------------------------------------\n",
       "Intercept         0.9001      0.026     34.739      0.000       0.849       0.951\n",
       "Sex[T.Male]      -0.4974      0.023    -21.575      0.000      -0.543      -0.452\n",
       "Class[T.2nd]     -0.1737      0.033     -5.258      0.000      -0.238      -0.109\n",
       "Class[T.3rd]     -0.2887      0.028    -10.489      0.000      -0.343      -0.235\n",
       "Class[T.Crew]    -0.1761      0.028     -6.270      0.000      -0.231      -0.121\n",
       "==============================================================================\n",
       "Omnibus:                      222.654   Durbin-Watson:                   0.011\n",
       "Prob(Omnibus):                  0.000   Jarque-Bera (JB):              293.437\n",
       "Skew:                           0.891   Prob(JB):                     1.91e-64\n",
       "Kurtosis:                       2.836   Cond. No.                         7.83\n",
       "==============================================================================\n",
       "\n",
       "Notes:\n",
       "[1] Standard Errors assume that the covariance matrix of the errors is correctly specified.\n",
       "\"\"\""
      ]
     },
     "execution_count": 26,
     "metadata": {},
     "output_type": "execute_result"
    }
   ],
   "source": [
    "import statsmodels.formula.api as smf\n",
    "titanic[\"Survived_01\"] = 1 * (titanic.Survived == \"Yes\")\n",
    "fit = smf.ols(\"Survived_01 ~ Sex + Class\", data = titanic).fit()\n",
    "fit.summary()"
   ]
  },
  {
   "cell_type": "markdown",
   "metadata": {
    "id": "VdhewXb2Fm1M"
   },
   "source": [
    "Now we check how well the estimates match the data. First we'll take a look at the predicted values of the model."
   ]
  },
  {
   "cell_type": "markdown",
   "metadata": {
    "id": "ySCJ_0LBsbWe"
   },
   "source": []
  },
  {
   "cell_type": "code",
   "execution_count": 27,
   "metadata": {
    "colab": {
     "base_uri": "https://localhost:8080/"
    },
    "id": "eZkwvv10G20q",
    "outputId": "77ee280a-8c5f-4708-bc65-ca3fa4ae1f0e"
   },
   "outputs": [
    {
     "data": {
      "text/plain": [
       "[('Female', '1st'),\n",
       " ('Female', '2nd'),\n",
       " ('Female', '3rd'),\n",
       " ('Female', 'Crew'),\n",
       " ('Male', '1st'),\n",
       " ('Male', '2nd'),\n",
       " ('Male', '3rd'),\n",
       " ('Male', 'Crew')]"
      ]
     },
     "execution_count": 27,
     "metadata": {},
     "output_type": "execute_result"
    }
   ],
   "source": [
    "import pandas as pd\n",
    "records = sorted(list(product(set(titanic.Sex), set(titanic.Class))))\n",
    "records"
   ]
  },
  {
   "cell_type": "code",
   "execution_count": 28,
   "metadata": {
    "colab": {
     "base_uri": "https://localhost:8080/"
    },
    "id": "RE7_cyyaslDy",
    "outputId": "15f9e3be-0e21-44db-a834-a4046cb5a012"
   },
   "outputs": [
    {
     "data": {
      "text/plain": [
       "0    0.900080\n",
       "1    0.726416\n",
       "2    0.611412\n",
       "3    0.723988\n",
       "4    0.402714\n",
       "5    0.229050\n",
       "6    0.114046\n",
       "7    0.226622\n",
       "dtype: float64"
      ]
     },
     "execution_count": 28,
     "metadata": {},
     "output_type": "execute_result"
    }
   ],
   "source": [
    "frame = pd.DataFrame.from_records(records, columns = [\"Sex\", \"Class\"])\n",
    "fit.predict(frame)"
   ]
  },
  {
   "cell_type": "markdown",
   "metadata": {
    "id": "cusegcPmMVxb"
   },
   "source": [
    "This is just a list of floats with no names. Let's merge it with the `frame` to make stuff clearer"
   ]
  },
  {
   "cell_type": "code",
   "execution_count": 29,
   "metadata": {
    "colab": {
     "base_uri": "https://localhost:8080/",
     "height": 296
    },
    "id": "ybCB5mtLMVYa",
    "outputId": "2dee00c1-88c4-4611-cd7c-d54ffd7df4fc"
   },
   "outputs": [
    {
     "data": {
      "text/html": [
       "<div>\n",
       "<style scoped>\n",
       "    .dataframe tbody tr th:only-of-type {\n",
       "        vertical-align: middle;\n",
       "    }\n",
       "\n",
       "    .dataframe tbody tr th {\n",
       "        vertical-align: top;\n",
       "    }\n",
       "\n",
       "    .dataframe thead th {\n",
       "        text-align: right;\n",
       "    }\n",
       "</style>\n",
       "<table border=\"1\" class=\"dataframe\">\n",
       "  <thead>\n",
       "    <tr style=\"text-align: right;\">\n",
       "      <th></th>\n",
       "      <th>Sex</th>\n",
       "      <th>Class</th>\n",
       "      <th>Predicted</th>\n",
       "    </tr>\n",
       "  </thead>\n",
       "  <tbody>\n",
       "    <tr>\n",
       "      <th>0</th>\n",
       "      <td>Female</td>\n",
       "      <td>1st</td>\n",
       "      <td>0.900080</td>\n",
       "    </tr>\n",
       "    <tr>\n",
       "      <th>1</th>\n",
       "      <td>Female</td>\n",
       "      <td>2nd</td>\n",
       "      <td>0.726416</td>\n",
       "    </tr>\n",
       "    <tr>\n",
       "      <th>2</th>\n",
       "      <td>Female</td>\n",
       "      <td>3rd</td>\n",
       "      <td>0.611412</td>\n",
       "    </tr>\n",
       "    <tr>\n",
       "      <th>3</th>\n",
       "      <td>Female</td>\n",
       "      <td>Crew</td>\n",
       "      <td>0.723988</td>\n",
       "    </tr>\n",
       "    <tr>\n",
       "      <th>4</th>\n",
       "      <td>Male</td>\n",
       "      <td>1st</td>\n",
       "      <td>0.402714</td>\n",
       "    </tr>\n",
       "    <tr>\n",
       "      <th>5</th>\n",
       "      <td>Male</td>\n",
       "      <td>2nd</td>\n",
       "      <td>0.229050</td>\n",
       "    </tr>\n",
       "    <tr>\n",
       "      <th>6</th>\n",
       "      <td>Male</td>\n",
       "      <td>3rd</td>\n",
       "      <td>0.114046</td>\n",
       "    </tr>\n",
       "    <tr>\n",
       "      <th>7</th>\n",
       "      <td>Male</td>\n",
       "      <td>Crew</td>\n",
       "      <td>0.226622</td>\n",
       "    </tr>\n",
       "  </tbody>\n",
       "</table>\n",
       "</div>"
      ],
      "text/plain": [
       "      Sex Class  Predicted\n",
       "0  Female   1st   0.900080\n",
       "1  Female   2nd   0.726416\n",
       "2  Female   3rd   0.611412\n",
       "3  Female  Crew   0.723988\n",
       "4    Male   1st   0.402714\n",
       "5    Male   2nd   0.229050\n",
       "6    Male   3rd   0.114046\n",
       "7    Male  Crew   0.226622"
      ]
     },
     "execution_count": 29,
     "metadata": {},
     "output_type": "execute_result"
    }
   ],
   "source": [
    "frame[\"Predicted\"] = fit.predict(frame)\n",
    "frame"
   ]
  },
  {
   "cell_type": "markdown",
   "metadata": {
    "id": "_9QacVQKNxpz"
   },
   "source": [
    "Let's compare these predictions to the means using the `groupby` method."
   ]
  },
  {
   "cell_type": "code",
   "execution_count": 30,
   "metadata": {
    "id": "0D_Uq3G8NJxl"
   },
   "outputs": [],
   "source": [
    "titanic[\"Survived_01\"] = 1 * (titanic.Survived == \"Yes\")"
   ]
  },
  {
   "cell_type": "code",
   "execution_count": 31,
   "metadata": {
    "colab": {
     "base_uri": "https://localhost:8080/"
    },
    "id": "KPMbNbS-s5PW",
    "outputId": "64099d95-624e-47b0-baa3-bb4fd7aa98e3"
   },
   "outputs": [
    {
     "data": {
      "text/plain": [
       "Sex     Class\n",
       "Female  1st      0.972414\n",
       "        2nd      0.877358\n",
       "        3rd      0.459184\n",
       "        Crew     0.869565\n",
       "Male    1st      0.344444\n",
       "        2nd      0.139665\n",
       "        3rd      0.172549\n",
       "        Crew     0.222738\n",
       "Name: Survived_01, dtype: float64"
      ]
     },
     "execution_count": 31,
     "metadata": {},
     "output_type": "execute_result"
    }
   ],
   "source": [
    "means = titanic.groupby([\"Sex\", \"Class\"]).mean()[\"Survived_01\"]\n",
    "means"
   ]
  },
  {
   "cell_type": "markdown",
   "metadata": {
    "id": "H__vQAY5tEUu"
   },
   "source": [
    "This table is simple enough. The mean on the column to the right is the mean of the subgroup for the corresponding sex and class on the right."
   ]
  },
  {
   "cell_type": "markdown",
   "metadata": {
    "id": "P1dN8AbjtO9o"
   },
   "source": [
    "Let's compare these means to the predicted values of our model."
   ]
  },
  {
   "cell_type": "code",
   "execution_count": null,
   "metadata": {
    "colab": {
     "base_uri": "https://localhost:8080/",
     "height": 296
    },
    "id": "E5B1rrVYOdAa",
    "outputId": "92aadceb-9217-4031-bb79-6b9eb6e70ac2"
   },
   "outputs": [
    {
     "data": {
      "text/html": [
       "<div>\n",
       "<style scoped>\n",
       "    .dataframe tbody tr th:only-of-type {\n",
       "        vertical-align: middle;\n",
       "    }\n",
       "\n",
       "    .dataframe tbody tr th {\n",
       "        vertical-align: top;\n",
       "    }\n",
       "\n",
       "    .dataframe thead th {\n",
       "        text-align: right;\n",
       "    }\n",
       "</style>\n",
       "<table border=\"1\" class=\"dataframe\">\n",
       "  <thead>\n",
       "    <tr style=\"text-align: right;\">\n",
       "      <th></th>\n",
       "      <th>Sex</th>\n",
       "      <th>Class</th>\n",
       "      <th>Mean</th>\n",
       "    </tr>\n",
       "  </thead>\n",
       "  <tbody>\n",
       "    <tr>\n",
       "      <th>0</th>\n",
       "      <td>Female</td>\n",
       "      <td>1st</td>\n",
       "      <td>0.972414</td>\n",
       "    </tr>\n",
       "    <tr>\n",
       "      <th>1</th>\n",
       "      <td>Female</td>\n",
       "      <td>2nd</td>\n",
       "      <td>0.877358</td>\n",
       "    </tr>\n",
       "    <tr>\n",
       "      <th>2</th>\n",
       "      <td>Female</td>\n",
       "      <td>3rd</td>\n",
       "      <td>0.459184</td>\n",
       "    </tr>\n",
       "    <tr>\n",
       "      <th>3</th>\n",
       "      <td>Female</td>\n",
       "      <td>Crew</td>\n",
       "      <td>0.869565</td>\n",
       "    </tr>\n",
       "    <tr>\n",
       "      <th>4</th>\n",
       "      <td>Male</td>\n",
       "      <td>1st</td>\n",
       "      <td>0.344444</td>\n",
       "    </tr>\n",
       "    <tr>\n",
       "      <th>5</th>\n",
       "      <td>Male</td>\n",
       "      <td>2nd</td>\n",
       "      <td>0.139665</td>\n",
       "    </tr>\n",
       "    <tr>\n",
       "      <th>6</th>\n",
       "      <td>Male</td>\n",
       "      <td>3rd</td>\n",
       "      <td>0.172549</td>\n",
       "    </tr>\n",
       "    <tr>\n",
       "      <th>7</th>\n",
       "      <td>Male</td>\n",
       "      <td>Crew</td>\n",
       "      <td>0.222738</td>\n",
       "    </tr>\n",
       "  </tbody>\n",
       "</table>\n",
       "</div>"
      ],
      "text/plain": [
       "      Sex Class      Mean\n",
       "0  Female   1st  0.972414\n",
       "1  Female   2nd  0.877358\n",
       "2  Female   3rd  0.459184\n",
       "3  Female  Crew  0.869565\n",
       "4    Male   1st  0.344444\n",
       "5    Male   2nd  0.139665\n",
       "6    Male   3rd  0.172549\n",
       "7    Male  Crew  0.222738"
      ]
     },
     "metadata": {},
     "output_type": "display_data"
    }
   ],
   "source": [
    "import numpy as np\n",
    "frame[\"Mean\"] = means.array\n",
    "frame"
   ]
  },
  {
   "cell_type": "markdown",
   "metadata": {
    "id": "DHZJHj1eWScb"
   },
   "source": [
    "Why aren't the values equal? First, notice that there are $8$ means, but only $5$ parameters in the regression output. Second, the model doens't take *interactions* into account, only linear effects. Interactions occur when the effect of one variable depends on the value of another variable.\n"
   ]
  },
  {
   "cell_type": "markdown",
   "metadata": {
    "id": "xmcgZRGJOIoh"
   },
   "source": [
    "### A \"two-way\" model"
   ]
  },
  {
   "cell_type": "markdown",
   "metadata": {
    "id": "7HYXraACV6yn"
   },
   "source": [
    "Let $A$ and $B$ be sets with $I$ and $J$ elements each. Consider the following model\n",
    "$$y=\\sum_{i=1}^{I}\\sum_{j=1}^{J}\\beta_{ij}1[X_{1}=a_{j}]1[X_{2}=b_{k}].$$\n",
    "That is the same model as \n",
    "$$y=\\sum_{i=1}^{I}\\sum_{j=1}^{J}\\beta_{ij}1[X = (a_{j}, b_{k})],$$\n",
    "where $(a_i,b_j) \\in A\\times B$. Thus it may be viewed as an ordinary categorical variable model."
   ]
  },
  {
   "cell_type": "markdown",
   "metadata": {
    "id": "cWCcsTF8OMDx"
   },
   "source": [
    "### Titanic example"
   ]
  },
  {
   "cell_type": "markdown",
   "metadata": {
    "id": "_YE34cisOCeR"
   },
   "source": [
    "Let $A = \\{\\textrm{female}, \\textrm{male}\\}$ and $B = \\{\\textrm{2nd},\\textrm{3rd}, \\textrm{3rd}, \\textrm{Crew}\\}$. That is, $A$ are the sex categories and $B$ are the class categories. Remember their product set, which equals\n"
   ]
  },
  {
   "cell_type": "code",
   "execution_count": null,
   "metadata": {
    "colab": {
     "base_uri": "https://localhost:8080/"
    },
    "id": "fP6MoyaAO0I5",
    "outputId": "ad194d10-917d-4722-dd60-531fc8717680"
   },
   "outputs": [
    {
     "data": {
      "text/plain": [
       "{('Female', '1st'),\n",
       " ('Female', '2nd'),\n",
       " ('Female', '3rd'),\n",
       " ('Female', 'Crew'),\n",
       " ('Male', '1st'),\n",
       " ('Male', '2nd'),\n",
       " ('Male', '3rd'),\n",
       " ('Male', 'Crew')}"
      ]
     },
     "metadata": {},
     "output_type": "display_data"
    }
   ],
   "source": [
    "set(product(set(titanic.Sex), set(titanic.Class)))"
   ]
  },
  {
   "cell_type": "markdown",
   "metadata": {
    "id": "_zVOJbHjO8Dh"
   },
   "source": [
    "Writing down the model explicitly doesn't help, as it's cumbersome to look at. But using $$y=\\sum_{i=1}^{I}\\sum_{j=1}^{J}\\beta_{ij}1[X = (a_{j}, b_{k})],$$\n",
    "where $(a_i,b_j) \\in A\\times B$, we can write a table of the corresponding coefficients."
   ]
  },
  {
   "cell_type": "markdown",
   "metadata": {
    "id": "PLkzT7DDYKsH"
   },
   "source": [
    "|         |        | Class |     |     |      |\n",
    "| ---     |------- | ----- | --- |-----| ---  |\n",
    "|         |        | 1st   | 2nd | 3rd | Crew |\n",
    "| **Sex** |        |       |     |     |      |\n",
    "|         | Female | $\\beta_{11}$ | $\\beta_{12}$ | $\\beta_{13}$ | $\\beta_{14}$     |\n",
    "|         | Male   | $\\beta_{21}$ | $\\beta_{22}$ | $\\beta_{23}$ | $\\beta_{24}$     |"
   ]
  },
  {
   "cell_type": "markdown",
   "metadata": {
    "id": "46hec8bEPhex"
   },
   "source": [
    "When you want to predict the probability of survival for a male passenger traveling 3rd class, you find the second row (male) and third column (3rd class), and use the $\\beta_{23}$ coefficient. "
   ]
  },
  {
   "cell_type": "markdown",
   "metadata": {
    "id": "CeS-VUeKQQg2"
   },
   "source": [
    "Now let's fit the model! To do this, we will define a new column in the data frame `titanic` containing the product set of `Sex` and `Class`."
   ]
  },
  {
   "cell_type": "code",
   "execution_count": null,
   "metadata": {
    "colab": {
     "base_uri": "https://localhost:8080/"
    },
    "id": "4CH6emvvQzjR",
    "outputId": "7f3b7ef1-167f-4b5e-c4b5-d3af5ca9c966"
   },
   "outputs": [
    {
     "data": {
      "text/plain": [
       "0          (Male, 3rd)\n",
       "1          (Male, 3rd)\n",
       "2          (Male, 3rd)\n",
       "3          (Male, 3rd)\n",
       "4          (Male, 3rd)\n",
       "             ...      \n",
       "2196    (Female, Crew)\n",
       "2197    (Female, Crew)\n",
       "2198    (Female, Crew)\n",
       "2199    (Female, Crew)\n",
       "2200    (Female, Crew)\n",
       "Name: SexClass, Length: 2201, dtype: object"
      ]
     },
     "metadata": {},
     "output_type": "display_data"
    }
   ],
   "source": [
    "titanic[\"SexClass\"] = list(zip(titanic[\"Sex\"], titanic[\"Class\"]))\n",
    "titanic.SexClass"
   ]
  },
  {
   "cell_type": "markdown",
   "metadata": {
    "id": "mbEnrBHct_0m"
   },
   "source": [
    "Now we're ready to run the model."
   ]
  },
  {
   "cell_type": "code",
   "execution_count": null,
   "metadata": {
    "colab": {
     "base_uri": "https://localhost:8080/",
     "height": 563
    },
    "id": "OK0GIWQoRLSB",
    "outputId": "60e207f2-b21e-4fb6-9a1c-245487be8da2"
   },
   "outputs": [
    {
     "data": {
      "text/html": [
       "<table class=\"simpletable\">\n",
       "<caption>OLS Regression Results</caption>\n",
       "<tr>\n",
       "  <th>Dep. Variable:</th>       <td>Survived_01</td>   <th>  R-squared:         </th> <td>   0.271</td> \n",
       "</tr>\n",
       "<tr>\n",
       "  <th>Model:</th>                   <td>OLS</td>       <th>  Adj. R-squared:    </th> <td>   0.269</td> \n",
       "</tr>\n",
       "<tr>\n",
       "  <th>Method:</th>             <td>Least Squares</td>  <th>  F-statistic:       </th> <td>   116.6</td> \n",
       "</tr>\n",
       "<tr>\n",
       "  <th>Date:</th>             <td>Thu, 14 Oct 2021</td> <th>  Prob (F-statistic):</th> <td>1.01e-145</td>\n",
       "</tr>\n",
       "<tr>\n",
       "  <th>Time:</th>                 <td>05:27:26</td>     <th>  Log-Likelihood:    </th> <td> -1102.0</td> \n",
       "</tr>\n",
       "<tr>\n",
       "  <th>No. Observations:</th>      <td>  2201</td>      <th>  AIC:               </th> <td>   2220.</td> \n",
       "</tr>\n",
       "<tr>\n",
       "  <th>Df Residuals:</th>          <td>  2193</td>      <th>  BIC:               </th> <td>   2266.</td> \n",
       "</tr>\n",
       "<tr>\n",
       "  <th>Df Model:</th>              <td>     7</td>      <th>                     </th>     <td> </td>    \n",
       "</tr>\n",
       "<tr>\n",
       "  <th>Covariance Type:</th>      <td>nonrobust</td>    <th>                     </th>     <td> </td>    \n",
       "</tr>\n",
       "</table>\n",
       "<table class=\"simpletable\">\n",
       "<tr>\n",
       "                <td></td>                  <th>coef</th>     <th>std err</th>      <th>t</th>      <th>P>|t|</th>  <th>[0.025</th>    <th>0.975]</th>  \n",
       "</tr>\n",
       "<tr>\n",
       "  <th>SexClass[('Female', '1st')]</th>  <td>    0.9724</td> <td>    0.033</td> <td>   29.278</td> <td> 0.000</td> <td>    0.907</td> <td>    1.038</td>\n",
       "</tr>\n",
       "<tr>\n",
       "  <th>SexClass[('Female', '2nd')]</th>  <td>    0.8774</td> <td>    0.039</td> <td>   22.586</td> <td> 0.000</td> <td>    0.801</td> <td>    0.954</td>\n",
       "</tr>\n",
       "<tr>\n",
       "  <th>SexClass[('Female', '3rd')]</th>  <td>    0.4592</td> <td>    0.029</td> <td>   16.074</td> <td> 0.000</td> <td>    0.403</td> <td>    0.515</td>\n",
       "</tr>\n",
       "<tr>\n",
       "  <th>SexClass[('Female', 'Crew')]</th> <td>    0.8696</td> <td>    0.083</td> <td>   10.427</td> <td> 0.000</td> <td>    0.706</td> <td>    1.033</td>\n",
       "</tr>\n",
       "<tr>\n",
       "  <th>SexClass[('Male', '1st')]</th>    <td>    0.3444</td> <td>    0.030</td> <td>   11.555</td> <td> 0.000</td> <td>    0.286</td> <td>    0.403</td>\n",
       "</tr>\n",
       "<tr>\n",
       "  <th>SexClass[('Male', '2nd')]</th>    <td>    0.1397</td> <td>    0.030</td> <td>    4.672</td> <td> 0.000</td> <td>    0.081</td> <td>    0.198</td>\n",
       "</tr>\n",
       "<tr>\n",
       "  <th>SexClass[('Male', '3rd')]</th>    <td>    0.1725</td> <td>    0.018</td> <td>    9.743</td> <td> 0.000</td> <td>    0.138</td> <td>    0.207</td>\n",
       "</tr>\n",
       "<tr>\n",
       "  <th>SexClass[('Male', 'Crew')]</th>   <td>    0.2227</td> <td>    0.014</td> <td>   16.351</td> <td> 0.000</td> <td>    0.196</td> <td>    0.249</td>\n",
       "</tr>\n",
       "</table>\n",
       "<table class=\"simpletable\">\n",
       "<tr>\n",
       "  <th>Omnibus:</th>       <td>286.377</td> <th>  Durbin-Watson:     </th> <td>   0.015</td>\n",
       "</tr>\n",
       "<tr>\n",
       "  <th>Prob(Omnibus):</th> <td> 0.000</td>  <th>  Jarque-Bera (JB):  </th> <td> 411.796</td>\n",
       "</tr>\n",
       "<tr>\n",
       "  <th>Skew:</th>          <td> 1.059</td>  <th>  Prob(JB):          </th> <td>3.80e-90</td>\n",
       "</tr>\n",
       "<tr>\n",
       "  <th>Kurtosis:</th>      <td> 2.963</td>  <th>  Cond. No.          </th> <td>    6.12</td>\n",
       "</tr>\n",
       "</table><br/><br/>Warnings:<br/>[1] Standard Errors assume that the covariance matrix of the errors is correctly specified."
      ],
      "text/plain": [
       "<class 'statsmodels.iolib.summary.Summary'>\n",
       "\"\"\"\n",
       "                            OLS Regression Results                            \n",
       "==============================================================================\n",
       "Dep. Variable:            Survived_01   R-squared:                       0.271\n",
       "Model:                            OLS   Adj. R-squared:                  0.269\n",
       "Method:                 Least Squares   F-statistic:                     116.6\n",
       "Date:                Thu, 14 Oct 2021   Prob (F-statistic):          1.01e-145\n",
       "Time:                        05:27:26   Log-Likelihood:                -1102.0\n",
       "No. Observations:                2201   AIC:                             2220.\n",
       "Df Residuals:                    2193   BIC:                             2266.\n",
       "Df Model:                           7                                         \n",
       "Covariance Type:            nonrobust                                         \n",
       "================================================================================================\n",
       "                                   coef    std err          t      P>|t|      [0.025      0.975]\n",
       "------------------------------------------------------------------------------------------------\n",
       "SexClass[('Female', '1st')]      0.9724      0.033     29.278      0.000       0.907       1.038\n",
       "SexClass[('Female', '2nd')]      0.8774      0.039     22.586      0.000       0.801       0.954\n",
       "SexClass[('Female', '3rd')]      0.4592      0.029     16.074      0.000       0.403       0.515\n",
       "SexClass[('Female', 'Crew')]     0.8696      0.083     10.427      0.000       0.706       1.033\n",
       "SexClass[('Male', '1st')]        0.3444      0.030     11.555      0.000       0.286       0.403\n",
       "SexClass[('Male', '2nd')]        0.1397      0.030      4.672      0.000       0.081       0.198\n",
       "SexClass[('Male', '3rd')]        0.1725      0.018      9.743      0.000       0.138       0.207\n",
       "SexClass[('Male', 'Crew')]       0.2227      0.014     16.351      0.000       0.196       0.249\n",
       "==============================================================================\n",
       "Omnibus:                      286.377   Durbin-Watson:                   0.015\n",
       "Prob(Omnibus):                  0.000   Jarque-Bera (JB):              411.796\n",
       "Skew:                           1.059   Prob(JB):                     3.80e-90\n",
       "Kurtosis:                       2.963   Cond. No.                         6.12\n",
       "==============================================================================\n",
       "\n",
       "Warnings:\n",
       "[1] Standard Errors assume that the covariance matrix of the errors is correctly specified.\n",
       "\"\"\""
      ]
     },
     "metadata": {},
     "output_type": "display_data"
    }
   ],
   "source": [
    "fit = smf.ols(\"Survived_01 ~ SexClass - 1\", data = titanic).fit()\n",
    "fit.summary()"
   ]
  },
  {
   "cell_type": "markdown",
   "metadata": {
    "id": "-koKBpdySSJp"
   },
   "source": [
    "Let's see how these new coefficients match the means we just calculated."
   ]
  },
  {
   "cell_type": "code",
   "execution_count": null,
   "metadata": {
    "colab": {
     "base_uri": "https://localhost:8080/",
     "height": 296
    },
    "id": "iq5mbDNrRYeG",
    "outputId": "b13202fe-5cb8-4b70-9409-f0ee54187374"
   },
   "outputs": [
    {
     "data": {
      "text/html": [
       "<div>\n",
       "<style scoped>\n",
       "    .dataframe tbody tr th:only-of-type {\n",
       "        vertical-align: middle;\n",
       "    }\n",
       "\n",
       "    .dataframe tbody tr th {\n",
       "        vertical-align: top;\n",
       "    }\n",
       "\n",
       "    .dataframe thead th {\n",
       "        text-align: right;\n",
       "    }\n",
       "</style>\n",
       "<table border=\"1\" class=\"dataframe\">\n",
       "  <thead>\n",
       "    <tr style=\"text-align: right;\">\n",
       "      <th></th>\n",
       "      <th>Sex</th>\n",
       "      <th>Class</th>\n",
       "      <th>Predicted</th>\n",
       "      <th>Mean</th>\n",
       "      <th>NewPredicted</th>\n",
       "    </tr>\n",
       "  </thead>\n",
       "  <tbody>\n",
       "    <tr>\n",
       "      <th>0</th>\n",
       "      <td>Female</td>\n",
       "      <td>1st</td>\n",
       "      <td>0.900080</td>\n",
       "      <td>0.972414</td>\n",
       "      <td>0.972414</td>\n",
       "    </tr>\n",
       "    <tr>\n",
       "      <th>1</th>\n",
       "      <td>Female</td>\n",
       "      <td>2nd</td>\n",
       "      <td>0.726416</td>\n",
       "      <td>0.877358</td>\n",
       "      <td>0.877358</td>\n",
       "    </tr>\n",
       "    <tr>\n",
       "      <th>2</th>\n",
       "      <td>Female</td>\n",
       "      <td>3rd</td>\n",
       "      <td>0.611412</td>\n",
       "      <td>0.459184</td>\n",
       "      <td>0.459184</td>\n",
       "    </tr>\n",
       "    <tr>\n",
       "      <th>3</th>\n",
       "      <td>Female</td>\n",
       "      <td>Crew</td>\n",
       "      <td>0.723988</td>\n",
       "      <td>0.869565</td>\n",
       "      <td>0.869565</td>\n",
       "    </tr>\n",
       "    <tr>\n",
       "      <th>4</th>\n",
       "      <td>Male</td>\n",
       "      <td>1st</td>\n",
       "      <td>0.402714</td>\n",
       "      <td>0.344444</td>\n",
       "      <td>0.344444</td>\n",
       "    </tr>\n",
       "    <tr>\n",
       "      <th>5</th>\n",
       "      <td>Male</td>\n",
       "      <td>2nd</td>\n",
       "      <td>0.229050</td>\n",
       "      <td>0.139665</td>\n",
       "      <td>0.139665</td>\n",
       "    </tr>\n",
       "    <tr>\n",
       "      <th>6</th>\n",
       "      <td>Male</td>\n",
       "      <td>3rd</td>\n",
       "      <td>0.114046</td>\n",
       "      <td>0.172549</td>\n",
       "      <td>0.172549</td>\n",
       "    </tr>\n",
       "    <tr>\n",
       "      <th>7</th>\n",
       "      <td>Male</td>\n",
       "      <td>Crew</td>\n",
       "      <td>0.226622</td>\n",
       "      <td>0.222738</td>\n",
       "      <td>0.222738</td>\n",
       "    </tr>\n",
       "  </tbody>\n",
       "</table>\n",
       "</div>"
      ],
      "text/plain": [
       "      Sex Class  Predicted      Mean  NewPredicted\n",
       "0  Female   1st   0.900080  0.972414      0.972414\n",
       "1  Female   2nd   0.726416  0.877358      0.877358\n",
       "2  Female   3rd   0.611412  0.459184      0.459184\n",
       "3  Female  Crew   0.723988  0.869565      0.869565\n",
       "4    Male   1st   0.402714  0.344444      0.344444\n",
       "5    Male   2nd   0.229050  0.139665      0.139665\n",
       "6    Male   3rd   0.114046  0.172549      0.172549\n",
       "7    Male  Crew   0.226622  0.222738      0.222738"
      ]
     },
     "metadata": {},
     "output_type": "display_data"
    }
   ],
   "source": [
    "frame[\"NewPredicted\"] = fit.params.array\n",
    "frame"
   ]
  },
  {
   "cell_type": "markdown",
   "metadata": {
    "id": "d7DQwracTWiA"
   },
   "source": [
    "That's perfect!"
   ]
  },
  {
   "cell_type": "markdown",
   "metadata": {
    "id": "wIXcgWF6TYTa"
   },
   "source": [
    "As it happens, `statsmodels` allows us to run interaction models such as these easily. We just need to use the `*` command:"
   ]
  },
  {
   "cell_type": "code",
   "execution_count": null,
   "metadata": {
    "colab": {
     "base_uri": "https://localhost:8080/",
     "height": 563
    },
    "id": "PamcHyYaQJHh",
    "outputId": "3931e33f-8087-40b0-9631-2948952d978b"
   },
   "outputs": [
    {
     "data": {
      "text/html": [
       "<table class=\"simpletable\">\n",
       "<caption>OLS Regression Results</caption>\n",
       "<tr>\n",
       "  <th>Dep. Variable:</th>       <td>Survived_01</td>   <th>  R-squared:         </th> <td>   0.271</td> \n",
       "</tr>\n",
       "<tr>\n",
       "  <th>Model:</th>                   <td>OLS</td>       <th>  Adj. R-squared:    </th> <td>   0.269</td> \n",
       "</tr>\n",
       "<tr>\n",
       "  <th>Method:</th>             <td>Least Squares</td>  <th>  F-statistic:       </th> <td>   116.6</td> \n",
       "</tr>\n",
       "<tr>\n",
       "  <th>Date:</th>             <td>Thu, 14 Oct 2021</td> <th>  Prob (F-statistic):</th> <td>1.01e-145</td>\n",
       "</tr>\n",
       "<tr>\n",
       "  <th>Time:</th>                 <td>05:37:30</td>     <th>  Log-Likelihood:    </th> <td> -1102.0</td> \n",
       "</tr>\n",
       "<tr>\n",
       "  <th>No. Observations:</th>      <td>  2201</td>      <th>  AIC:               </th> <td>   2220.</td> \n",
       "</tr>\n",
       "<tr>\n",
       "  <th>Df Residuals:</th>          <td>  2193</td>      <th>  BIC:               </th> <td>   2266.</td> \n",
       "</tr>\n",
       "<tr>\n",
       "  <th>Df Model:</th>              <td>     7</td>      <th>                     </th>     <td> </td>    \n",
       "</tr>\n",
       "<tr>\n",
       "  <th>Covariance Type:</th>      <td>nonrobust</td>    <th>                     </th>     <td> </td>    \n",
       "</tr>\n",
       "</table>\n",
       "<table class=\"simpletable\">\n",
       "<tr>\n",
       "              <td></td>                 <th>coef</th>     <th>std err</th>      <th>t</th>      <th>P>|t|</th>  <th>[0.025</th>    <th>0.975]</th>  \n",
       "</tr>\n",
       "<tr>\n",
       "  <th>Intercept</th>                 <td>    0.9724</td> <td>    0.033</td> <td>   29.278</td> <td> 0.000</td> <td>    0.907</td> <td>    1.038</td>\n",
       "</tr>\n",
       "<tr>\n",
       "  <th>Sex[T.Male]</th>               <td>   -0.6280</td> <td>    0.045</td> <td>  -14.071</td> <td> 0.000</td> <td>   -0.715</td> <td>   -0.540</td>\n",
       "</tr>\n",
       "<tr>\n",
       "  <th>Class[T.2nd]</th>              <td>   -0.0951</td> <td>    0.051</td> <td>   -1.860</td> <td> 0.063</td> <td>   -0.195</td> <td>    0.005</td>\n",
       "</tr>\n",
       "<tr>\n",
       "  <th>Class[T.3rd]</th>              <td>   -0.5132</td> <td>    0.044</td> <td>  -11.715</td> <td> 0.000</td> <td>   -0.599</td> <td>   -0.427</td>\n",
       "</tr>\n",
       "<tr>\n",
       "  <th>Class[T.Crew]</th>             <td>   -0.1028</td> <td>    0.090</td> <td>   -1.146</td> <td> 0.252</td> <td>   -0.279</td> <td>    0.073</td>\n",
       "</tr>\n",
       "<tr>\n",
       "  <th>Sex[T.Male]:Class[T.2nd]</th>  <td>   -0.1097</td> <td>    0.066</td> <td>   -1.655</td> <td> 0.098</td> <td>   -0.240</td> <td>    0.020</td>\n",
       "</tr>\n",
       "<tr>\n",
       "  <th>Sex[T.Male]:Class[T.3rd]</th>  <td>    0.3413</td> <td>    0.056</td> <td>    6.109</td> <td> 0.000</td> <td>    0.232</td> <td>    0.451</td>\n",
       "</tr>\n",
       "<tr>\n",
       "  <th>Sex[T.Male]:Class[T.Crew]</th> <td>   -0.0189</td> <td>    0.096</td> <td>   -0.197</td> <td> 0.844</td> <td>   -0.206</td> <td>    0.169</td>\n",
       "</tr>\n",
       "</table>\n",
       "<table class=\"simpletable\">\n",
       "<tr>\n",
       "  <th>Omnibus:</th>       <td>286.377</td> <th>  Durbin-Watson:     </th> <td>   0.015</td>\n",
       "</tr>\n",
       "<tr>\n",
       "  <th>Prob(Omnibus):</th> <td> 0.000</td>  <th>  Jarque-Bera (JB):  </th> <td> 411.796</td>\n",
       "</tr>\n",
       "<tr>\n",
       "  <th>Skew:</th>          <td> 1.059</td>  <th>  Prob(JB):          </th> <td>3.80e-90</td>\n",
       "</tr>\n",
       "<tr>\n",
       "  <th>Kurtosis:</th>      <td> 2.963</td>  <th>  Cond. No.          </th> <td>    24.4</td>\n",
       "</tr>\n",
       "</table><br/><br/>Warnings:<br/>[1] Standard Errors assume that the covariance matrix of the errors is correctly specified."
      ],
      "text/plain": [
       "<class 'statsmodels.iolib.summary.Summary'>\n",
       "\"\"\"\n",
       "                            OLS Regression Results                            \n",
       "==============================================================================\n",
       "Dep. Variable:            Survived_01   R-squared:                       0.271\n",
       "Model:                            OLS   Adj. R-squared:                  0.269\n",
       "Method:                 Least Squares   F-statistic:                     116.6\n",
       "Date:                Thu, 14 Oct 2021   Prob (F-statistic):          1.01e-145\n",
       "Time:                        05:37:30   Log-Likelihood:                -1102.0\n",
       "No. Observations:                2201   AIC:                             2220.\n",
       "Df Residuals:                    2193   BIC:                             2266.\n",
       "Df Model:                           7                                         \n",
       "Covariance Type:            nonrobust                                         \n",
       "=============================================================================================\n",
       "                                coef    std err          t      P>|t|      [0.025      0.975]\n",
       "---------------------------------------------------------------------------------------------\n",
       "Intercept                     0.9724      0.033     29.278      0.000       0.907       1.038\n",
       "Sex[T.Male]                  -0.6280      0.045    -14.071      0.000      -0.715      -0.540\n",
       "Class[T.2nd]                 -0.0951      0.051     -1.860      0.063      -0.195       0.005\n",
       "Class[T.3rd]                 -0.5132      0.044    -11.715      0.000      -0.599      -0.427\n",
       "Class[T.Crew]                -0.1028      0.090     -1.146      0.252      -0.279       0.073\n",
       "Sex[T.Male]:Class[T.2nd]     -0.1097      0.066     -1.655      0.098      -0.240       0.020\n",
       "Sex[T.Male]:Class[T.3rd]      0.3413      0.056      6.109      0.000       0.232       0.451\n",
       "Sex[T.Male]:Class[T.Crew]    -0.0189      0.096     -0.197      0.844      -0.206       0.169\n",
       "==============================================================================\n",
       "Omnibus:                      286.377   Durbin-Watson:                   0.015\n",
       "Prob(Omnibus):                  0.000   Jarque-Bera (JB):              411.796\n",
       "Skew:                           1.059   Prob(JB):                     3.80e-90\n",
       "Kurtosis:                       2.963   Cond. No.                         24.4\n",
       "==============================================================================\n",
       "\n",
       "Warnings:\n",
       "[1] Standard Errors assume that the covariance matrix of the errors is correctly specified.\n",
       "\"\"\""
      ]
     },
     "metadata": {},
     "output_type": "display_data"
    }
   ],
   "source": [
    "import statsmodels.formula.api as smf\n",
    "fit = smf.ols(\"Survived_01 ~ Sex * Class\", data = titanic).fit()\n",
    "fit.summary()"
   ]
  },
  {
   "cell_type": "markdown",
   "metadata": {
    "id": "51lk0qXwTkk4"
   },
   "source": [
    "Yet again, we have to think about baselines. Since there is no `Sex[T.Female]` in the table, the baseline sex is female. Since there is no `Class[T.1st]` in the table, the baseline class if 1st class.\n",
    "\n",
    "To calculate the predicted value of, say, a male with class `3rd`, you would have to sum the coefficients of `Sex[T.Male]`, `Class[T.3rd]` *and* `Sex[T.Male]:Class[T.3rd]`. "
   ]
  },
  {
   "cell_type": "code",
   "execution_count": null,
   "metadata": {
    "colab": {
     "base_uri": "https://localhost:8080/"
    },
    "id": "UKzk6XeqUV5y",
    "outputId": "71b60a31-c39f-475e-b786-1a006308afaf"
   },
   "outputs": [
    {
     "data": {
      "text/plain": [
       "Intercept                    0.972414\n",
       "Sex[T.Male]                 -0.627969\n",
       "Class[T.2nd]                -0.095055\n",
       "Class[T.3rd]                -0.513230\n",
       "Class[T.Crew]               -0.102849\n",
       "Sex[T.Male]:Class[T.2nd]    -0.109724\n",
       "Sex[T.Male]:Class[T.3rd]     0.341335\n",
       "Sex[T.Male]:Class[T.Crew]   -0.018858\n",
       "dtype: float64"
      ]
     },
     "metadata": {},
     "output_type": "display_data"
    }
   ],
   "source": [
    "fit.params"
   ]
  },
  {
   "cell_type": "code",
   "execution_count": null,
   "metadata": {
    "colab": {
     "base_uri": "https://localhost:8080/"
    },
    "id": "ngVcde9wUXsg",
    "outputId": "a35ade8e-bdbd-4e88-faa7-65feec0b3a81"
   },
   "outputs": [
    {
     "data": {
      "text/plain": [
       "0.17254901960784796"
      ]
     },
     "metadata": {},
     "output_type": "display_data"
    }
   ],
   "source": [
    "coef = fit.params\n",
    "coef[\"Intercept\"] + coef[\"Sex[T.Male]\"] + coef[\"Class[T.3rd]\"]+ coef[\"Sex[T.Male]:Class[T.3rd]\"]"
   ]
  },
  {
   "cell_type": "code",
   "execution_count": null,
   "metadata": {
    "colab": {
     "base_uri": "https://localhost:8080/",
     "height": 80
    },
    "id": "q0qQWqU7UuNI",
    "outputId": "3412a126-48d5-4b9e-8146-fd73c6ee8c24"
   },
   "outputs": [
    {
     "data": {
      "text/html": [
       "<div>\n",
       "<style scoped>\n",
       "    .dataframe tbody tr th:only-of-type {\n",
       "        vertical-align: middle;\n",
       "    }\n",
       "\n",
       "    .dataframe tbody tr th {\n",
       "        vertical-align: top;\n",
       "    }\n",
       "\n",
       "    .dataframe thead th {\n",
       "        text-align: right;\n",
       "    }\n",
       "</style>\n",
       "<table border=\"1\" class=\"dataframe\">\n",
       "  <thead>\n",
       "    <tr style=\"text-align: right;\">\n",
       "      <th></th>\n",
       "      <th>Sex</th>\n",
       "      <th>Class</th>\n",
       "      <th>Predicted</th>\n",
       "      <th>Mean</th>\n",
       "      <th>NewPredicted</th>\n",
       "    </tr>\n",
       "  </thead>\n",
       "  <tbody>\n",
       "    <tr>\n",
       "      <th>6</th>\n",
       "      <td>Male</td>\n",
       "      <td>3rd</td>\n",
       "      <td>0.114046</td>\n",
       "      <td>0.172549</td>\n",
       "      <td>0.172549</td>\n",
       "    </tr>\n",
       "  </tbody>\n",
       "</table>\n",
       "</div>"
      ],
      "text/plain": [
       "    Sex Class  Predicted      Mean  NewPredicted\n",
       "6  Male   3rd   0.114046  0.172549      0.172549"
      ]
     },
     "metadata": {},
     "output_type": "display_data"
    }
   ],
   "source": [
    "frame[6:7]"
   ]
  },
  {
   "cell_type": "markdown",
   "metadata": {
    "id": "v99Ge8Xcuji-"
   },
   "source": [
    "It's clearly harder to interpret the coefficients of a the `statsmodels` object with formula `\"Survived_01 ~ Sex * Class\"` than that with formula `\"Survived_01 ~ SexClass - 1\"`. However, we may use the formulation `\"Survived_01 ~ Sex * Class\"` to more easily ask meaningful questions.\n",
    "\n",
    "\n"
   ]
  },
  {
   "cell_type": "markdown",
   "metadata": {
    "id": "W9KurpU-_UDM"
   },
   "source": [
    "Most importantly, do we need the interaction terms or not? In other words, do we need the whole model `\"Survived_01 ~ Sex * Class\"`, or would it suffice with `\"Survived_01 ~ Sex + Class\"`?"
   ]
  },
  {
   "cell_type": "markdown",
   "metadata": {},
   "source": [
    "## Testing for interactions"
   ]
  },
  {
   "cell_type": "markdown",
   "metadata": {},
   "source": [
    "Testing for interactions is similar to the testing we did in the last lecture. Consider a model with $2$ categorical variables $x_1$ and $x_2$ with $I$ and $J$ categories each. The model with linear effects is \n",
    "$$\n",
    "y = \\beta_0 + \\sum_{i = 2}^{I} {\\beta^1_{i}1[x_1 = i]} + \\sum_{j = 2}^{J} {\\beta^2_{j} 1[x_2 = j]} + \\epsilon\n",
    "$$"
   ]
  },
  {
   "cell_type": "markdown",
   "metadata": {},
   "source": [
    "Here we start the sums at $i=2$ and $j=2$ since the $x_1 = 1$ and $x_2 = 2$ are absorbed into the baseline."
   ]
  },
  {
   "cell_type": "markdown",
   "metadata": {},
   "source": [
    "This is the general form of the titanic model with two categories we've already looked at:"
   ]
  },
  {
   "cell_type": "code",
   "execution_count": null,
   "metadata": {},
   "outputs": [],
   "source": [
    "import statsmodels.formula.api as smf\n",
    "titanic[\"Survived_01\"] = 1 * (titanic.Survived == \"Yes\")\n",
    "fit = smf.ols(\"Survived_01 ~ Sex + Class\", data = titanic).fit()\n",
    "fit.summary()"
   ]
  },
  {
   "cell_type": "markdown",
   "metadata": {},
   "source": [
    "This model doesn't include interactions, as there are no product terms `1[x_1 = i]1[x_2 = j]` in the model. Let's add them to the model and see what it looks like."
   ]
  },
  {
   "cell_type": "markdown",
   "metadata": {},
   "source": [
    "The interaction model can be written as en extension of the linear effects model\n",
    "$$\n",
    "y = \\beta_0 + \\sum_{i = 2}^{I} {\\beta^1_{i}1[x_1 = i]} + \\sum_{j = 2}^{J} {\\beta^2_{j} 1[x_2 = j]} + \\sum_{i = 2}^{I}\\sum_{j = 2}^{J} {\\beta^{1\\times2}_{ij} 1[x_1 = j]1[x_2=j]} + \\epsilon\n",
    "$$"
   ]
  },
  {
   "cell_type": "markdown",
   "metadata": {},
   "source": [
    "The double sum starts at $i,j=2$ due to absorption into the baseline."
   ]
  },
  {
   "cell_type": "markdown",
   "metadata": {},
   "source": [
    "Formulating the interaction model in this way allows us to formulate a test of whether the interactions matter. Our null hypothesis is that the all the regression coefficients belonging to the interaction part of the model are $0$. Formally, we could write\n",
    "$$H_0: \\beta^{1\\times2}_{ij} = 0\\quad \\textrm{for all } i,j\\geq2.$$\n",
    "Our alternative hypothesis is that the interaction terms matter *in some way*. In other words, at least one coefficients $\\beta^{1\\times2}_{ij}$ is not equal to $0$.\n",
    "$$H_a: \\textrm{There is a pair } (i,j) \\textrm{ where } \\beta^{1\\times2}_{ij} \\neq 0.$$"
   ]
  },
  {
   "cell_type": "markdown",
   "metadata": {},
   "source": [
    "This is similar to the setup in the previous lecture, except that we care about a *subset* of $\\beta$s, not all of them. We can still test using a similar setup, but to discuss this properly we need to introduce a new concept, that of partial $R^2$."
   ]
  },
  {
   "cell_type": "markdown",
   "metadata": {},
   "source": [
    "## Partial $R^2$"
   ]
  },
  {
   "cell_type": "markdown",
   "metadata": {},
   "source": [
    "Remember the definition of least squares regression. We have a bunch of covariates $x_1,...,x_k$ and a response $y$. To predict the value of $y$, we find the vector $\\beta$ that minimizes the squared error distance between $y$ and $\\beta_0 + \\sum_{k=1}^{K} \\beta_{k} x_{k}$. In other words, we find the $\\beta$ that minimize\n",
    "$$\\sum_{i=1}^{n}\\left(y_{i}-[\\beta_{0}+\\sum_{k=1}^{K}\\beta_{k}x_{ki}]\\right)^{2}.$$\n"
   ]
  },
  {
   "cell_type": "markdown",
   "metadata": {},
   "source": [
    "\n",
    "Recall that we denote the vector $\\beta$ that minimizes this sum of squares by $\\hat{\\beta}$, so that the minimal sum of squares equals "
   ]
  },
  {
   "cell_type": "markdown",
   "metadata": {},
   "source": [
    "$$\n",
    "\\sum_{i=1}^{n}\\left(y_{i}-[\\hat{\\beta}_{0}+\\sum_{k=1}^{K}\\hat{\\beta}_{k}x_{ki}]\\right)^{2}.\n",
    "$$"
   ]
  },
  {
   "cell_type": "markdown",
   "metadata": {},
   "source": [
    "\n",
    "An alternative way of writing the minimal sum of squares is to use the `min` operator, which finds the minimum of the expression to its right. In our case, we find that \n",
    "$$\\min_\\beta \\sum_{i=1}^{n}\\left(y_{i}-[\\beta_{0}+\\sum_{k=1}^{K}\\beta_{k}x_{ki}]\\right)^{2} = \\sum_{i=1}^{n}\\left(y_{i}-[\\hat{\\beta}_{0}+\\sum_{k=1}^{K}\\hat{\\beta}_{k}x_{ki}]\\right)^2."
   ]
  },
  {
   "cell_type": "markdown",
   "metadata": {},
   "source": [
    "We're going through all of this right now because we will have to compare the sum of squares for different regression models."
   ]
  },
  {
   "cell_type": "markdown",
   "metadata": {},
   "source": [
    "### Defining the partial $R^2$"
   ]
  },
  {
   "cell_type": "markdown",
   "metadata": {},
   "source": [
    "Recall the formula for the $R^2$. Let $y = \\beta_0 + \\sum_{k=1}^{K} \\beta_kx_k + \\epsilon$ be a regression model. Then the $R^2$ is "
   ]
  },
  {
   "cell_type": "markdown",
   "metadata": {},
   "source": [
    "$$\n",
    "R^2 = 1-\\frac{\\sum_{i=1}^{n}\\left(y_{i}-[\\hat{\\beta}_{0}+\\sum_{k=1}^{K}\\hat{\\beta}_{k}x_{ki}]\\right)^{2}}{\\sum_{i=1}^{n}(y_{i}-\\overline{y})^{2}}.\n",
    "$$"
   ]
  },
  {
   "cell_type": "markdown",
   "metadata": {},
   "source": [
    "This $R^2$ compares the predictive power of using all the available covariates, $\\beta_0 + \\sum_{k=1}^{K} \\hat{\\beta_k}x_k$, to using none of all. To see why, observe that the denominator involves the mean $\\overline{y}$ since it is the best possible prediction of $y$, in the least squares sense, given no additional covariates. We may write"
   ]
  },
  {
   "cell_type": "markdown",
   "metadata": {},
   "source": [
    "$$\n",
    "R^2 = 1-\\frac{\\min_\\beta\\sum_{i=1}^{n}\\left(y_{i}-[{\\beta}_{0}+\\sum_{k=1}^{K}{\\beta}_{k}x_{ki}]\\right)^{2}}{\\min_\\beta\\sum_{i=1}^{n}(y_{i}-\\beta_0)^{2}}.\n",
    "$$"
   ]
  },
  {
   "cell_type": "markdown",
   "metadata": {},
   "source": [
    "A *partial $R^2$* compares the predictive power of using all covariates to using just a few of them. \n",
    "Let's consider the model $$y = \\beta_0 + \\beta_1 x_1 + \\beta_2 x_2 + \\epsilon.$$\n",
    "There are three partial $R^2\\textrm{s}$ in this model. The first compares the regression with both $x_1,x_2$ to the regression with only $x_1$:\n",
    "$$\n",
    "R_p^2 = 1-\\frac{\\min_\\beta \\sum_{i=1}^{n}\\left(y_{i}-[{\\beta}_{0}+{\\beta}_{1}x_{1i}+{\\beta}_{2}x_{2i}]\\right)^{2}}{\\min_\\beta\\sum_{i=1}^{n}(y_{i}-[{\\beta}_{0}+{\\beta}_{1}x_{1i}])^{2}}.\n",
    "$$"
   ]
  },
  {
   "cell_type": "markdown",
   "metadata": {},
   "source": [
    "The second compares the regression with both $x_1,x_2$ to the regression with only $x_2$:\n",
    "$$\n",
    "R_p^2 = 1-\\frac{\\min_\\beta \\sum_{i=1}^{n}\\left(y_{i}-[{\\beta}_{0}+{\\beta}_{1}x_{1i}+{\\beta}_{2}x_{2i}]\\right)^{2}}{\\min_\\beta\\sum_{i=1}^{n}(y_{i}-[{\\beta}_{0}+{\\beta}_{2}x_{2i}])^{2}}.\n",
    "$$"
   ]
  },
  {
   "cell_type": "markdown",
   "metadata": {},
   "source": [
    "And the final compares the regression with both $x_1,x_2$ to the regression with no covariates at all, which is the usual $R^2$."
   ]
  },
  {
   "cell_type": "markdown",
   "metadata": {},
   "source": [
    "This notion of partial $R^2$ can be generalized to larger regression models and any *subset* of the covariates $x_1, x_2, ..., x_k$. "
   ]
  },
  {
   "cell_type": "markdown",
   "metadata": {},
   "source": [
    "### Definition: Subset\n",
    "> Let $A$ be a set. Then $B$ is a subset of $A$, denoted $B \\subseteq A$, if and only if every member of $B$ is a member of $A$,"
   ]
  },
  {
   "cell_type": "markdown",
   "metadata": {},
   "source": [
    "For instance, $B = \\{1,2\\}$ is a subset of $A=\\{1,2,3\\}$, as both members of $B$, $1$ and $2$, are members of $A$ too. The set $C = \\{1,2, 4\\}$ is not a subset of $A$, as $4$ is not a member of $A$."
   ]
  },
  {
   "cell_type": "markdown",
   "metadata": {},
   "source": [
    "### Definition: Partial $R^2$\n",
    "> Let $y = \\beta_0 + \\sum_{k=1}^{K} \\beta_kx_k + \\epsilon$ be a regression model with $K$ covariates and let $J\\subset K$ be a subset of $K$. Then the partial $R^2$ of $J$ is \n",
    "> $$\n",
    "R_p^2 = 1-\\frac{\\min_\\beta\\sum_{i=1}^{n}\\left(y_{i}-[\\beta_{0}+\\sum_{k=1}^{K}\\beta_{k}x_{k}]\\right)^{2}}{\\min_\\beta\\sum_{i=1}^{n}(y_{i}-[\\beta_{0}+\\sum_{j \\in J}\\beta_{j}x_{j}])^{2}}.\n",
    "$$"
   ]
  },
  {
   "cell_type": "markdown",
   "metadata": {},
   "source": [
    "### Connecting the partial $R^2$ to interactions"
   ]
  },
  {
   "cell_type": "markdown",
   "metadata": {},
   "source": [
    "Let's go back to the problem of testing for interactions! The model with linear effects is \n",
    "$$\n",
    "y = \\beta_0 + \\sum_{i = 2}^{I} {\\beta^1_{i}1[x_1 = i]} + \\sum_{j = 2}^{J} {\\beta^2_{j} 1[x_2 = j]} + \\epsilon.\n",
    "$$"
   ]
  },
  {
   "cell_type": "markdown",
   "metadata": {},
   "source": [
    "\n",
    "And the model with interactions is\n",
    "$$\n",
    "y = \\beta_0 + \\sum_{i = 2}^{I} {\\beta^1_{i}1[x_1 = i]} + \\sum_{j = 2}^{J} {\\beta^2_{j} 1[x_2 = j]} + \\sum_{i = 2}^{I}\\sum_{j = 2}^{J} {\\beta^{1\\times2}_{ij} 1[x_1 = j]1[x_2=j]} + \\epsilon\n",
    "$$"
   ]
  },
  {
   "cell_type": "markdown",
   "metadata": {},
   "source": [
    "Now consider the partial $R^2$ of the interaction model vs the linear effects model.\n",
    "$$\n",
    "R_p^2 = 1-\\frac{\\min_\\beta\\sum_{i=1}^{n}(y_{i}-[\\beta_0 + \\sum_{i = 2}^{I} {\\beta^1_{i}1[x_1 = i]} + \\sum_{j = 2}^{J} {\\beta^2_{j} 1[x_2 = j]} + \\sum_{i = 2}^{I}\\sum_{j = 2}^{J} {\\beta^{1\\times2}_{ij} 1[x_1 = j]1[x_2=j]}])^{2}}{\\min_\\beta\\sum_{i=1}^{n}\\left(y_{i}-[\\beta_0 + \\sum_{i = 2}^{I} {\\beta^1_{i}1[x_1 = i]} + \\sum_{j = 2}^{J} {\\beta^2_{j} 1[x_2 = j]}]\\right)^{2}}.\n",
    "$$"
   ]
  },
  {
   "cell_type": "markdown",
   "metadata": {},
   "source": [
    "This expression looks complicated, but it's not too bad. The bottom model involves only the linear effects, the top model involves both the linear effects and the interaction effects. \n",
    "\n",
    "1. **What does this partial $R^2$ quantify?** \n",
    "   - It quantifies how much better we can predict $y$ using the interaction model compared to the linear effects model.\n",
    "2. **When is the population partial $R^2$ equal to $0$?** \n",
    "   - It equals $0$ if all the interaction terms $\\beta^{1\\times2}_{ij}$ are 0."
   ]
  },
  {
   "cell_type": "markdown",
   "metadata": {},
   "source": [
    "We can use this to construct a test of $H_0$ vs $H_a$ in the same way as in the last lecture by deducing the distribution of $R^2_p$. However, we will look at the distribution of a certain $F$ value instead of $R_p^2$, as this is what's usually done. "
   ]
  },
  {
   "cell_type": "markdown",
   "metadata": {},
   "source": [
    "As we discussed in the previous lecture, we will look at the $F$ value instead of the $R^2$. "
   ]
  },
  {
   "cell_type": "markdown",
   "metadata": {
    "id": "vUyTTojV_nTw"
   },
   "source": [
    "## Summary\n",
    "1. We can test if at least one of the coefficients $\\beta \\neq 0$ using the $F$-test.\n",
    "2. Using the $F$-test is equivalent to testing if the $R^2$ is greater than $0$.\n",
    "3. Interactions is the statistical term for a model involving products of two or more variables $x_1,x_2$, e.g. $y = \\beta x_1 + \\beta_{12} x_1 x_2$."
   ]
  }
 ],
 "metadata": {
  "interpreter": {
   "hash": "8214f72d23884c802e2dc6bec8e87b93e644d7518e94910628cfbca0d96cb336"
  },
  "kernelspec": {
   "display_name": "Python 3.9.7 64-bit (windows store)",
   "name": "python3"
  },
  "language_info": {
   "codemirror_mode": {
    "name": "ipython",
    "version": 3
   },
   "file_extension": ".py",
   "mimetype": "text/x-python",
   "name": "python",
   "nbconvert_exporter": "python",
   "pygments_lexer": "ipython3",
   "version": "3.9.7"
  },
  "orig_nbformat": 4
 },
 "nbformat": 4,
 "nbformat_minor": 2
}
