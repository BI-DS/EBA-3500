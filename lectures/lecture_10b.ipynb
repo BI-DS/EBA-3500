{
 "cells": [
  {
   "cell_type": "markdown",
   "metadata": {
    "id": "cXdeN6tD7Z7S"
   },
   "source": [
    "# EBA3500 Lecture 11. Expectation, consistency, and the adjusted $R^2$"
   ]
  },
  {
   "cell_type": "markdown",
   "metadata": {},
   "source": [
    "### Outline\n",
    "1. Mention the problem with default values etc.\n",
    "2. Expectation\n",
    "    * What it means.\n",
    "    * Small simulation to illustrate.\n",
    "    * The definition of an unbiased estimator.\n",
    "    * The betas in a regression are unbiased -- but most estimators are not ubiased.\n",
    "    * The estimator of the variance, $S^2$ is also unbiased. \n",
    "    * Unbiasedness is NOT important in most cases, but we are dealing with an exception now.\n",
    "2. Consistency of an estimator\n",
    "    * What it means.\n",
    "    * Small simulation to illustrate.\n",
    "    * Mathematical definition.\n",
    "    * Theorem: Variance going to 0 and unbiased implies consistency\n",
    "2. Adjusted $R^2$:\n",
    "    2. Why we have to adjust the $R^2$: A simulation example.\n",
    "    3. Why we adjust the $R^2$: A real example\n",
    "    4. The reasoning behind the adjustment. "
   ]
  },
  {
   "cell_type": "markdown",
   "metadata": {},
   "source": [
    "## Expectation\n",
    "Recall the expectation operator, which is the theoretical mean of the random variable."
   ]
  },
  {
   "cell_type": "markdown",
   "metadata": {},
   "source": [
    "#### Linearity of expectation\n",
    "Let $X_1, X_2$ be random variables and $a, b$ be numbers. Then\n",
    "$E(aX_1 + bX_2) = aEX_1+bEX_2$."
   ]
  },
  {
   "cell_type": "markdown",
   "metadata": {},
   "source": [
    "This definition is quite general. A function is linear if it acts like this. For instance, matrix multiplication is linear. "
   ]
  },
  {
   "cell_type": "markdown",
   "metadata": {},
   "source": [
    "### Estimator\n",
    "Let $\\theta$ be some population value, e.g., and expectation or a regression coefficient. This value is typically unknown. An estimator $\\hat{\\theta}_n$ is a statistical measurement, based on observed data, of this population value. Whenever we say a population value, think about input to the data-generating process: These are the exact values the creator of a simulation study decides on."
   ]
  },
  {
   "cell_type": "code",
   "execution_count": null,
   "metadata": {},
   "outputs": [],
   "source": [
    "#### Simulate regression model\n",
    "\n",
    "# Estimator of \\beta_0\n",
    "# Estimator of \\beta_1\n",
    "# Not an estimator; it's a population value.\n",
    "# Not an estimator, but a p-value."
   ]
  },
  {
   "cell_type": "markdown",
   "metadata": {},
   "source": [
    "#### Definition (Convergence in probability)\n",
    "> An estimator $\\hat{\\theta}_{n}$ converges in probability to $\\theta$ if $P(|\\hat{\\theta}_{n}-\\theta|>\\epsilon)\\to0$ for all $\\epsilon>0$ as $n\\to\\infty$."
   ]
  },
  {
   "cell_type": "markdown",
   "metadata": {},
   "source": [
    "#### Definition (Consistency)\n",
    "> An estimator $\\hat{\\theta}_n$ is *consistent* for $\\theta$ if it converges in probability to $\\theta$."
   ]
  },
  {
   "cell_type": "markdown",
   "metadata": {},
   "source": [
    "Consistency roughly means that the histogram of an estimator will concentrate aribtrarily well around the true value when $n\\to\\infty$.\n",
    " "
   ]
  },
  {
   "cell_type": "code",
   "execution_count": null,
   "metadata": {},
   "outputs": [],
   "source": [
    "## Simulate from the normal distribution\n",
    "\n",
    "## Simulate the median\n",
    "## Simulate the mean\n"
   ]
  },
  {
   "cell_type": "markdown",
   "metadata": {},
   "source": [
    "It appears that the median and mean are consistent for the $\\mu$ parameter in the normal distribution. This is, in fact, true. "
   ]
  },
  {
   "cell_type": "code",
   "execution_count": null,
   "metadata": {},
   "outputs": [],
   "source": [
    "## Simulate from the exponential distribution\n",
    "\n",
    "## Simulate the median\n",
    "## Simulate the mean"
   ]
  },
  {
   "cell_type": "markdown",
   "metadata": {},
   "source": [
    "We conclude, informally, that the sample median isn't consistent for the mean of the exponential distribution. Do you understand why? \n",
    "\n",
    "This isn't a course in mathematics, and proving consistency is often quite difficult. It is important, however, to know what it means."
   ]
  },
  {
   "cell_type": "markdown",
   "metadata": {},
   "source": [
    "#### Definition (Unbiased estimator)\n",
    "> An estimator is *unbiased* if $E(\\hat{\\theta}_n) = \\theta$."
   ]
  },
  {
   "cell_type": "markdown",
   "metadata": {},
   "source": [
    "Most popular estimators are not unbiased, and it is not an important property in most scenarios. For instance, the estimated regression coefficients in a logistic regression are not unbiased. Neither are the estimated regression coefficients when using least absolute deviations. However, the sampled variance \n",
    "$S^2 = \\frac{1}{n-1}\\sum (X_i - \\overline{X})^2$\n",
    "is unbiased."
   ]
  },
  {
   "cell_type": "markdown",
   "metadata": {},
   "source": [
    "### Proposition\n",
    "> Suppose the model conditions for the linear regression model holds true. Then the regression coefficients $\\beta_i$ are unbiased, have variance converging to $0$, and are consistent."
   ]
  },
  {
   "cell_type": "markdown",
   "metadata": {},
   "source": [
    "That an estimator $\\hat{\\theta}$ is unbiased and has variance converging to $0$ actually implies that $\\hat{\\theta}$ is consistent."
   ]
  },
  {
   "cell_type": "markdown",
   "metadata": {},
   "source": [
    "### Proposition\n",
    "> Suppose that $\\hat{\\theta}_n$ be unbiased for $\\theta$, i.e., $E(\\hat{\\theta}_n) = \\theta$. Moreover, suppose that the variance of $\\hat{\\theta}$ converges to $0$ as $n\\to\\infty$. Then $\\hat{\\theta}_n \\to \\theta$ in probability. In other words, $\\hat{\\theta}_n$ is consistent for $\\theta$."
   ]
  },
  {
   "cell_type": "markdown",
   "metadata": {},
   "source": [
    "##### Proof\n",
    "Let $\\sigma_{n}^{2}=\\textrm{Var}\\hat{\\theta}_{n}.$ By [Chebyshev's inequality](https://en.wikipedia.org/wiki/Chebyshev%27s_inequality),\n",
    "$$\n",
    "P(|\\hat{\\theta}_{n}-\\theta|\\geq\\epsilon)\\leq\\frac{\\sigma_{n}^{2}}{\\epsilon^{2}}.\n",
    "$$\n",
    "Let $\\epsilon$ be fixed. Since $\\sigma_{n}^{2}\\to0$ by assumption,\n",
    "$\\frac{\\sigma_{n}^{2}}{\\epsilon^{2}}\\to0$ as well. Then, since $P(|\\hat{\\theta}_{n}-\\theta|\\geq\\epsilon \\leq\\frac{\\sigma_{n}^{2}}{\\epsilon^{2}}$,\n",
    "we find that $P(|\\hat{\\theta}_{n}-\\theta|\\geq\\epsilon)$ too."
   ]
  },
  {
   "cell_type": "markdown",
   "metadata": {},
   "source": [
    "### Corollary: Law of large numbers\n",
    "Assume $X_n$ is a sequence of identically distributed variables with common mean $\\mu$ and finite variance $\\sigma^2$. Let $\\overline{X}_n$ denote the mean, $\\overline{X}_n = n^{-1}\\sum_{i=1}^n{X_i}$. Then $X_n\\to\\mu$."
   ]
  },
  {
   "cell_type": "markdown",
   "metadata": {},
   "source": [
    "#### Proof\n",
    "Exercise.\n"
   ]
  },
  {
   "cell_type": "markdown",
   "metadata": {},
   "source": [
    "## Adjusted $R^2$\n",
    "\n",
    "### Constructing the adjusted $R^2$"
   ]
  },
  {
   "cell_type": "markdown",
   "metadata": {},
   "source": [
    "## Summary\n",
    "1. The expectation of a random variable $X$ is denoted by $E(X)$, and equals the theorotical mean of random variable $X$.\n",
    "2. An estimator approximates a population value based on observed data.\n",
    "3. An estimator is *consistent* if it approximates the population value arbitrarily well as $n\\to \\infty$.\n",
    "4. An estimator $\\hat{\\theta}_n$ is *unbiased* if it equals $\\theta$ in expectation, i.e., $E[\\hat{\\theta}_n]=\\theta$.\n",
    "5. Unbiased estimatation is not important, but it makes sense to correct the $R^2$ for bias.\n",
    "6. One attempt at bias-corrected $R^2$ is the adjusted $R^2$."
   ]
  }
 ],
 "metadata": {
  "interpreter": {
   "hash": "8214f72d23884c802e2dc6bec8e87b93e644d7518e94910628cfbca0d96cb336"
  },
  "kernelspec": {
   "display_name": "Python 3.9.7 64-bit (windows store)",
   "name": "python3"
  },
  "language_info": {
   "codemirror_mode": {
    "name": "ipython",
    "version": 3
   },
   "file_extension": ".py",
   "mimetype": "text/x-python",
   "name": "python",
   "nbconvert_exporter": "python",
   "pygments_lexer": "ipython3",
   "version": "3.9.7"
  },
  "orig_nbformat": 4
 },
 "nbformat": 4,
 "nbformat_minor": 2
}
