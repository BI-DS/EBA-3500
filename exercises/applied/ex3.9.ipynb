{
  "cells": [
    {
      "cell_type": "raw",
      "metadata": {},
      "source": [
        "---\n",
        "title: Solution to exercise 3.2\n",
        "author: Jonas Moss\n",
        "date: last-modified\n",
        "execute:\n",
        "  echo: true\n",
        "reference-location: margin\n",
        "citation-location: margin\n",
        "---"
      ],
      "id": "a50b4f3b"
    },
    {
      "cell_type": "markdown",
      "metadata": {},
      "source": [
        "This is a continuation of exercise (...).\n",
        "::: {.callout-note icon=false appearance=\"simple\"} \n",
        "## Description\n",
        "This question involves the use of multiple linear regression on the Auto data set.\n",
        ":::\n"
      ],
      "id": "8e3c5722"
    },
    {
      "cell_type": "code",
      "metadata": {},
      "source": [
        "#| echo: False\n",
        "auto = pd.read_csv(\"data/Auto.csv\", na_values=\"?\", index_col=\"name\").dropna()\n",
        "auto.replace({\"origin\": {1: \"American\", 2: \"European\", 3: \"Japanese\"}}, inplace = True)\n",
        "auto.head()"
      ],
      "id": "f4781376",
      "execution_count": null,
      "outputs": []
    },
    {
      "cell_type": "markdown",
      "metadata": {},
      "source": [
        "## (a)"
      ],
      "id": "e5a63bd8"
    },
    {
      "cell_type": "code",
      "metadata": {},
      "source": [
        "auto.corr(numeric_only=True).style.background_gradient(cmap='coolwarm', axis=None).format(precision=2)"
      ],
      "id": "58d3d02b",
      "execution_count": null,
      "outputs": []
    }
  ],
  "metadata": {
    "kernelspec": {
      "name": "python3",
      "language": "python",
      "display_name": "Python 3 (ipykernel)"
    }
  },
  "nbformat": 4,
  "nbformat_minor": 5
}